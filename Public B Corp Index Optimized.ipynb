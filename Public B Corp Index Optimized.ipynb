{
 "cells": [
  {
   "cell_type": "code",
   "execution_count": 44,
   "id": "e662206f",
   "metadata": {},
   "outputs": [],
   "source": [
    "import pandas as pd\n",
    "import numpy as np\n",
    "from datetime import datetime as dt\n",
    "from datetime import timedelta\n",
    "import random\n",
    "\n",
    "import matplotlib.pyplot as plt\n",
    "import matplotlib as mpl\n",
    "import seaborn as sns"
   ]
  },
  {
   "cell_type": "code",
   "execution_count": 45,
   "id": "0827be90",
   "metadata": {},
   "outputs": [],
   "source": [
    "import yfinance as yf\n",
    "import requests\n",
    "import json"
   ]
  },
  {
   "cell_type": "code",
   "execution_count": 46,
   "id": "321f1bb8",
   "metadata": {},
   "outputs": [],
   "source": [
    "s = '2022-01-04'\n",
    "e = '2024-04-22'\n",
    "\n",
    "download = False"
   ]
  },
  {
   "cell_type": "code",
   "execution_count": 47,
   "id": "0aa9fecb",
   "metadata": {
    "scrolled": true
   },
   "outputs": [],
   "source": [
    "def load_B_corp():\n",
    "    df = pd.read_csv(\"https://query.data.world/s/pzd7uazpmpyortmg6fsuxiaoizllgu?dws=00000\", encoding='ISO-8859-1')\n",
    "    df.drop(['B Corp Impact Data ID', 'Ticker 2', 'Ticker 3'], axis=1, inplace = True)\n",
    "\n",
    "    df.dropna(axis=0, subset=['Public Company Name (As Listed on Exchange)'], inplace=True)\n",
    "    print(\"Initial load =\", len(df), \"companies\")\n",
    "    \n",
    "    temp = df.copy()\n",
    "    temp = temp[temp['Public Listing Status'] == 'active']\n",
    "\n",
    "    temp['Ticker 1'].replace(\": \", \":\", regex=True, inplace=True)\n",
    "\n",
    "    temp['Exchange'] = temp['Ticker 1'].str.split(\":\").str[0]\n",
    "    temp['Ticker2'] = temp['Ticker 1'].str.split(\":\").str[1]\n",
    "    temp.dropna(subset=[\"Ticker2\"], inplace=True) # Remove any NaN tickers\n",
    "    print(\"There are\", len(temp), \"companies after cleaning\")\n",
    "    \n",
    "    return temp"
   ]
  },
  {
   "cell_type": "markdown",
   "id": "e3516c77",
   "metadata": {},
   "source": [
    "### Stocks are from Global Exchanges - build and maintain an exchange conversion dictionary to interface with Yahoo Finance"
   ]
  },
  {
   "cell_type": "code",
   "execution_count": 48,
   "id": "bfe2b04b",
   "metadata": {},
   "outputs": [],
   "source": [
    "exchange_dict = {'ASX': '.AX', \n",
    "                 'WSE': '.WA',\n",
    "                 'BOVESPA': '.SA',\n",
    "                 'ETHEX': '',\n",
    "                 'TSX': '.TO',\n",
    "                 'ENXTPA': '.PA',\n",
    "                 'BME': '.MC',\n",
    "                 'ENXTBR': '.BR',\n",
    "                 'KLSE': '.KL',\n",
    "                 'LSE': '.L',\n",
    "                 'TWSE': '.TW',\n",
    "                 'NZSE': '.NZ',\n",
    "                 'SGX': '.SI',\n",
    "                 'BIT': '.MI',\n",
    "                 'TASE': '.TA',\n",
    "                 'XMIL': '.MI',\n",
    "                 'NZE': '.NZ',\n",
    "                 'BVMF': '.SA',\n",
    "                 'HKG': '.HK',\n",
    "                 'LON': '.L',\n",
    "                 'MIL': '.MI',\n",
    "                 'MOVI3': '.SA',\n",
    "                 'TSE': '.T',\n",
    "                 'BRK': '.L',\n",
    "                 'SNSE': '.SN',\n",
    "                 'MOVIDA B3': '.SA',\n",
    "                 'NYSE': '',\n",
    "                 'NASDAQGS': '',\n",
    "                 'NASDAQGM': '',\n",
    "                 'NASDAQCM': ''\n",
    "                }\n",
    "\n",
    "exchange_map = {exchanges: extention\n",
    "                 for exchanges, extention in exchange_dict.items()\n",
    "                 for exchange in exchanges}\n"
   ]
  },
  {
   "cell_type": "code",
   "execution_count": 49,
   "id": "cbb20ec1",
   "metadata": {},
   "outputs": [],
   "source": [
    "def map_exchange (df):\n",
    "    df['Intl Extention'] = df['Exchange'].map(exchange_map)\n",
    "    \n",
    "    # Check to see if we missed any:\n",
    "    df['Ticker'] = df['Ticker2'] + df['Intl Extention'] \n",
    "    mask = df['Ticker'].isna()\n",
    "    \n",
    "    print(\"Add exchanges to map:\")\n",
    "    display(df[mask])\n",
    "    \n",
    "    return df"
   ]
  },
  {
   "cell_type": "code",
   "execution_count": 50,
   "id": "1d05940c",
   "metadata": {
    "scrolled": true
   },
   "outputs": [],
   "source": [
    "def check_nans(df):\n",
    "    tickers = df['Ticker'].to_list()\n",
    "\n",
    "    count = 0\n",
    "    for t in tickers:\n",
    "        try:\n",
    "            ticker = yf.Ticker(t)\n",
    "            info = None\n",
    "        except:\n",
    "            count +=1\n",
    "            print(f\"Cannot get info of {t}, it probably does not exist\")\n",
    "\n",
    "    print(\"Total nans =\", count, \"which is\", round(count/df.shape[0],2)*100, '% of the total')\n",
    "    \n",
    "    # Remove NaNs:\n",
    "    return df[-mask]\n",
    "    "
   ]
  },
  {
   "cell_type": "code",
   "execution_count": 52,
   "id": "8df3c958",
   "metadata": {
    "scrolled": false
   },
   "outputs": [
    {
     "name": "stdout",
     "output_type": "stream",
     "text": [
      "Initial load = 68 companies\n",
      "There are 62 companies after cleaning\n",
      "Add exchanges to map:\n"
     ]
    },
    {
     "data": {
      "text/html": [
       "<div>\n",
       "<style scoped>\n",
       "    .dataframe tbody tr th:only-of-type {\n",
       "        vertical-align: middle;\n",
       "    }\n",
       "\n",
       "    .dataframe tbody tr th {\n",
       "        vertical-align: top;\n",
       "    }\n",
       "\n",
       "    .dataframe thead th {\n",
       "        text-align: right;\n",
       "    }\n",
       "</style>\n",
       "<table border=\"1\" class=\"dataframe\">\n",
       "  <thead>\n",
       "    <tr style=\"text-align: right;\">\n",
       "      <th></th>\n",
       "      <th>Public Company Name (As Listed on Exchange)</th>\n",
       "      <th>Ticker 1</th>\n",
       "      <th>IPO Year</th>\n",
       "      <th>Year Delisted</th>\n",
       "      <th>Year Certified</th>\n",
       "      <th>Public Listing Status</th>\n",
       "      <th>Year Decertified</th>\n",
       "      <th>Exchange</th>\n",
       "      <th>Ticker2</th>\n",
       "      <th>Intl Extention</th>\n",
       "      <th>Ticker</th>\n",
       "    </tr>\n",
       "  </thead>\n",
       "  <tbody>\n",
       "    <tr>\n",
       "      <th>19</th>\n",
       "      <td>Heidelberg District Community Enterprise Limited</td>\n",
       "      <td>NSX:EIC</td>\n",
       "      <td>2019.0</td>\n",
       "      <td>NaN</td>\n",
       "      <td>2019.0</td>\n",
       "      <td>active</td>\n",
       "      <td>NaN</td>\n",
       "      <td>NSX</td>\n",
       "      <td>EIC</td>\n",
       "      <td>NaN</td>\n",
       "      <td>NaN</td>\n",
       "    </tr>\n",
       "    <tr>\n",
       "      <th>36</th>\n",
       "      <td>SIDERPERU</td>\n",
       "      <td>BVL:SIDERC1</td>\n",
       "      <td>2006.0</td>\n",
       "      <td>NaN</td>\n",
       "      <td>2022.0</td>\n",
       "      <td>active</td>\n",
       "      <td>NaN</td>\n",
       "      <td>BVL</td>\n",
       "      <td>SIDERC1</td>\n",
       "      <td>NaN</td>\n",
       "      <td>NaN</td>\n",
       "    </tr>\n",
       "    <tr>\n",
       "      <th>41</th>\n",
       "      <td>Urb-it AB (publ)</td>\n",
       "      <td>OM:URBIT</td>\n",
       "      <td>2017.0</td>\n",
       "      <td>NaN</td>\n",
       "      <td>2020.0</td>\n",
       "      <td>active</td>\n",
       "      <td>NaN</td>\n",
       "      <td>OM</td>\n",
       "      <td>URBIT</td>\n",
       "      <td>NaN</td>\n",
       "      <td>NaN</td>\n",
       "    </tr>\n",
       "    <tr>\n",
       "      <th>48</th>\n",
       "      <td>Weleda AG Group</td>\n",
       "      <td>OTC-X:BEKB:Weleda N-PS</td>\n",
       "      <td>NaN</td>\n",
       "      <td>NaN</td>\n",
       "      <td>2021.0</td>\n",
       "      <td>active</td>\n",
       "      <td>NaN</td>\n",
       "      <td>OTC-X</td>\n",
       "      <td>BEKB</td>\n",
       "      <td>NaN</td>\n",
       "      <td>NaN</td>\n",
       "    </tr>\n",
       "    <tr>\n",
       "      <th>56</th>\n",
       "      <td>Vinedos Emiliana S.A.</td>\n",
       "      <td>XSGO:EMILIANA</td>\n",
       "      <td>1996.0</td>\n",
       "      <td>NaN</td>\n",
       "      <td>2023.0</td>\n",
       "      <td>active</td>\n",
       "      <td>NaN</td>\n",
       "      <td>XSGO</td>\n",
       "      <td>EMILIANA</td>\n",
       "      <td>NaN</td>\n",
       "      <td>NaN</td>\n",
       "    </tr>\n",
       "  </tbody>\n",
       "</table>\n",
       "</div>"
      ],
      "text/plain": [
       "         Public Company Name (As Listed on Exchange)                Ticker 1  \\\n",
       "19  Heidelberg District Community Enterprise Limited                 NSX:EIC   \n",
       "36                                         SIDERPERU             BVL:SIDERC1   \n",
       "41                                  Urb-it AB (publ)                OM:URBIT   \n",
       "48                                   Weleda AG Group  OTC-X:BEKB:Weleda N-PS   \n",
       "56                             Vinedos Emiliana S.A.           XSGO:EMILIANA   \n",
       "\n",
       "    IPO Year  Year Delisted  Year Certified Public Listing Status  \\\n",
       "19    2019.0            NaN          2019.0                active   \n",
       "36    2006.0            NaN          2022.0                active   \n",
       "41    2017.0            NaN          2020.0                active   \n",
       "48       NaN            NaN          2021.0                active   \n",
       "56    1996.0            NaN          2023.0                active   \n",
       "\n",
       "    Year Decertified Exchange   Ticker2 Intl Extention Ticker  \n",
       "19               NaN      NSX       EIC            NaN    NaN  \n",
       "36               NaN      BVL   SIDERC1            NaN    NaN  \n",
       "41               NaN       OM     URBIT            NaN    NaN  \n",
       "48               NaN    OTC-X      BEKB            NaN    NaN  \n",
       "56               NaN     XSGO  EMILIANA            NaN    NaN  "
      ]
     },
     "metadata": {},
     "output_type": "display_data"
    },
    {
     "name": "stdout",
     "output_type": "stream",
     "text": [
      "Cannot get info of nan, it probably does not exist\n",
      "Cannot get info of nan, it probably does not exist\n",
      "Cannot get info of nan, it probably does not exist\n",
      "Cannot get info of nan, it probably does not exist\n",
      "Cannot get info of nan, it probably does not exist\n",
      "Total nans = 5 which is 8.0 % of the total\n"
     ]
    }
   ],
   "source": [
    "data = load_B_corp()\n",
    "data = map_exchange(data)\n",
    "\n",
    "b_corp_df = check_nans(data)"
   ]
  },
  {
   "cell_type": "code",
   "execution_count": null,
   "id": "31328d61",
   "metadata": {},
   "outputs": [],
   "source": [
    "isolate_us = False"
   ]
  },
  {
   "cell_type": "code",
   "execution_count": 13,
   "id": "3d5d33b3",
   "metadata": {
    "scrolled": true
   },
   "outputs": [],
   "source": [
    "if isolate_us:\n",
    "\n",
    "    exchanges = set(b_corp_df['Exchange'])\n",
    "    us_ex = ['NYSE', 'NASDAQGS','NASDAQGM', 'NASDAQCM']\n",
    "    us = b_corp_df[b_corp_df['Exchange'].isin(us_ex)]\n",
    "    print(\"Isolating US Companies\")\n",
    "    display(us.head())\n"
   ]
  },
  {
   "cell_type": "code",
   "execution_count": null,
   "id": "79061157",
   "metadata": {},
   "outputs": [],
   "source": []
  },
  {
   "cell_type": "code",
   "execution_count": 14,
   "id": "e581d5a5",
   "metadata": {
    "scrolled": true
   },
   "outputs": [],
   "source": [
    "public_subs = ['UL', 'SOMA3.SA', 'ABI.BR', 'PG', 'FFH.TO', 'KO', 'GPS', 'KIK.F', 'NESN.SW',\n",
    "               'OPY', '4755.T', 'HAIN', 'DANOY', 'CABK.MC', 'ISUN']"
   ]
  },
  {
   "cell_type": "code",
   "execution_count": 15,
   "id": "5a75f5fb",
   "metadata": {},
   "outputs": [],
   "source": [
    "def get_stock_data (df, add_subs = False):\n",
    "    tickers_list = df['Ticker'].tolist()\n",
    "    if add_subs:\n",
    "        tickers_list = tickers_list + public_subs\n",
    "    tickers_data= {}\n",
    "    \n",
    "    for ticker in tickers_list:\n",
    "        ticker_object = yf.Ticker(ticker)\n",
    "        \n",
    "        #convert info() output from dictionary to dataframe\n",
    "        temp = pd.DataFrame.from_dict(ticker_object.info, orient=\"index\")\n",
    "        temp.reset_index(inplace=True)\n",
    "        temp.columns = [\"Attribute\", \"Recent\"]\n",
    "\n",
    "        # add (ticker, dataframe) to main dictionary\n",
    "        tickers_data[ticker] = temp\n",
    "\n",
    "    return tickers_data\n",
    "        \n",
    "        "
   ]
  },
  {
   "cell_type": "code",
   "execution_count": 16,
   "id": "0c8902c1",
   "metadata": {},
   "outputs": [
    {
     "name": "stderr",
     "output_type": "stream",
     "text": [
      "404 Client Error: Not Found for url: https://query2.finance.yahoo.com/v10/finance/quoteSummary/SZL.AX?modules=financialData%2CquoteType%2CdefaultKeyStatistics%2CassetProfile%2CsummaryDetail&corsDomain=finance.yahoo.com&formatted=false&symbol=SZL.AX&crumb=I36BWyifig.\n"
     ]
    },
    {
     "name": "stdout",
     "output_type": "stream",
     "text": [
      "Number of Stock Records Loaded 57\n"
     ]
    }
   ],
   "source": [
    "if isolate_us:\n",
    "    load_stock_data = get_stock_data (us)\n",
    "else:\n",
    "    load_stock_data = get_stock_data (b_corp_df)\n",
    "    \n",
    "print(\"Number of Stock Records Loaded\", len(load_stock_data))"
   ]
  },
  {
   "cell_type": "code",
   "execution_count": null,
   "id": "d8016fc9",
   "metadata": {},
   "outputs": [],
   "source": []
  },
  {
   "cell_type": "code",
   "execution_count": 17,
   "id": "10f5e7a3",
   "metadata": {
    "scrolled": true
   },
   "outputs": [
    {
     "data": {
      "text/html": [
       "<div>\n",
       "<style scoped>\n",
       "    .dataframe tbody tr th:only-of-type {\n",
       "        vertical-align: middle;\n",
       "    }\n",
       "\n",
       "    .dataframe tbody tr th {\n",
       "        vertical-align: top;\n",
       "    }\n",
       "\n",
       "    .dataframe thead th {\n",
       "        text-align: right;\n",
       "    }\n",
       "</style>\n",
       "<table border=\"1\" class=\"dataframe\">\n",
       "  <thead>\n",
       "    <tr style=\"text-align: right;\">\n",
       "      <th></th>\n",
       "      <th>Ticker</th>\n",
       "      <th>Attribute</th>\n",
       "      <th>Recent</th>\n",
       "    </tr>\n",
       "  </thead>\n",
       "  <tbody>\n",
       "    <tr>\n",
       "      <th>0</th>\n",
       "      <td>BIRD</td>\n",
       "      <td>country</td>\n",
       "      <td>United States</td>\n",
       "    </tr>\n",
       "    <tr>\n",
       "      <th>1</th>\n",
       "      <td>BIRD</td>\n",
       "      <td>website</td>\n",
       "      <td>https://www.allbirds.com</td>\n",
       "    </tr>\n",
       "    <tr>\n",
       "      <th>2</th>\n",
       "      <td>BIRD</td>\n",
       "      <td>industry</td>\n",
       "      <td>Apparel Retail</td>\n",
       "    </tr>\n",
       "    <tr>\n",
       "      <th>3</th>\n",
       "      <td>BIRD</td>\n",
       "      <td>sector</td>\n",
       "      <td>Consumer Cyclical</td>\n",
       "    </tr>\n",
       "    <tr>\n",
       "      <th>4</th>\n",
       "      <td>BIRD</td>\n",
       "      <td>previousClose</td>\n",
       "      <td>0.6116</td>\n",
       "    </tr>\n",
       "    <tr>\n",
       "      <th>5</th>\n",
       "      <td>BIRD</td>\n",
       "      <td>marketCap</td>\n",
       "      <td>99362312</td>\n",
       "    </tr>\n",
       "    <tr>\n",
       "      <th>6</th>\n",
       "      <td>BIRD</td>\n",
       "      <td>currency</td>\n",
       "      <td>USD</td>\n",
       "    </tr>\n",
       "    <tr>\n",
       "      <th>7</th>\n",
       "      <td>BIRD</td>\n",
       "      <td>enterpriseValue</td>\n",
       "      <td>58830720</td>\n",
       "    </tr>\n",
       "    <tr>\n",
       "      <th>8</th>\n",
       "      <td>BIRD</td>\n",
       "      <td>sharesOutstanding</td>\n",
       "      <td>103291000</td>\n",
       "    </tr>\n",
       "    <tr>\n",
       "      <th>9</th>\n",
       "      <td>BIRD</td>\n",
       "      <td>impliedSharesOutstanding</td>\n",
       "      <td>155838000</td>\n",
       "    </tr>\n",
       "    <tr>\n",
       "      <th>10</th>\n",
       "      <td>BIRD</td>\n",
       "      <td>trailingEps</td>\n",
       "      <td>-1.01</td>\n",
       "    </tr>\n",
       "    <tr>\n",
       "      <th>11</th>\n",
       "      <td>BIRD</td>\n",
       "      <td>forwardEps</td>\n",
       "      <td>-0.57</td>\n",
       "    </tr>\n",
       "    <tr>\n",
       "      <th>12</th>\n",
       "      <td>BIRD</td>\n",
       "      <td>shortName</td>\n",
       "      <td>Allbirds, Inc.</td>\n",
       "    </tr>\n",
       "    <tr>\n",
       "      <th>13</th>\n",
       "      <td>BIRD</td>\n",
       "      <td>longName</td>\n",
       "      <td>Allbirds, Inc.</td>\n",
       "    </tr>\n",
       "    <tr>\n",
       "      <th>14</th>\n",
       "      <td>BIRD</td>\n",
       "      <td>ebitda</td>\n",
       "      <td>-97849000</td>\n",
       "    </tr>\n",
       "  </tbody>\n",
       "</table>\n",
       "</div>"
      ],
      "text/plain": [
       "   Ticker                 Attribute                    Recent\n",
       "0    BIRD                   country             United States\n",
       "1    BIRD                   website  https://www.allbirds.com\n",
       "2    BIRD                  industry            Apparel Retail\n",
       "3    BIRD                    sector         Consumer Cyclical\n",
       "4    BIRD             previousClose                    0.6116\n",
       "5    BIRD                 marketCap                  99362312\n",
       "6    BIRD                  currency                       USD\n",
       "7    BIRD           enterpriseValue                  58830720\n",
       "8    BIRD         sharesOutstanding                 103291000\n",
       "9    BIRD  impliedSharesOutstanding                 155838000\n",
       "10   BIRD               trailingEps                     -1.01\n",
       "11   BIRD                forwardEps                     -0.57\n",
       "12   BIRD                 shortName            Allbirds, Inc.\n",
       "13   BIRD                  longName            Allbirds, Inc.\n",
       "14   BIRD                    ebitda                 -97849000"
      ]
     },
     "metadata": {},
     "output_type": "display_data"
    }
   ],
   "source": [
    "# Clean df:\n",
    "stock_data = pd.concat(load_stock_data) #turn from dict to df\n",
    "stock_data = stock_data.reset_index()\n",
    "\n",
    "del stock_data[\"level_1\"] # clean up unnecessary column\n",
    "stock_data.columns = [\"Ticker\", \"Attribute\", \"Recent\"] # update column names\n",
    "\n",
    "\n",
    "attr_to_keep = ['shortName', 'longName', 'industry', 'sector','previousClose', 'sharesOutstanding', 'impliedSharesOutstanding',\n",
    "               'marketCap',  'currency', 'country', 'website', 'enterpriseValue',\n",
    "                'trailingEps', 'forwardEps', 'enterprisetoEbitda', 'ebitda', 'grossMargins', 'ebitdaMargins', 'operatingMargins']\n",
    "\n",
    "\n",
    "stock_data = stock_data[stock_data[\"Attribute\"].isin(attr_to_keep)].reset_index()\n",
    "del stock_data[\"index\"] # clean up unnecessary column\n",
    "\n",
    "\n",
    "\n",
    "display(stock_data.head(15))"
   ]
  },
  {
   "cell_type": "code",
   "execution_count": 18,
   "id": "56aeca27",
   "metadata": {
    "scrolled": true
   },
   "outputs": [
    {
     "name": "stdout",
     "output_type": "stream",
     "text": [
      "Number of Stocks: 54\n"
     ]
    },
    {
     "data": {
      "text/plain": [
       "array(['BIRD', 'AMAL', 'ARZZ3.SA', 'AEF.AX', 'BFT.WA', 'BIO.AX',\n",
       "       'CWEB.TO', 'CLSA3.SA', 'MLMFI.PA', 'COUR', 'FLOW.TO', 'FREY.PA',\n",
       "       'GFI.NZ', 'GROV', 'HAN.MC', 'HLZ.MC', 'INCLU.BR', 'IBAB.BR',\n",
       "       'KPG.AX', 'KCT.L', 'KMD.NZ', 'LMND', 'LFG.AX', 'MOVI3.SA',\n",
       "       'NTCO3.SA', '2897.TW', '1H2.SI', 'ALQP.PA', 'RETI.MI', '6088.T',\n",
       "       'SML.NZ', 'COCO', 'VNT.MI', 'CONCHATORO.SN', 'VITL', 'VVPR',\n",
       "       'VHT.AX', 'WRBY', 'ZVIA', 'ABB.AX', 'TIME.MI', 'CVT.NZ', 'DOX.MI',\n",
       "       'SOMA3.SA', '1112.HK', 'HMGS.TA', '1346.HK', '0973.HK', 'MME.AX',\n",
       "       'MPR.AX', 'TENG.L', 'TPX.L', 'XSG.L', 'XHS.MI'], dtype=object)"
      ]
     },
     "metadata": {},
     "output_type": "display_data"
    }
   ],
   "source": [
    "print(\"Number of Stocks:\", len(stock_data['Ticker'].unique()))\n",
    "display(stock_data['Ticker'].unique())"
   ]
  },
  {
   "cell_type": "code",
   "execution_count": 19,
   "id": "cc88ef74",
   "metadata": {},
   "outputs": [
    {
     "data": {
      "text/html": [
       "<div>\n",
       "<style scoped>\n",
       "    .dataframe tbody tr th:only-of-type {\n",
       "        vertical-align: middle;\n",
       "    }\n",
       "\n",
       "    .dataframe tbody tr th {\n",
       "        vertical-align: top;\n",
       "    }\n",
       "\n",
       "    .dataframe thead th {\n",
       "        text-align: right;\n",
       "    }\n",
       "</style>\n",
       "<table border=\"1\" class=\"dataframe\">\n",
       "  <thead>\n",
       "    <tr style=\"text-align: right;\">\n",
       "      <th>Attribute</th>\n",
       "      <th>shortName</th>\n",
       "      <th>longName</th>\n",
       "      <th>country</th>\n",
       "      <th>currency</th>\n",
       "      <th>previousClose</th>\n",
       "      <th>impliedSharesOutstanding</th>\n",
       "      <th>marketCap</th>\n",
       "      <th>industry</th>\n",
       "      <th>sector</th>\n",
       "      <th>website</th>\n",
       "    </tr>\n",
       "    <tr>\n",
       "      <th>Ticker</th>\n",
       "      <th></th>\n",
       "      <th></th>\n",
       "      <th></th>\n",
       "      <th></th>\n",
       "      <th></th>\n",
       "      <th></th>\n",
       "      <th></th>\n",
       "      <th></th>\n",
       "      <th></th>\n",
       "      <th></th>\n",
       "    </tr>\n",
       "  </thead>\n",
       "  <tbody>\n",
       "    <tr>\n",
       "      <th>0973.HK</th>\n",
       "      <td>L'OCCITANE</td>\n",
       "      <td>L'Occitane International S.A.</td>\n",
       "      <td>Luxembourg</td>\n",
       "      <td>HKD</td>\n",
       "      <td>32.25</td>\n",
       "      <td>1472169984</td>\n",
       "      <td>47992737792</td>\n",
       "      <td>Household &amp; Personal Products</td>\n",
       "      <td>Consumer Defensive</td>\n",
       "      <td>https://group.loccitane.com</td>\n",
       "    </tr>\n",
       "    <tr>\n",
       "      <th>1112.HK</th>\n",
       "      <td>H&amp;H INTL HLDG</td>\n",
       "      <td>Health and Happiness (H&amp;H) International Holdi...</td>\n",
       "      <td>Hong Kong</td>\n",
       "      <td>HKD</td>\n",
       "      <td>9.94</td>\n",
       "      <td>645561024</td>\n",
       "      <td>6688011776</td>\n",
       "      <td>Packaged Foods</td>\n",
       "      <td>Consumer Defensive</td>\n",
       "      <td>https://www.hh.global</td>\n",
       "    </tr>\n",
       "    <tr>\n",
       "      <th>1346.HK</th>\n",
       "      <td>LEVER STYLE</td>\n",
       "      <td>Lever Style Corporation</td>\n",
       "      <td>Hong Kong</td>\n",
       "      <td>HKD</td>\n",
       "      <td>0.89</td>\n",
       "      <td>645899008</td>\n",
       "      <td>549626048</td>\n",
       "      <td>Apparel Manufacturing</td>\n",
       "      <td>Consumer Cyclical</td>\n",
       "      <td>https://www.leverstyle.com</td>\n",
       "    </tr>\n",
       "    <tr>\n",
       "      <th>1H2.SI</th>\n",
       "      <td>$ Olive Tree</td>\n",
       "      <td>Olive Tree Estates Limited</td>\n",
       "      <td>Singapore</td>\n",
       "      <td>SGD</td>\n",
       "      <td>0.08</td>\n",
       "      <td>115845000</td>\n",
       "      <td>9267600</td>\n",
       "      <td>Real Estate - Diversified</td>\n",
       "      <td>Real Estate</td>\n",
       "      <td>https://www.olivetreeestates.com</td>\n",
       "    </tr>\n",
       "    <tr>\n",
       "      <th>2897.TW</th>\n",
       "      <td>O-BANK CO LTD</td>\n",
       "      <td>O-Bank Co., Ltd.</td>\n",
       "      <td>Taiwan</td>\n",
       "      <td>TWD</td>\n",
       "      <td>10.0</td>\n",
       "      <td>2716470016</td>\n",
       "      <td>27572168704</td>\n",
       "      <td>Banks - Regional</td>\n",
       "      <td>Financial Services</td>\n",
       "      <td>https://www.o-bank.com</td>\n",
       "    </tr>\n",
       "    <tr>\n",
       "      <th>6088.T</th>\n",
       "      <td>SIGMAXYZ HOLDINGS INC</td>\n",
       "      <td>SIGMAXYZ Holdings Inc.</td>\n",
       "      <td>Japan</td>\n",
       "      <td>JPY</td>\n",
       "      <td>1547.0</td>\n",
       "      <td>43137600</td>\n",
       "      <td>65001107456</td>\n",
       "      <td>Specialty Business Services</td>\n",
       "      <td>Industrials</td>\n",
       "      <td>https://www.sigmaxyz.com</td>\n",
       "    </tr>\n",
       "    <tr>\n",
       "      <th>ABB.AX</th>\n",
       "      <td>AUSSIEBAND FPO [ABB]</td>\n",
       "      <td>Aussie Broadband Limited</td>\n",
       "      <td>Australia</td>\n",
       "      <td>AUD</td>\n",
       "      <td>3.73</td>\n",
       "      <td>297591008</td>\n",
       "      <td>1151221504</td>\n",
       "      <td>Telecom Services</td>\n",
       "      <td>Communication Services</td>\n",
       "      <td>https://www.aussiebroadband.com.au</td>\n",
       "    </tr>\n",
       "    <tr>\n",
       "      <th>AEF.AX</th>\n",
       "      <td>A ETHICAL FPO [AEF]</td>\n",
       "      <td>Australian Ethical Investment Limited</td>\n",
       "      <td>Australia</td>\n",
       "      <td>AUD</td>\n",
       "      <td>4.54</td>\n",
       "      <td>112782000</td>\n",
       "      <td>517669408</td>\n",
       "      <td>Asset Management</td>\n",
       "      <td>Financial Services</td>\n",
       "      <td>https://www.australianethical.com.au</td>\n",
       "    </tr>\n",
       "    <tr>\n",
       "      <th>ALQP.PA</th>\n",
       "      <td>QUADPACK</td>\n",
       "      <td>Quadpack Industries, S.A.</td>\n",
       "      <td>Spain</td>\n",
       "      <td>EUR</td>\n",
       "      <td>13.7</td>\n",
       "      <td>4382130</td>\n",
       "      <td>62375040</td>\n",
       "      <td>Packaging &amp; Containers</td>\n",
       "      <td>Consumer Cyclical</td>\n",
       "      <td>https://www.quadpack.com</td>\n",
       "    </tr>\n",
       "    <tr>\n",
       "      <th>AMAL</th>\n",
       "      <td>Amalgamated Financial Corp.</td>\n",
       "      <td>Amalgamated Financial Corp.</td>\n",
       "      <td>United States</td>\n",
       "      <td>USD</td>\n",
       "      <td>25.38</td>\n",
       "      <td>30851400</td>\n",
       "      <td>780456000</td>\n",
       "      <td>Banks - Regional</td>\n",
       "      <td>Financial Services</td>\n",
       "      <td>https://www.amalgamatedbank.com</td>\n",
       "    </tr>\n",
       "  </tbody>\n",
       "</table>\n",
       "</div>"
      ],
      "text/plain": [
       "Attribute                    shortName  \\\n",
       "Ticker                                   \n",
       "0973.HK                     L'OCCITANE   \n",
       "1112.HK                  H&H INTL HLDG   \n",
       "1346.HK                    LEVER STYLE   \n",
       "1H2.SI                    $ Olive Tree   \n",
       "2897.TW                  O-BANK CO LTD   \n",
       "6088.T           SIGMAXYZ HOLDINGS INC   \n",
       "ABB.AX            AUSSIEBAND FPO [ABB]   \n",
       "AEF.AX             A ETHICAL FPO [AEF]   \n",
       "ALQP.PA                       QUADPACK   \n",
       "AMAL       Amalgamated Financial Corp.   \n",
       "\n",
       "Attribute                                           longName        country  \\\n",
       "Ticker                                                                        \n",
       "0973.HK                        L'Occitane International S.A.     Luxembourg   \n",
       "1112.HK    Health and Happiness (H&H) International Holdi...      Hong Kong   \n",
       "1346.HK                              Lever Style Corporation      Hong Kong   \n",
       "1H2.SI                            Olive Tree Estates Limited      Singapore   \n",
       "2897.TW                                     O-Bank Co., Ltd.         Taiwan   \n",
       "6088.T                                SIGMAXYZ Holdings Inc.          Japan   \n",
       "ABB.AX                              Aussie Broadband Limited      Australia   \n",
       "AEF.AX                 Australian Ethical Investment Limited      Australia   \n",
       "ALQP.PA                            Quadpack Industries, S.A.          Spain   \n",
       "AMAL                             Amalgamated Financial Corp.  United States   \n",
       "\n",
       "Attribute currency previousClose impliedSharesOutstanding    marketCap  \\\n",
       "Ticker                                                                   \n",
       "0973.HK        HKD         32.25               1472169984  47992737792   \n",
       "1112.HK        HKD          9.94                645561024   6688011776   \n",
       "1346.HK        HKD          0.89                645899008    549626048   \n",
       "1H2.SI         SGD          0.08                115845000      9267600   \n",
       "2897.TW        TWD          10.0               2716470016  27572168704   \n",
       "6088.T         JPY        1547.0                 43137600  65001107456   \n",
       "ABB.AX         AUD          3.73                297591008   1151221504   \n",
       "AEF.AX         AUD          4.54                112782000    517669408   \n",
       "ALQP.PA        EUR          13.7                  4382130     62375040   \n",
       "AMAL           USD         25.38                 30851400    780456000   \n",
       "\n",
       "Attribute                       industry                  sector  \\\n",
       "Ticker                                                             \n",
       "0973.HK    Household & Personal Products      Consumer Defensive   \n",
       "1112.HK                   Packaged Foods      Consumer Defensive   \n",
       "1346.HK            Apparel Manufacturing       Consumer Cyclical   \n",
       "1H2.SI         Real Estate - Diversified             Real Estate   \n",
       "2897.TW                 Banks - Regional      Financial Services   \n",
       "6088.T       Specialty Business Services             Industrials   \n",
       "ABB.AX                  Telecom Services  Communication Services   \n",
       "AEF.AX                  Asset Management      Financial Services   \n",
       "ALQP.PA           Packaging & Containers       Consumer Cyclical   \n",
       "AMAL                    Banks - Regional      Financial Services   \n",
       "\n",
       "Attribute                               website  \n",
       "Ticker                                           \n",
       "0973.HK             https://group.loccitane.com  \n",
       "1112.HK                   https://www.hh.global  \n",
       "1346.HK              https://www.leverstyle.com  \n",
       "1H2.SI         https://www.olivetreeestates.com  \n",
       "2897.TW                  https://www.o-bank.com  \n",
       "6088.T                 https://www.sigmaxyz.com  \n",
       "ABB.AX       https://www.aussiebroadband.com.au  \n",
       "AEF.AX     https://www.australianethical.com.au  \n",
       "ALQP.PA                https://www.quadpack.com  \n",
       "AMAL            https://www.amalgamatedbank.com  "
      ]
     },
     "metadata": {},
     "output_type": "display_data"
    }
   ],
   "source": [
    "stock_data_filtered = stock_data.pivot(columns = 'Attribute', index='Ticker', values='Recent')\n",
    "stock_data_filtered.columns\n",
    "\n",
    "# More info:\n",
    "#stock_data_filtered = stock_data_filtered[['shortName', 'longName','country', 'currency', 'previousClose',\n",
    "#                                           'sharesOutstanding', 'impliedSharesOutstanding','marketCap', 'enterpriseValue',\n",
    "#                                           'ebitda', 'forwardEps',  'trailingEps', 'grossMargins', 'operatingMargins', 'ebitdaMargins',\n",
    "#                                             'industry', 'sector', 'website']]\n",
    "# Only essential info:\n",
    "stock_data_filtered = stock_data_filtered[['shortName', 'longName','country', 'currency', 'previousClose',\n",
    "                                           'impliedSharesOutstanding','marketCap','industry', 'sector', 'website']]\n",
    "\n",
    "display(stock_data_filtered.head(10))"
   ]
  },
  {
   "cell_type": "markdown",
   "id": "7093fd9d",
   "metadata": {},
   "source": [
    "## Add in stock price as of beginning of index:"
   ]
  },
  {
   "cell_type": "code",
   "execution_count": 20,
   "id": "47a60368",
   "metadata": {},
   "outputs": [],
   "source": [
    "def get_starting_price(df, start = s):\n",
    "    tickers_list = df.index.tolist()\n",
    "    tickers_data= {}\n",
    "    first_object = yf.Ticker(tickers_list[0])\n",
    "    \n",
    "    prices = pd.DataFrame.from_dict(first_object.history(start=start, interval = \"1d\"))\n",
    "    prices.drop(['Open', 'High', 'Low', 'Volume', 'Dividends', 'Stock Splits'], axis=1, inplace=True)\n",
    "    prices.columns = [tickers_list[0]]\n",
    "\n",
    "    \n",
    "    for ticker in tickers_list[1:]:\n",
    "        ticker_object = yf.Ticker(ticker)\n",
    "        try:\n",
    "            temp = pd.DataFrame.from_dict(ticker_object.history(start=start, interval = \"1d\"))\n",
    "            temp.drop(['Open', 'High', 'Low', 'Volume', 'Dividends', 'Stock Splits'], axis=1, inplace=True)\n",
    "            temp.columns = [ticker]\n",
    "            prices = prices.merge(temp, how=\"outer\", left_index=True, right_index=True)\n",
    "        except:\n",
    "            continue\n",
    "    \n",
    "    \n",
    "    # Collapse date across international zones:\n",
    "    prices.index = pd.to_datetime(prices.index).date\n",
    "      \n",
    "        \n",
    "    prices = prices.groupby(prices.index).ffill() \n",
    "    prices = prices.groupby(prices.index).bfill()\n",
    "    prices = prices.groupby(prices.index).last()\n",
    "    \n",
    "    \n",
    "    return prices"
   ]
  },
  {
   "cell_type": "code",
   "execution_count": 21,
   "id": "23355b54",
   "metadata": {},
   "outputs": [],
   "source": [
    "data = get_starting_price(stock_data_filtered, start=s)\n",
    "starting_px = data.filter(like='2022-01-04', axis=0).T"
   ]
  },
  {
   "cell_type": "markdown",
   "id": "f0a009cb",
   "metadata": {},
   "source": [
    "### Incorporate exchange rates to translate price and market cap into USD"
   ]
  },
  {
   "cell_type": "code",
   "execution_count": 22,
   "id": "f0819ab5",
   "metadata": {},
   "outputs": [
    {
     "name": "stdout",
     "output_type": "stream",
     "text": [
      "Couldn't load credentials\n"
     ]
    },
    {
     "ename": "KeyError",
     "evalue": "'symbols'",
     "output_type": "error",
     "traceback": [
      "\u001b[0;31m---------------------------------------------------------------------------\u001b[0m",
      "\u001b[0;31mKeyError\u001b[0m                                  Traceback (most recent call last)",
      "\u001b[0;32m/var/folders/p5/k8h2_yjj0nncvy0f82hy1xvc0000gn/T/ipykernel_46720/3223863633.py\u001b[0m in \u001b[0;36m<module>\u001b[0;34m\u001b[0m\n\u001b[1;32m     16\u001b[0m \u001b[0;34m\u001b[0m\u001b[0m\n\u001b[1;32m     17\u001b[0m \u001b[0;34m\u001b[0m\u001b[0m\n\u001b[0;32m---> 18\u001b[0;31m \u001b[0;32mfor\u001b[0m \u001b[0msymbol\u001b[0m\u001b[0;34m,\u001b[0m \u001b[0mcurr\u001b[0m \u001b[0;32min\u001b[0m \u001b[0mapi_data\u001b[0m\u001b[0;34m[\u001b[0m\u001b[0;34m'symbols'\u001b[0m\u001b[0;34m]\u001b[0m\u001b[0;34m.\u001b[0m\u001b[0mitems\u001b[0m\u001b[0;34m(\u001b[0m\u001b[0;34m)\u001b[0m\u001b[0;34m:\u001b[0m\u001b[0;34m\u001b[0m\u001b[0;34m\u001b[0m\u001b[0m\n\u001b[0m\u001b[1;32m     19\u001b[0m     \u001b[0mcurrency_dict\u001b[0m\u001b[0;34m[\u001b[0m\u001b[0msymbol\u001b[0m\u001b[0;34m]\u001b[0m \u001b[0;34m=\u001b[0m \u001b[0;34m[\u001b[0m\u001b[0mcurr\u001b[0m\u001b[0;34m,\u001b[0m \u001b[0;36m0\u001b[0m\u001b[0;34m]\u001b[0m\u001b[0;34m\u001b[0m\u001b[0;34m\u001b[0m\u001b[0m\n\u001b[1;32m     20\u001b[0m \u001b[0;34m\u001b[0m\u001b[0m\n",
      "\u001b[0;31mKeyError\u001b[0m: 'symbols'"
     ]
    }
   ],
   "source": [
    "# Get avaialable currencies\n",
    "currency_dict = {}\n",
    "\n",
    "url = \"https://currency-conversion-and-exchange-rates.p.rapidapi.com/symbols\"\n",
    "\n",
    "headers = {}\n",
    "try:\n",
    "    with open('code.json') as file:\n",
    "        headers = json.load(file)\n",
    "except FileNotFoundError:\n",
    "    print(\"Couldn't load credentials\")\n",
    "\n",
    "response = requests.get(url, headers=headers)\n",
    "\n",
    "api_data = response.json()\n",
    "\n",
    "    \n",
    "for symbol, curr in api_data['symbols'].items():\n",
    "    currency_dict[symbol] = [curr, 0]\n",
    "\n"
   ]
  },
  {
   "cell_type": "code",
   "execution_count": null,
   "id": "5909393a",
   "metadata": {},
   "outputs": [],
   "source": [
    "## Access Exchange Rates at Start of Measurement:\n",
    "def get_rates(date):\n",
    "    url = \"https://currency-conversion-and-exchange-rates.p.rapidapi.com/\" + str(date)\n",
    "\n",
    "    querystring = {'base':'USD'}\n",
    "\n",
    "    headers = {}\n",
    "    try:\n",
    "        with open('code.json') as file:\n",
    "            headers = json.load(file)\n",
    "    except FileNotFoundError:\n",
    "        print(\"Couldn't load credentials\")\n",
    "\n",
    "    response = requests.get(url, headers=headers, params=querystring)\n",
    "\n",
    "    return response.json()\n"
   ]
  },
  {
   "cell_type": "code",
   "execution_count": null,
   "id": "e86161d4",
   "metadata": {},
   "outputs": [],
   "source": [
    "## Combine date from exch_data with names / symbols in currency_dict:\n",
    "exch_data = get_rates(date='2024-01-02')\n",
    "\n",
    "for symbol, rate in exch_data['rates'].items():\n",
    "    for key in currency_dict.keys():\n",
    "        if symbol == key:\n",
    "            currency_dict[key][1] = rate"
   ]
  },
  {
   "cell_type": "code",
   "execution_count": null,
   "id": "8aa960e8",
   "metadata": {},
   "outputs": [],
   "source": [
    "currency_dict"
   ]
  },
  {
   "cell_type": "code",
   "execution_count": null,
   "id": "f01b934a",
   "metadata": {
    "scrolled": true
   },
   "outputs": [],
   "source": [
    "## Add exhange rates and calculate USD equivalents:\n",
    "\n",
    "#exchange_map = {exchanges: extention\n",
    "#                 for exchanges, extention in exchange_dict.items()\n",
    "#                 for exchange in exchanges}\n",
    "\n",
    "\n",
    "currency_map = {symbols: rate\n",
    "                 for symbols, name in currency_dict.items()\n",
    "                 for rate in name}\n",
    "\n",
    "\n",
    "\n",
    "stock_data_filtered['beginningUSDExchangeRate'] = stock_data_filtered['currency'].map(currency_map)\n"
   ]
  },
  {
   "cell_type": "code",
   "execution_count": null,
   "id": "dcfa9bad",
   "metadata": {},
   "outputs": [],
   "source": [
    "stock_data_filtered = stock_data_filtered.join(starting_px)"
   ]
  },
  {
   "cell_type": "code",
   "execution_count": null,
   "id": "150315db",
   "metadata": {},
   "outputs": [],
   "source": [
    "# Check to see that exchange rates mapped correctly:\n",
    "stock_data_filtered.head(15)"
   ]
  },
  {
   "cell_type": "code",
   "execution_count": null,
   "id": "4dd6bd27",
   "metadata": {},
   "outputs": [],
   "source": []
  },
  {
   "cell_type": "code",
   "execution_count": null,
   "id": "8b2b2a83",
   "metadata": {},
   "outputs": [],
   "source": [
    "# Calculate USD price and USD marketcap\n",
    "s_d = dt.strptime(s, '%Y-%M-%d').date()\n",
    "stock_data_filtered['beginningCloseUSD'] = stock_data_filtered[s_d] / stock_data_filtered['beginningUSDExchangeRate']\n",
    "stock_data_filtered['beginningMarketCapUSD'] = stock_data_filtered['impliedSharesOutstanding']* stock_data_filtered['beginningCloseUSD']\n",
    "\n",
    "stock_data_filtered.head(20)"
   ]
  },
  {
   "cell_type": "code",
   "execution_count": null,
   "id": "440dc1ec",
   "metadata": {},
   "outputs": [],
   "source": [
    "if download:\n",
    "    stock_data_filtered.to_csv(\"mkt_cap_details.csv\")"
   ]
  },
  {
   "cell_type": "markdown",
   "id": "a9c63f30",
   "metadata": {},
   "source": [
    "## Filter Universe of Stocks by USD MarketCap"
   ]
  },
  {
   "cell_type": "code",
   "execution_count": null,
   "id": "e6f9f003",
   "metadata": {},
   "outputs": [],
   "source": [
    "def filter_index(df, size=True, num=True, size_thresh = 1000000000, num_thresh = 20, col='beginningMarketCapUSD'):\n",
    "    temp = df.copy()\n",
    "    if size == True:\n",
    "        temp = temp[temp[col] >= size_thresh]\n",
    "    \n",
    "    if num == True:\n",
    "        temp.sort_values(by=[col], ascending=False, inplace = True)\n",
    "        temp = temp.iloc[0:num_thresh,:]\n",
    "            \n",
    "    if 'ABI.BR' in temp.index:\n",
    "        temp.loc['ABI.BR','impliedSharesOutstanding'] = 1982790000\n",
    "    \n",
    "    return temp\n",
    "\n"
   ]
  },
  {
   "cell_type": "code",
   "execution_count": null,
   "id": "61c40f7d",
   "metadata": {
    "scrolled": true
   },
   "outputs": [],
   "source": [
    "stock_index_top20 = filter_index(stock_data_filtered, size = False, num_thresh=20)\n",
    "stock_index_top30 = filter_index(stock_data_filtered, size = False, num_thresh=30)\n",
    "stock_index_over1b = filter_index(stock_data_filtered, size = True, num=False, size_thresh=1000000000)\n",
    "stock_index_cutoff = filter_index(stock_data_filtered, size = False, num_thresh=40)\n",
    "\n",
    "df_list = [stock_index_top20, stock_index_top30, stock_index_over1b, stock_index_cutoff]\n",
    "\n",
    "print(stock_index_top20.shape, stock_index_top30.shape, stock_index_over1b.shape, stock_index_cutoff.shape)"
   ]
  },
  {
   "cell_type": "markdown",
   "id": "3fb7a070",
   "metadata": {},
   "source": [
    "# Construct Index as of Start Date"
   ]
  },
  {
   "cell_type": "code",
   "execution_count": null,
   "id": "27daa0b2",
   "metadata": {},
   "outputs": [],
   "source": [
    "stock_data_filtered.shape"
   ]
  },
  {
   "cell_type": "code",
   "execution_count": null,
   "id": "78625bf3",
   "metadata": {},
   "outputs": [],
   "source": [
    "# QC Market Cap cutoffs:\n",
    "stock_data_filtered.to_csv('Initial_MCs.csv')"
   ]
  },
  {
   "cell_type": "code",
   "execution_count": null,
   "id": "8e66963a",
   "metadata": {},
   "outputs": [],
   "source": []
  },
  {
   "cell_type": "code",
   "execution_count": null,
   "id": "3a6a0c87",
   "metadata": {},
   "outputs": [],
   "source": [
    "stock_index_top20"
   ]
  },
  {
   "cell_type": "markdown",
   "id": "9ebbae34",
   "metadata": {},
   "source": [
    "## Manual Adjustments (if needed)\n",
    "### Adjust Methodology Here:"
   ]
  },
  {
   "cell_type": "code",
   "execution_count": null,
   "id": "b7148b10",
   "metadata": {},
   "outputs": [],
   "source": [
    "for df in df_list:\n",
    "    if 'MLMFI.PA' in df.index:\n",
    "        df.drop('MLMFI.PA', axis=0, inplace=True)\n",
    "        \n",
    "        \n",
    "'''\n",
    "    \n",
    "    ## Eliminate if market cap < 100M:\n",
    "    \n",
    "    if '1346.HK' in df.index:\n",
    "        df.drop('1346.HK', axis=0, inplace=True)\n",
    "    if 'BIO.AX' in df.index:\n",
    "        df.drop('BIO.AX', axis=0, inplace=True)\n",
    "    if 'RETI.MI' in df.index:\n",
    "        df.drop('RETI.MI', axis=0, inplace=True)\n",
    "        \n",
    "    ## Eliminate if price < $1.00:\n",
    "   \n",
    "    if '2897.TW' in df.index:\n",
    "        df.drop('2897.TW', axis=0, inplace=True)\n",
    "    if 'KMD.NZ' in df.index:\n",
    "        df.drop('KMD.NZ', axis=0, inplace=True)\n",
    "    if 'VHT.AX' in df.index:\n",
    "        df.drop('VHT.AX', axis=0, inplace=True)    \n",
    "'''        "
   ]
  },
  {
   "cell_type": "code",
   "execution_count": null,
   "id": "ee13535e",
   "metadata": {},
   "outputs": [],
   "source": [
    "assert stock_index_top20.shape[0] == 20\n",
    "assert stock_index_top30.shape[0] == 30"
   ]
  },
  {
   "cell_type": "markdown",
   "id": "6069e862",
   "metadata": {},
   "source": [
    "# DECISION:\n",
    "# Set Index and Get Price History"
   ]
  },
  {
   "cell_type": "code",
   "execution_count": null,
   "id": "ec9271f2",
   "metadata": {},
   "outputs": [],
   "source": [
    "stock_index = stock_index_top20.copy()\n",
    "start_date = s\n",
    "end_date = '2022-12-31'"
   ]
  },
  {
   "cell_type": "code",
   "execution_count": null,
   "id": "f650af6a",
   "metadata": {},
   "outputs": [],
   "source": [
    "def get_price_history (df, start = start_date, end=end_date):\n",
    "    tickers_list = df.index.tolist()\n",
    "    tickers_data= {}\n",
    "    first_object = yf.Ticker(tickers_list[0])\n",
    "    \n",
    "    prices = pd.DataFrame.from_dict(first_object.history(start=start, end=end, interval = \"1d\"))\n",
    "    prices.drop(['Open', 'High', 'Low', 'Volume', 'Dividends', 'Stock Splits'], axis=1, inplace=True)\n",
    "    prices.columns = [tickers_list[0]]\n",
    "\n",
    "    \n",
    "    for ticker in tickers_list[1:]:\n",
    "        ticker_object = yf.Ticker(ticker)\n",
    "        try:\n",
    "            temp = pd.DataFrame.from_dict(ticker_object.history(start=start, end=end, interval = \"1d\"))\n",
    "            temp.drop(['Open', 'High', 'Low', 'Volume', 'Dividends', 'Stock Splits'], axis=1, inplace=True)\n",
    "            temp.columns = [ticker]\n",
    "            prices = prices.merge(temp, how=\"outer\", left_index=True, right_index=True)\n",
    "        except:\n",
    "            continue\n",
    "    \n",
    "    \n",
    "    # Collapse date across international zones:\n",
    "    prices.index = pd.to_datetime(prices.index).date\n",
    "      \n",
    "    prices = prices.groupby(prices.index).ffill() \n",
    "    prices = prices.groupby(prices.index).bfill()\n",
    "    prices = prices.groupby(prices.index).last()\n",
    "    \n",
    "    \n",
    "    return prices"
   ]
  },
  {
   "cell_type": "code",
   "execution_count": null,
   "id": "d3280293",
   "metadata": {},
   "outputs": [],
   "source": []
  },
  {
   "cell_type": "code",
   "execution_count": null,
   "id": "5df9b786",
   "metadata": {
    "scrolled": true
   },
   "outputs": [],
   "source": [
    "price_history_df = get_price_history (stock_index)\n",
    "\n",
    "stock_universe = list(price_history_df.columns)\n",
    "print (\"Number of stocks\", len(stock_universe))"
   ]
  },
  {
   "cell_type": "code",
   "execution_count": null,
   "id": "dcac7baa",
   "metadata": {
    "scrolled": true
   },
   "outputs": [],
   "source": [
    "display(price_history_df.head())\n"
   ]
  },
  {
   "cell_type": "code",
   "execution_count": null,
   "id": "005d80d1",
   "metadata": {},
   "outputs": [],
   "source": [
    "def get_country_info(price_df, info_df):\n",
    "    tickers_list = price_df.columns\n",
    "    \n",
    "    #access currency, impliedSharesOutstanding (local currency): ## HAVE TO REVIEW FOR STOCK CHANGES\n",
    "    currencies = []\n",
    "    implied_SO = []\n",
    "    for col in price_df.columns:\n",
    "        idx = np.where(info_df.index == col)\n",
    "        currencies.append(info_df.iloc[idx]['currency'].values[0])\n",
    "        implied_SO.append(info_df.iloc[idx]['impliedSharesOutstanding'].values[0])\n",
    "        \n",
    "    for i in range(len(price_df.columns)):\n",
    "        col = price_df.columns[i]\n",
    "        price_df[col+'_currency'] = currencies[i]\n",
    "        price_df[col+'_SO'] = implied_SO[i]\n",
    "    \n",
    "    return price_df, currencies\n",
    "     "
   ]
  },
  {
   "cell_type": "code",
   "execution_count": null,
   "id": "4f046b99",
   "metadata": {
    "scrolled": true
   },
   "outputs": [],
   "source": [
    "price_and_info_df, index_currencies = get_country_info(price_history_df, stock_index)"
   ]
  },
  {
   "cell_type": "code",
   "execution_count": null,
   "id": "b7335f86",
   "metadata": {},
   "outputs": [],
   "source": []
  },
  {
   "cell_type": "markdown",
   "id": "cf8100fa",
   "metadata": {},
   "source": [
    "### Get historical exchange rates"
   ]
  },
  {
   "cell_type": "code",
   "execution_count": null,
   "id": "b0fae77a",
   "metadata": {},
   "outputs": [],
   "source": [
    "def get_historical_exchange (price_df, currencies):\n",
    "    #currencies = list(set(currencies))\n",
    "    \n",
    "    querystring = {\"base\":\"USD\"}\n",
    "\n",
    "    headers = {}\n",
    "    try:\n",
    "        with open('code.json') as file:\n",
    "            headers = json.load(file)\n",
    "    except FileNotFoundError:\n",
    "        print(\"Couldn't load credentials\")\n",
    "    \n",
    "    daily_rate_df = pd.DataFrame()\n",
    "    \n",
    "    for idx in price_df.index:\n",
    "        loc = np.where(price_df.index == idx)\n",
    "        url = \"https://currency-conversion-and-exchange-rates.p.rapidapi.com/\" + str(idx)\n",
    "        response = requests.get(url, headers=headers, params=querystring)\n",
    "        response = response.json()\n",
    "        \n",
    "        daily_df = pd.DataFrame(response)\n",
    "        daily_df = daily_df[['date', 'rates']].reset_index()\n",
    "        daily_df = daily_df.pivot(columns='index', index='date', values='rates')\n",
    "\n",
    "        daily_rate_df = pd.concat([daily_rate_df, daily_df], axis=0)\n",
    "\n",
    "        \n",
    "    daily_rate_df.index = pd.to_datetime(daily_rate_df.index).date\n",
    "    return daily_rate_df\n"
   ]
  },
  {
   "cell_type": "markdown",
   "id": "89aa0d08",
   "metadata": {},
   "source": [
    "# Decision:\n",
    "### Run API to get all of the exchange rates? Or upload stored data?"
   ]
  },
  {
   "cell_type": "code",
   "execution_count": null,
   "id": "6e8cc498",
   "metadata": {},
   "outputs": [],
   "source": [
    "display(price_and_info_df.head())\n",
    "display(price_and_info_df.tail())"
   ]
  },
  {
   "cell_type": "code",
   "execution_count": null,
   "id": "2e624219",
   "metadata": {},
   "outputs": [],
   "source": [
    "run_api = False"
   ]
  },
  {
   "cell_type": "code",
   "execution_count": null,
   "id": "55a82c3f",
   "metadata": {},
   "outputs": [],
   "source": [
    "# Load stored rates:\n",
    "def load_rates(filename = \"daily_rates_df_2022_2024_4_19.csv\"):\n",
    "    daily_rates_df = pd.read_csv(filename)\n",
    "    daily_rates_df.set_index(\"Date\", inplace=True)\n",
    "    daily_rates_df.index = pd.to_datetime(daily_rates_df.index).date\n",
    "    \n",
    "    last_date = daily_rates_df.index[-1]\n",
    "    return daily_rates_df, last_date"
   ]
  },
  {
   "cell_type": "code",
   "execution_count": null,
   "id": "de7cba9d",
   "metadata": {},
   "outputs": [],
   "source": [
    "\n",
    "df_dates, ed = load_rates()\n",
    "\n",
    "currency_start = ed+timedelta(days=1)\n",
    "currency_end = e\n"
   ]
  },
  {
   "cell_type": "code",
   "execution_count": null,
   "id": "96366242",
   "metadata": {},
   "outputs": [],
   "source": [
    "import warnings\n",
    "warnings.filterwarnings(\"ignore\")\n",
    "\n",
    "ext = str(dt.today().year) + \"_\" + str(dt.today().month) + \"_\" + str(dt.today().day)+ \"_\" + str(dt.today().hour)\n",
    "filename = \"daily_rates_df\" + ext + \".csv\"\n",
    "\n",
    "if run_api:\n",
    "    # adjust dates to only get currency data after stored file\n",
    "    hist_currency_df = price_and_info_df.copy()\n",
    "    hist_currency_df = hist_currency_df.loc[currency_start:,:]\n",
    "    \n",
    "    daily_rates_df = get_historical_exchange(hist_currency_df, index_currencies)\n",
    "    display(daily_rates_df.head())\n",
    "    display(daily_rates_df.tail())\n",
    "    daily_rates_df.to_csv(filename)\n",
    "\n",
    "else:\n",
    "    daily_rates_df = df_dates.copy()\n",
    "    "
   ]
  },
  {
   "cell_type": "code",
   "execution_count": null,
   "id": "0ec4b864",
   "metadata": {
    "scrolled": false
   },
   "outputs": [],
   "source": [
    "daily_rates_df.head()"
   ]
  },
  {
   "cell_type": "code",
   "execution_count": null,
   "id": "cbce9e11",
   "metadata": {},
   "outputs": [],
   "source": [
    "daily_rates_df.tail()"
   ]
  },
  {
   "cell_type": "code",
   "execution_count": null,
   "id": "14cb70d0",
   "metadata": {
    "scrolled": true
   },
   "outputs": [],
   "source": [
    "daily_price_and_info_df = price_and_info_df.join(daily_rates_df)\n",
    "display(daily_price_and_info_df.head())\n",
    "display(daily_price_and_info_df.tail())"
   ]
  },
  {
   "cell_type": "code",
   "execution_count": null,
   "id": "fccf1860",
   "metadata": {},
   "outputs": [],
   "source": []
  },
  {
   "cell_type": "code",
   "execution_count": null,
   "id": "59c66e5a",
   "metadata": {},
   "outputs": [],
   "source": [
    "def convert_price_mktcap_USD (px_info_df, stock_list):\n",
    "    \n",
    "    for stock in stock_list:\n",
    "        col_name = stock+\"_currency\"\n",
    "        col2_name = stock+\"_SO\"\n",
    "        curr = px_info_df[col_name][0]\n",
    "        shares_out = px_info_df[col2_name][0]\n",
    "        new_col = stock + \"_px_USD\"\n",
    "        new_col2 = stock + \"_MktCap_USD\"\n",
    "        px_info_df[new_col] = px_info_df[stock] / px_info_df[curr]\n",
    "        px_info_df[new_col2] = px_info_df[new_col] * shares_out\n",
    "    \n",
    "    return px_info_df\n",
    "    "
   ]
  },
  {
   "cell_type": "code",
   "execution_count": null,
   "id": "a3827adf",
   "metadata": {},
   "outputs": [],
   "source": [
    "daily_price_MC_usd_all = convert_price_mktcap_USD(daily_price_and_info_df, stock_universe)"
   ]
  },
  {
   "cell_type": "code",
   "execution_count": null,
   "id": "8c96f12b",
   "metadata": {},
   "outputs": [],
   "source": []
  },
  {
   "cell_type": "code",
   "execution_count": null,
   "id": "6d4b20cd",
   "metadata": {},
   "outputs": [],
   "source": [
    "#if download:\n",
    "#    daily_price_MC_usd_all.to_csv('price_MC_USD.csv')\n",
    "display(daily_price_MC_usd_all.head())\n",
    "display(daily_price_MC_usd_all.tail())"
   ]
  },
  {
   "cell_type": "code",
   "execution_count": null,
   "id": "4e28d8e0",
   "metadata": {},
   "outputs": [],
   "source": []
  },
  {
   "cell_type": "markdown",
   "id": "025a91b0",
   "metadata": {},
   "source": [
    "### Refine DF and calculate PW and MW indicies:"
   ]
  },
  {
   "cell_type": "code",
   "execution_count": null,
   "id": "0d8432bb",
   "metadata": {},
   "outputs": [],
   "source": [
    "def get_df_in_USD(df_all):\n",
    "    cols_to_keep = []\n",
    "    for col in df_all:\n",
    "        if \"USD\" in col:\n",
    "            cols_to_keep.append(col)\n",
    "    cols_to_keep.remove('USD')\n",
    "    df_USD = df_all[cols_to_keep]\n",
    "    \n",
    "    px = []\n",
    "    MC = []\n",
    "    \n",
    "    for col in cols_to_keep:\n",
    "        if \"_px\" in col:\n",
    "            px.append(col)\n",
    "        if \"_MktCap\" in col:\n",
    "            MC.append(col)\n",
    "\n",
    "    df_USD_px = df_USD[px]\n",
    "    df_MC_px = df_USD[MC]\n",
    "    \n",
    "    return df_USD, df_USD_px, df_MC_px"
   ]
  },
  {
   "cell_type": "code",
   "execution_count": null,
   "id": "22ddfce3",
   "metadata": {},
   "outputs": [],
   "source": [
    "daily_info_usd, daily_px_USD, daily_MC_USD = get_df_in_USD(daily_price_MC_usd_all)\n",
    "\n",
    "#QC:\n",
    "#daily_px_USD.to_csv('daily_px_test.csv')\n"
   ]
  },
  {
   "cell_type": "code",
   "execution_count": null,
   "id": "7636aac8",
   "metadata": {},
   "outputs": [],
   "source": [
    "daily_px_USD.head()\n",
    "#QC:\n",
    "#daily_px_USD.to_csv('daily_px_test.csv')"
   ]
  },
  {
   "cell_type": "code",
   "execution_count": null,
   "id": "da5aac0d",
   "metadata": {},
   "outputs": [],
   "source": [
    "def calc_px_weighted_index(df, divisor = 0, show_chart = True):\n",
    "    # Fill in missing days:\n",
    "    pw_index = df.ffill()\n",
    "    \n",
    "    n, m = pw_index.shape\n",
    "    if divisor == 0:\n",
    "        divisor = m\n",
    "    pw_index['Index'] = (pw_index.iloc[:,0:m].sum(axis=1)) / divisor\n",
    "\n",
    "    # Remove NaN rows:\n",
    "    #QC:\n",
    "    #pw_index.to_csv('PW_index_test.csv')\n",
    "    pw_index.dropna(inplace=True)\n",
    "    #pw_index.sort_index(axis=0, level=0, inplace=True)\n",
    "    \n",
    "    if show_chart:\n",
    "        \n",
    "        fig, ax = plt.subplots(figsize = (12,6))\n",
    "        ax.plot(pw_index['Index'], color = 'seagreen', linewidth=2)\n",
    "        plt.title('Price Weighted Index | '+ str(m) + ' stocks')\n",
    "        plt.annotate(\"Stocks in Index:\", (0,0), (0, -20), xycoords='axes fraction', textcoords='offset points', va='top', color = '#666666', fontsize=9)\n",
    "        plt.annotate(stock_universe[0:int(m/2)], (0,0), (0, -30), xycoords='axes fraction', textcoords='offset points', va='top', color = '#666666', fontsize=9)\n",
    "        plt.annotate(stock_universe[int(m/2):], (0,0), (0, -40), xycoords='axes fraction', textcoords='offset points', va='top', color = '#666666', fontsize=9)\n",
    "        plt.show()\n",
    "        \n",
    "    return pw_index\n",
    "\n",
    "def calc_MC_weighted_index(df, divisor = 1000000000, show_chart = True):\n",
    "    # Fill in missing days:\n",
    "    mcw_index = df.ffill()\n",
    "    n, m = mcw_index.shape\n",
    "    mcw_index['Index'] = (mcw_index.iloc[:,0:m].sum(axis=1)) / divisor\n",
    "    \n",
    "    # Remove NaN rows:\n",
    "    mcw_index.dropna(inplace=True)\n",
    "    \n",
    "    if show_chart:\n",
    "        \n",
    "        fig, ax = plt.subplots(figsize = (12,6))\n",
    "        ax.plot(mcw_index['Index'], color = 'royalblue', linewidth=2)\n",
    "        plt.title('MktCap Weighted Index | '+ str(m) + ' stocks')\n",
    "        plt.annotate(\"Stocks in Index:\", (0,0), (0, -20), xycoords='axes fraction', textcoords='offset points', va='top', color = '#666666', fontsize=9)\n",
    "        plt.annotate(stock_universe[0:int(m/2)], (0,0), (0, -30), xycoords='axes fraction', textcoords='offset points', va='top', color = '#666666', fontsize=9)\n",
    "        plt.annotate(stock_universe[int(m/2):], (0,0), (0, -40), xycoords='axes fraction', textcoords='offset points', va='top', color = '#666666', fontsize=9)\n",
    "        plt.show()    \n",
    "        \n",
    "    return mcw_index"
   ]
  },
  {
   "cell_type": "code",
   "execution_count": null,
   "id": "d701c769",
   "metadata": {},
   "outputs": [],
   "source": []
  },
  {
   "cell_type": "code",
   "execution_count": null,
   "id": "cb8dc16c",
   "metadata": {
    "scrolled": true
   },
   "outputs": [],
   "source": [
    "price_wgt_index = calc_px_weighted_index(daily_px_USD, divisor = 1, show_chart=True)\n",
    "mktcap_wgt_index = calc_MC_weighted_index (daily_MC_USD, divisor = 1000000000, show_chart=True)\n",
    "\n",
    "display(price_wgt_index.head())\n",
    "display(mktcap_wgt_index.head())\n"
   ]
  },
  {
   "cell_type": "code",
   "execution_count": null,
   "id": "d11a2284",
   "metadata": {},
   "outputs": [],
   "source": [
    "\n",
    "if download:\n",
    "    price_wgt_index.to_csv(\"PriceWgt_Index.csv\")\n",
    "    mktcap_wgt_index.to_csv(\"MarketCap_of_Index.csv\")"
   ]
  },
  {
   "cell_type": "code",
   "execution_count": null,
   "id": "70c4ec1c",
   "metadata": {},
   "outputs": [],
   "source": [
    "def combine_norm_and_benchmark(px_df, mc_df):\n",
    "    \n",
    "    combined_df = pd.concat([px_df['Index'],mc_df['Index']], axis=1)\n",
    "    combined_df.columns = ['Price Weighted Index', \"Mkt Cap Weighted Index\"]\n",
    "    \n",
    "    # Add S&P\n",
    "    spx_object = yf.Ticker(\"^GSPC\")\n",
    "    spx = pd.DataFrame.from_dict(spx_object.history(start=s, end=e, interval = \"1d\"))\n",
    "    spx = spx[['Close']]\n",
    "    spx.columns = ['SPX']\n",
    "    spx.index = pd.to_datetime(spx.index).date\n",
    "    \n",
    "    # Add Russell 2000\n",
    "    ru2000_object = yf.Ticker(\"^RUT\")\n",
    "    ru2000 = pd.DataFrame.from_dict(ru2000_object.history(start=s, end=e, interval = \"1d\"))\n",
    "    ru2000 = ru2000[['Close']]\n",
    "    ru2000.columns = ['RU2000']\n",
    "    ru2000.index = pd.to_datetime(ru2000.index).date\n",
    "    \n",
    "    # Add DJ Sustainability\n",
    "    #DJsus_object = pd.read_csv(\"DJSus_history.csv\")\n",
    "    #display(DJsus_object.head())\n",
    "    #DJsus_object.index = pd.to_datetime(DJsus_object['Date'])\n",
    "    #DJsus_object.drop(['Date'], axis=1, inplace=True)\n",
    "    #DJsus_object.index = pd.to_datetime(DJsus_object.index).date\n",
    "    #DJ_Sus = DJsus_object.copy()\n",
    "\n",
    "    combined_df = pd.concat([combined_df, spx, ru2000], axis=1)\n",
    "    \n",
    "    combined_df = combined_df.ffill()\n",
    "    display(combined_df.head())\n",
    "\n",
    "    combined_df = combined_df.div(combined_df.iloc[0])\n",
    "    return combined_df\n"
   ]
  },
  {
   "cell_type": "code",
   "execution_count": null,
   "id": "9efc069b",
   "metadata": {},
   "outputs": [],
   "source": [
    "## Contain SPX, RU2000, DJ Sus separately for graphing\n",
    "\n",
    "spx_object = yf.Ticker(\"^GSPC\")\n",
    "spx = pd.DataFrame.from_dict(spx_object.history(start=s, end=e, interval = \"1d\"))\n",
    "spx = spx[['Close']]\n",
    "spx.columns = ['SPX']\n",
    "spx.index = pd.to_datetime(spx.index).date\n",
    "\n",
    "\n",
    "ru2000_object = yf.Ticker(\"^RUT\")\n",
    "ru2000 = pd.DataFrame.from_dict(ru2000_object.history(start=s, end=e, interval = \"1d\"))\n",
    "ru2000 = ru2000[['Close']]\n",
    "ru2000.columns = ['RU2000']\n",
    "ru2000.index = pd.to_datetime(ru2000.index).date\n",
    "\n",
    "'''\n",
    "DJsus_object = pd.read_csv(\"DJSus_history.csv\")\n",
    "#display(DJsus_object.head())\n",
    "DJsus_object.index = pd.to_datetime(DJsus_object['Date'])\n",
    "DJsus_object.drop(['Date'], axis=1, inplace=True)\n",
    "DJsus_object.index = pd.to_datetime(DJsus_object.index).date\n",
    "#display(DJsus_object.head())\n",
    "'''"
   ]
  },
  {
   "cell_type": "code",
   "execution_count": null,
   "id": "afd0ad22",
   "metadata": {
    "scrolled": false
   },
   "outputs": [],
   "source": [
    "index_comparison_df = combine_norm_and_benchmark(price_wgt_index, mktcap_wgt_index)"
   ]
  },
  {
   "cell_type": "code",
   "execution_count": null,
   "id": "10eddf6b",
   "metadata": {
    "scrolled": true
   },
   "outputs": [],
   "source": [
    "index_comparison_df.head(5)"
   ]
  },
  {
   "cell_type": "code",
   "execution_count": null,
   "id": "5878af60",
   "metadata": {},
   "outputs": [],
   "source": [
    "index_comparison_df.sort_index(inplace=True)"
   ]
  },
  {
   "cell_type": "markdown",
   "id": "161ae816",
   "metadata": {},
   "source": [
    "## Preview and adjust dates if needed"
   ]
  },
  {
   "cell_type": "code",
   "execution_count": null,
   "id": "aa5308f8",
   "metadata": {
    "scrolled": true
   },
   "outputs": [],
   "source": [
    "display(index_comparison_df.head(5))"
   ]
  },
  {
   "cell_type": "code",
   "execution_count": null,
   "id": "39513b2e",
   "metadata": {},
   "outputs": [],
   "source": [
    "adjust = 0"
   ]
  },
  {
   "cell_type": "code",
   "execution_count": null,
   "id": "fa4c4c6b",
   "metadata": {
    "scrolled": false
   },
   "outputs": [],
   "source": [
    "if adjust > 0:\n",
    "    index_comparison_df = index_comparison_df.iloc[adjust:,:]\n",
    "display(index_comparison_df.head(5))\n",
    "\n",
    "if download:\n",
    "    index_comparison_df.to_csv(\"Index_Comparison.csv\")"
   ]
  },
  {
   "cell_type": "code",
   "execution_count": null,
   "id": "5104d5f4",
   "metadata": {},
   "outputs": [],
   "source": []
  },
  {
   "cell_type": "markdown",
   "id": "35043d4a",
   "metadata": {},
   "source": [
    "### Graph Indices"
   ]
  },
  {
   "cell_type": "code",
   "execution_count": null,
   "id": "f25e5b8b",
   "metadata": {
    "scrolled": true
   },
   "outputs": [],
   "source": [
    "## Graph Separately\n",
    "fig, (ax0, ax1, ax2) = plt.subplots(3, 1, figsize = (20,18))\n",
    "ax0.plot(price_wgt_index['Index'], color = 'seagreen', linewidth=2, label = 'Price Weighted')\n",
    "ax0.legend(loc=2)\n",
    "ax1.plot(mktcap_wgt_index['Index'], color = 'royalblue', linewidth=2,label='Market Cap Weighted')\n",
    "ax1.legend(loc=2)\n",
    "ax2.plot(spx, color='darkorange', linewidth=2, label = 'SPX')\n",
    "ax2.legend(loc=2)\n",
    "plt.show()"
   ]
  },
  {
   "cell_type": "code",
   "execution_count": null,
   "id": "49da0654",
   "metadata": {
    "scrolled": true
   },
   "outputs": [],
   "source": [
    "## Graph Together\n",
    "#fig, ax = plt.subplots(figsize = (12,6))\n",
    "index_comparison_df.plot(figsize = (12,6),\n",
    "                         color = ['seagreen', 'royalblue', 'darkorange', 'firebrick', 'goldenrod'])\n",
    "\n",
    "plt.show()"
   ]
  },
  {
   "cell_type": "code",
   "execution_count": null,
   "id": "74b5f37d",
   "metadata": {},
   "outputs": [],
   "source": [
    "# Export Index:\n",
    "#index_comparison_df.to_csv(\"Index_Comparison.csv\")"
   ]
  },
  {
   "cell_type": "code",
   "execution_count": null,
   "id": "48b029b5",
   "metadata": {},
   "outputs": [],
   "source": []
  },
  {
   "cell_type": "code",
   "execution_count": null,
   "id": "7698c537",
   "metadata": {},
   "outputs": [],
   "source": []
  },
  {
   "cell_type": "markdown",
   "id": "38fc9621",
   "metadata": {},
   "source": [
    "### Visualize Characteristics"
   ]
  },
  {
   "cell_type": "code",
   "execution_count": null,
   "id": "854558c8",
   "metadata": {
    "scrolled": true
   },
   "outputs": [],
   "source": [
    "classify_all = stock_data_filtered.copy()\n",
    "classify_index = stock_index.copy()\n",
    "print(classify_all.shape, classify_index.shape)"
   ]
  },
  {
   "cell_type": "code",
   "execution_count": null,
   "id": "ffecf29e",
   "metadata": {},
   "outputs": [],
   "source": [
    "classify_index['country'].value_counts()"
   ]
  },
  {
   "cell_type": "code",
   "execution_count": null,
   "id": "cfc5fa2b",
   "metadata": {},
   "outputs": [],
   "source": [
    "classify_index"
   ]
  },
  {
   "cell_type": "code",
   "execution_count": null,
   "id": "502e3057",
   "metadata": {},
   "outputs": [],
   "source": [
    "def visualize_groups (df_all, df_some):\n",
    "    # by sector:\n",
    "    fig, ax = plt.subplots(figsize = (8,6))\n",
    "    \n",
    "    n_slices = len(list(df_all['sector'].value_counts().index))\n",
    "    #cmap = sns.color_palette(\"Blues\", n_slices)\n",
    "    cmap = sns.light_palette(\"steelblue\", n_slices, reverse=True)\n",
    "    \n",
    "    ax.pie(df_all['sector'].value_counts(), labels=df_all['sector'].value_counts().index, autopct='%1.1f%%',\n",
    "          pctdistance=.8, textprops={'size': 'smaller'}, colors = cmap)\n",
    "    plt.title('Sectors in Public B-Corp Universe')\n",
    "    plt.show()\n",
    "    \n",
    "\n",
    "    fig, ax = plt.subplots(figsize = (8,6))\n",
    "    \n",
    "    n_slices = len(list(df_some['sector'].value_counts().index))\n",
    "    #cmap = sns.color_palette(\"Blues\", n_slices)\n",
    "    cmap = sns.light_palette(\"steelblue\", n_slices, reverse=True)\n",
    "    \n",
    "    ax.pie(df_some['sector'].value_counts(), labels=df_some['sector'].value_counts().index, autopct='%1.1f%%',\n",
    "          pctdistance=.8, textprops={'size': 'smaller'}, colors = cmap)\n",
    "    plt.title('Sectors in Top 20 Index')\n",
    "    plt.show()  \n",
    "    \n",
    "\n",
    "    # by industry:\n",
    "    fig, ax = plt.subplots(figsize = (8,6))\n",
    "    \n",
    "    n_slices = len(list(df_all['industry'].value_counts().index))\n",
    "    cmap = sns.light_palette(\"maroon\", n_slices, reverse=True)\n",
    "    \n",
    "    ax.pie(df_all['industry'].value_counts(), labels=df_all['industry'].value_counts().index, autopct='%1.1f%%',\n",
    "          pctdistance=.8, textprops={'size': 'xx-small'}, colors = cmap)\n",
    "    plt.title('Industries in Public B-Corp Universe')\n",
    "    plt.show()\n",
    "    \n",
    "\n",
    "\n",
    "    fig, ax = plt.subplots(figsize = (8,6))\n",
    "    \n",
    "    n_slices = len(list(df_some['industry'].value_counts().index))\n",
    "    cmap = sns.light_palette(\"maroon\", n_slices, reverse=True)\n",
    "    \n",
    "    ax.pie(df_some['industry'].value_counts(), labels=df_some['industry'].value_counts().index, autopct='%1.1f%%',\n",
    "          pctdistance=.8, textprops={'size': 'xx-small'}, colors = cmap)\n",
    "    plt.title('Industries in Top 20 Index')\n",
    "    plt.show()   \n",
    "  \n",
    "    \n",
    "    # by country:\n",
    "    fig, ax = plt.subplots(figsize = (8,6))\n",
    "    \n",
    "    n_slices = len(list(df_all['country'].value_counts().index))\n",
    "    #cmap = sns.color_palette(\"Blues\", n_slices)\n",
    "    cmap = sns.light_palette(\"seagreen\", n_slices, reverse=True)\n",
    "    \n",
    "    ax.pie(df_all['country'].value_counts(), labels=df_all['country'].value_counts().index, autopct='%1.1f%%',\n",
    "          pctdistance=.8, textprops={'size': 'smaller'}, colors = cmap)\n",
    "    plt.title('Countries in Public B-Corp Universe')\n",
    "    plt.show()\n",
    "    \n",
    "    # by country:\n",
    "    fig, ax = plt.subplots(figsize = (8,6))\n",
    "    \n",
    "    n_slices = len(list(df_some['country'].value_counts().index))\n",
    "    #cmap = sns.color_palette(\"Blues\", n_slices)\n",
    "    cmap = sns.light_palette(\"seagreen\", n_slices, reverse=True)\n",
    "    \n",
    "    ax.pie(df_some['country'].value_counts(), labels=df_some['country'].value_counts().index, autopct='%1.1f%%',\n",
    "          pctdistance=.8, textprops={'size': 'smaller'}, colors = cmap)\n",
    "    plt.title('Countries in Top 20 Index')\n",
    "    plt.show()\n",
    "\n",
    "\n",
    "    \n",
    "    # by currency:\n",
    "    fig, ax = plt.subplots(figsize = (8,6))\n",
    "    \n",
    "    n_slices = len(list(df_all['currency'].value_counts().index))\n",
    "    #cmap = sns.color_palette(\"Blues\", n_slices)\n",
    "    cmap = sns.light_palette(\"goldenrod\", n_slices, reverse=True)\n",
    "    \n",
    "    ax.pie(df_all['currency'].value_counts(), labels=df_all['currency'].value_counts().index, autopct='%1.1f%%',\n",
    "          pctdistance=.8, textprops={'size': 'smaller'}, colors = cmap)\n",
    "    plt.title('Currencies in Public B-Corp Universe')\n",
    "    plt.show()\n",
    "    \n",
    "    # by currency:\n",
    "    fig, ax = plt.subplots(figsize = (8,6))\n",
    "    \n",
    "    n_slices = len(list(df_some['currency'].value_counts().index))\n",
    "    #cmap = sns.color_palette(\"Blues\", n_slices)\n",
    "    cmap = sns.light_palette(\"goldenrod\", n_slices, reverse=True)\n",
    "    \n",
    "    ax.pie(df_some['currency'].value_counts(), labels=df_some['currency'].value_counts().index, autopct='%1.1f%%',\n",
    "          pctdistance=.8, textprops={'size': 'smaller'}, colors = cmap)\n",
    "    plt.title('Currencies in Top 20 Index')\n",
    "    plt.show()"
   ]
  },
  {
   "cell_type": "code",
   "execution_count": null,
   "id": "ae55e84f",
   "metadata": {
    "scrolled": false
   },
   "outputs": [],
   "source": [
    "visualize_groups(classify_all, classify_index)"
   ]
  },
  {
   "cell_type": "code",
   "execution_count": null,
   "id": "3df5ba06",
   "metadata": {},
   "outputs": [],
   "source": [
    "print(stock_index.shape)"
   ]
  },
  {
   "cell_type": "code",
   "execution_count": null,
   "id": "36adbdc4",
   "metadata": {},
   "outputs": [],
   "source": [
    "print(price_wgt_index.shape)\n",
    "display(price_wgt_index)"
   ]
  },
  {
   "cell_type": "code",
   "execution_count": null,
   "id": "fceaa368",
   "metadata": {},
   "outputs": [],
   "source": [
    "print(mktcap_wgt_index.shape)\n",
    "display(mktcap_wgt_index)"
   ]
  },
  {
   "cell_type": "markdown",
   "id": "689cd51f",
   "metadata": {},
   "source": [
    "## Reconstitute:"
   ]
  },
  {
   "cell_type": "code",
   "execution_count": null,
   "id": "977132cb",
   "metadata": {},
   "outputs": [],
   "source": [
    "df22 = stock_data_filtered.copy()"
   ]
  },
  {
   "cell_type": "code",
   "execution_count": null,
   "id": "03d5b930",
   "metadata": {},
   "outputs": [],
   "source": [
    "def reconstitute(df, recon_date):\n",
    "\n",
    "    # Confirm Implied Shares Outstanding for Mkt Cap calculation:    \n",
    "    df['impliedSharesOutstanding'] = df['marketCap'] / df['previousClose']\n",
    "    \n",
    "    reprice = get_starting_price(df, start = recon_date)\n",
    "    \n",
    "    recon_px = reprice.filter(like=recon_date, axis=0).T\n",
    "    recon_px.columns = [str(recon_date)]\n",
    "    \n",
    "    exch_data_recast = get_rates(date=recon_date)\n",
    "    currency_dict_recast = currency_dict.copy()\n",
    "    \n",
    "    # Revise currency translation:\n",
    "    for symbol, rate in exch_data_recast['rates'].items():\n",
    "        for key in currency_dict_recast.keys():\n",
    "            if symbol == key:\n",
    "                currency_dict_recast[key][1] = rate\n",
    "                \n",
    "    # Revise currency map:\n",
    "    currency_map_rev = {symbol:rate\n",
    "                       for symbol, name in currency_dict_recast.items()\n",
    "                       for rate in name}\n",
    "    \n",
    "    col = 'USDExchRate'+str(recon_date)\n",
    "    df[col] = df['currency'].map(currency_map_rev)\n",
    "    df = df.join(recon_px)\n",
    "    \n",
    "    \n",
    "    col2 = 'CloseUSD'+str(recon_date)\n",
    "    df[col2] = df[recon_date] / df[col]\n",
    "    \n",
    "    col3='MarketCapUSD'+str(recon_date)\n",
    "    df[col3] = df[col2] * df['impliedSharesOutstanding']\n",
    "    \n",
    "    \n",
    "    return df"
   ]
  },
  {
   "cell_type": "code",
   "execution_count": null,
   "id": "7d57fde8",
   "metadata": {},
   "outputs": [],
   "source": [
    "df23 = reconstitute(df22, recon_date = '2023-01-03') \n",
    "display(df23.head(20))\n",
    "\n",
    "df24 = reconstitute(df23, recon_date = '2024-01-02') \n",
    "display(df24.head(20))"
   ]
  },
  {
   "cell_type": "code",
   "execution_count": null,
   "id": "e52ec03e",
   "metadata": {},
   "outputs": [],
   "source": [
    "df23.shape"
   ]
  },
  {
   "cell_type": "code",
   "execution_count": null,
   "id": "207ebe10",
   "metadata": {},
   "outputs": [],
   "source": [
    "#df24.to_csv('reconst_test.csv')"
   ]
  },
  {
   "cell_type": "code",
   "execution_count": null,
   "id": "0dae5420",
   "metadata": {},
   "outputs": [],
   "source": [
    "def construct_index_with_recon (df, cutoff=20, start_date = '2022-01-04', end_date = '2022-12-31', pw_divisor = 1, mw_divisor=1000000000):\n",
    "    today = str(dt.today())\n",
    "    if today >'2024-12-31':\n",
    "        print(\"Add a Year!\")\n",
    "    \n",
    "    # Clean up errant stock:\n",
    "    if 'MLMFI.PA' in df.index:\n",
    "        df.drop('MLMFI.PA', axis=0, inplace=True)\n",
    "\n",
    "    \n",
    "    if str(start_date[0:4]) == \"2022\":\n",
    "        col = 'beginningMarketCapUSD'\n",
    "    else:\n",
    "        col = 'MarketCapUSD' + start_date\n",
    "    index = filter_index(df, size=False, num=True, num_thresh=cutoff, col = col)\n",
    "    \n",
    "    #display(index.head())\n",
    "    \n",
    "    assert index.shape[0] == cutoff\n",
    "    \n",
    "    prices = get_price_history(index, start_date, end= end_date)\n",
    "    price_and_info, index_currencies = get_country_info(prices, index)\n",
    "    \n",
    "    \n",
    "    # Set stock universe\n",
    "    stock_universe = list(index.T.columns)\n",
    "    \n",
    "    #Get historical exchange rates\n",
    "    filename = \"daily_rates_\" + str(start_date[0:4] + \".csv\")\n",
    "    daily_rates_df, _ = load_rates(filename)\n",
    "\n",
    "    daily_price_and_info_df = price_and_info.join(daily_rates_df)\n",
    "    \n",
    "    # Add marketcap:\n",
    "    daily_price_MC_usd_all = convert_price_mktcap_USD(daily_price_and_info_df, stock_universe) \n",
    "    \n",
    "    # Refine DF INTO USD and calculate PW and MW indicies:\n",
    "    daily_info_usd, daily_px_USD, daily_MC_USD = get_df_in_USD(daily_price_MC_usd_all)\n",
    "    \n",
    "  \n",
    "    price_wgt_index = calc_px_weighted_index(daily_px_USD, divisor = pw_divisor, show_chart=False)\n",
    "    \n",
    "    #display(price_wgt_index.head())\n",
    "    #display(price_wgt_index.tail())\n",
    "    \n",
    "    \n",
    "    mktcap_wgt_index = calc_MC_weighted_index (daily_MC_USD, divisor = mw_divisor, show_chart=False)\n",
    "    \n",
    "\n",
    "    #filename2 = 'px_weighted_idx_details'+ str(start_date[0:4]) + \".csv\"\n",
    "    #price_wgt_index.to_csv(filename2)\n",
    "\n",
    "    ending_index_pw = price_wgt_index.iloc[-1,-1]\n",
    "    ending_index_mkt = mktcap_wgt_index.iloc[-1,-1]\n",
    "    \n",
    "    return price_wgt_index, ending_index_pw, mktcap_wgt_index, ending_index_mkt\n"
   ]
  },
  {
   "cell_type": "code",
   "execution_count": null,
   "id": "a3499e30",
   "metadata": {},
   "outputs": [],
   "source": [
    "def set_divisor (df0, df1, s0 = '2022-01-04', e0 = '2022-12-31', s1 = '2023-01-03', e1='2023-12-31', divisor=1):\n",
    "    _, end0_pw, _, end0_mkt = construct_index_with_recon(df0, start_date = s0, end_date = e0, pw_divisor = divisor, mw_divisor = divisor)\n",
    "    print(\"end year 0\", end0_pw)\n",
    "    px_wgt_1, _, mkt_cap1, _ = construct_index_with_recon(df1, start_date = s1, end_date = e1, pw_divisor = divisor, mw_divisor = divisor)\n",
    "        \n",
    "    \n",
    "    beg1_pw = px_wgt_1.iloc[0,-1]\n",
    "    print(\"beg year 1\", beg1_pw)\n",
    "    \n",
    "    divisor1_pw = divisor * (beg1_pw/end0_pw)\n",
    "    print(\"PW Divisor = \", divisor1_pw)\n",
    "    \n",
    "    beg1_mkt = mkt_cap1.iloc[0,-1]\n",
    "    print(\"beg year 1\", beg1_mkt)\n",
    "    \n",
    "    divisor1_mkt = divisor * (beg1_mkt/end0_mkt)\n",
    "    print(\"Mkt Divisor = \", divisor1_mkt)\n",
    "    \n",
    "    return divisor1_pw, divisor1_mkt\n",
    "    "
   ]
  },
  {
   "cell_type": "markdown",
   "id": "51b71fc0",
   "metadata": {},
   "source": [
    "### COMPILE PX WEIGHTED INDEX and GRAPH PERFORMANCE"
   ]
  },
  {
   "cell_type": "code",
   "execution_count": null,
   "id": "e462a828",
   "metadata": {},
   "outputs": [],
   "source": [
    "price_wgt_index_22, _, _, _ = construct_index_with_recon(df22, pw_divisor = 1)\n",
    "div1, _ = set_divisor(df22, df23, s0 = '2022-01-04', e0 = '2022-12-31', s1 = '2023-01-03', e1='2023-12-31', divisor=1)\n",
    "\n",
    "price_wgt_index_23, _, _, _ = construct_index_with_recon(df23, start_date = '2023-01-03', end_date = '2023-12-31', pw_divisor = div1)\n",
    "div2, _ = set_divisor(df23, df24, s0 = '2023-01-03', e0 = '2023-12-31', s1 = '2024-01-02', e1='2024-04-15', divisor = div1)\n",
    "\n",
    "price_wgt_index_24, _, _, _ = construct_index_with_recon(df24, start_date = '2024-01-02', end_date = '2024-04-15', pw_divisor = div2)\n",
    "\n"
   ]
  },
  {
   "cell_type": "code",
   "execution_count": null,
   "id": "0ebf6803",
   "metadata": {},
   "outputs": [],
   "source": [
    "index_df = pd.concat([price_wgt_index_22.iloc[:,-1], price_wgt_index_23.iloc[:,-1]])\n",
    "index_df = pd.concat([index_df, price_wgt_index_24.iloc[:,-1]])\n",
    "\n",
    "#index_df\n",
    "\n",
    "m = 20\n",
    "fig, ax = plt.subplots(figsize = (12,6))\n",
    "ax.plot(index_df, color = 'seagreen', linewidth=2)\n",
    "plt.title('Price Weighted Index | '+ str(m) + ' stocks')\n",
    "#plt.annotate(\"Stocks in Index:\", (0,0), (0, -20), xycoords='axes fraction', textcoords='offset points', va='top', color = '#666666', fontsize=9)\n",
    "#plt.annotate(stock_universe[0:int(m/2)], (0,0), (0, -30), xycoords='axes fraction', textcoords='offset points', va='top', color = '#666666', fontsize=9)\n",
    "#plt.annotate(stock_universe[int(m/2):], (0,0), (0, -40), xycoords='axes fraction', textcoords='offset points', va='top', color = '#666666', fontsize=9)\n",
    "plt.show()\n"
   ]
  },
  {
   "cell_type": "code",
   "execution_count": null,
   "id": "37ca3b68",
   "metadata": {},
   "outputs": [],
   "source": [
    "dfs = [df22, df23, df24]\n",
    "px_indexs = [price_wgt_index_22, price_wgt_index_23, price_wgt_index_24]\n",
    "\n",
    "for i in range(len(dfs)):\n",
    "    tickers = [col[:-7] for col in px_indexs[i].columns][:-1]\n",
    "    info = dfs[i].loc[dfs[i].index.isin(tickers)]\n",
    "\n",
    "    visualize_groups(classify_all, info)\n"
   ]
  },
  {
   "cell_type": "markdown",
   "id": "77d0ea31",
   "metadata": {},
   "source": [
    "### COMPILE Market WEIGHTED INDEX and GRAPH PERFORMANCE"
   ]
  },
  {
   "cell_type": "code",
   "execution_count": null,
   "id": "c371fa71",
   "metadata": {},
   "outputs": [],
   "source": [
    "_,_,mkt_wgt_index_22,_ = construct_index_with_recon(df22, mw_divisor = 1000000000)\n",
    "_, div1 = set_divisor(df22, df23, s0 = '2022-01-04', e0 = '2022-12-31', s1 = '2023-01-03', e1='2023-12-31', divisor=1000000000)\n",
    "\n",
    "_, _, mkt_wgt_index_23, _ = construct_index_with_recon(df23, start_date = '2023-01-03', end_date = '2023-12-31', pw_divisor = div1)\n",
    "_, div2 = set_divisor(df23, df24, s0 = '2023-01-03', e0 = '2023-12-31', s1 = '2024-01-02', e1='2024-04-15', divisor = div1)\n",
    "\n",
    "_, _, mkt_wgt_index_24, _ = construct_index_with_recon(df24, start_date = '2024-01-02', end_date = '2024-04-15', pw_divisor = div2)\n",
    "\n"
   ]
  },
  {
   "cell_type": "code",
   "execution_count": null,
   "id": "0f5ca40e",
   "metadata": {},
   "outputs": [],
   "source": [
    "mkt_index_df = pd.concat([mkt_wgt_index_22.iloc[:,-1], mkt_wgt_index_23.iloc[:,-1]])\n",
    "mkt_index_df = pd.concat([mkt_index_df, mkt_wgt_index_24.iloc[:,-1]])\n",
    "\n",
    "#index_df\n",
    "\n",
    "m = 20\n",
    "fig, ax = plt.subplots(figsize = (12,6))\n",
    "ax.plot(mkt_index_df, color = 'royalblue', linewidth=2)\n",
    "plt.title('Market Weighted Index | '+ str(m) + ' stocks')\n",
    "#plt.annotate(\"Stocks in Index:\", (0,0), (0, -20), xycoords='axes fraction', textcoords='offset points', va='top', color = '#666666', fontsize=9)\n",
    "#plt.annotate(stock_universe[0:int(m/2)], (0,0), (0, -30), xycoords='axes fraction', textcoords='offset points', va='top', color = '#666666', fontsize=9)\n",
    "#plt.annotate(stock_universe[int(m/2):], (0,0), (0, -40), xycoords='axes fraction', textcoords='offset points', va='top', color = '#666666', fontsize=9)\n",
    "plt.show()\n"
   ]
  },
  {
   "cell_type": "code",
   "execution_count": null,
   "id": "9c5882cc",
   "metadata": {},
   "outputs": [],
   "source": [
    "if download:\n",
    "    price_wgt_index_22.to_csv(\"px_weighted_idx_details_2022.csv\")\n",
    "    price_wgt_index_23.to_csv(\"px_weighted_idx_details_2023.csv\")\n",
    "    price_wgt_index_24.to_csv(\"px_weighted_idx_details_2024.csv\")\n",
    "    \n",
    "    mkt_wgt_index_22.to_csv(\"mkt_weighted_idx_details_2022.csv\")\n",
    "    mkt_wgt_index_23.to_csv(\"mkt_weighted_idx_details_2023.csv\")\n",
    "    mkt_wgt_index_24.to_csv(\"mkt_weighted_idx_details_2024.csv\")\n",
    "        "
   ]
  },
  {
   "cell_type": "code",
   "execution_count": null,
   "id": "d481732c",
   "metadata": {},
   "outputs": [],
   "source": []
  },
  {
   "cell_type": "code",
   "execution_count": null,
   "id": "5e663859",
   "metadata": {},
   "outputs": [],
   "source": []
  }
 ],
 "metadata": {
  "kernelspec": {
   "display_name": "Python 3 (ipykernel)",
   "language": "python",
   "name": "python3"
  },
  "language_info": {
   "codemirror_mode": {
    "name": "ipython",
    "version": 3
   },
   "file_extension": ".py",
   "mimetype": "text/x-python",
   "name": "python",
   "nbconvert_exporter": "python",
   "pygments_lexer": "ipython3",
   "version": "3.8.8"
  }
 },
 "nbformat": 4,
 "nbformat_minor": 5
}
