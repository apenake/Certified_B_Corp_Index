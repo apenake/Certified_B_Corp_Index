{
 "cells": [
  {
   "cell_type": "code",
   "execution_count": 177,
   "id": "e662206f",
   "metadata": {},
   "outputs": [],
   "source": [
    "import pandas as pd\n",
    "import numpy as np\n",
    "from datetime import datetime as dt\n",
    "import random\n",
    "\n",
    "import matplotlib.pyplot as plt\n",
    "import seaborn as sns"
   ]
  },
  {
   "cell_type": "code",
   "execution_count": 178,
   "id": "0827be90",
   "metadata": {},
   "outputs": [],
   "source": [
    "import yfinance as yf"
   ]
  },
  {
   "cell_type": "code",
   "execution_count": 179,
   "id": "0aa9fecb",
   "metadata": {
    "scrolled": true
   },
   "outputs": [
    {
     "data": {
      "text/html": [
       "<div>\n",
       "<style scoped>\n",
       "    .dataframe tbody tr th:only-of-type {\n",
       "        vertical-align: middle;\n",
       "    }\n",
       "\n",
       "    .dataframe tbody tr th {\n",
       "        vertical-align: top;\n",
       "    }\n",
       "\n",
       "    .dataframe thead th {\n",
       "        text-align: right;\n",
       "    }\n",
       "</style>\n",
       "<table border=\"1\" class=\"dataframe\">\n",
       "  <thead>\n",
       "    <tr style=\"text-align: right;\">\n",
       "      <th></th>\n",
       "      <th>Public Company Name (As Listed on Exchange)</th>\n",
       "      <th>B Corp Impact Data ID</th>\n",
       "      <th>Ticker 1</th>\n",
       "      <th>Ticker 2</th>\n",
       "      <th>Ticker 3</th>\n",
       "      <th>IPO Year</th>\n",
       "      <th>Year Delisted</th>\n",
       "      <th>Year Certified</th>\n",
       "      <th>Public Listing Status</th>\n",
       "      <th>Year Decertified</th>\n",
       "    </tr>\n",
       "  </thead>\n",
       "  <tbody>\n",
       "    <tr>\n",
       "      <th>0</th>\n",
       "      <td>Allbirds, Inc.</td>\n",
       "      <td>001C000001SGhnyIAD</td>\n",
       "      <td>NASDAQGS:BIRD</td>\n",
       "      <td>NaN</td>\n",
       "      <td>NaN</td>\n",
       "      <td>2021.0</td>\n",
       "      <td>NaN</td>\n",
       "      <td>2016.0</td>\n",
       "      <td>active</td>\n",
       "      <td>NaN</td>\n",
       "    </tr>\n",
       "    <tr>\n",
       "      <th>1</th>\n",
       "      <td>Amalgamated Financial</td>\n",
       "      <td>001C000001K16JSIAZ</td>\n",
       "      <td>NASDAQGM:AMAL</td>\n",
       "      <td>NaN</td>\n",
       "      <td>NaN</td>\n",
       "      <td>2018.0</td>\n",
       "      <td>NaN</td>\n",
       "      <td>2017.0</td>\n",
       "      <td>active</td>\n",
       "      <td>NaN</td>\n",
       "    </tr>\n",
       "    <tr>\n",
       "      <th>2</th>\n",
       "      <td>AppHarvest, Inc.</td>\n",
       "      <td>0013b00001o41JFAAY</td>\n",
       "      <td>NASDAQGS:APPH</td>\n",
       "      <td>NaN</td>\n",
       "      <td>NaN</td>\n",
       "      <td>2020.0</td>\n",
       "      <td>NaN</td>\n",
       "      <td>2019.0</td>\n",
       "      <td>delisted</td>\n",
       "      <td>2023.0</td>\n",
       "    </tr>\n",
       "    <tr>\n",
       "      <th>3</th>\n",
       "      <td>Arezzo&amp;Co</td>\n",
       "      <td>0013b00001qHFddAAG</td>\n",
       "      <td>BOVESPA:ARZZ3</td>\n",
       "      <td>NaN</td>\n",
       "      <td>NaN</td>\n",
       "      <td>2011.0</td>\n",
       "      <td>NaN</td>\n",
       "      <td>2022.0</td>\n",
       "      <td>active</td>\n",
       "      <td>NaN</td>\n",
       "    </tr>\n",
       "    <tr>\n",
       "      <th>4</th>\n",
       "      <td>Arowana International</td>\n",
       "      <td>001C000001ZzPK4IAN</td>\n",
       "      <td>ASX: AWN</td>\n",
       "      <td>NaN</td>\n",
       "      <td>NaN</td>\n",
       "      <td>2013.0</td>\n",
       "      <td>2021.0</td>\n",
       "      <td>2018.0</td>\n",
       "      <td>delisted</td>\n",
       "      <td>NaN</td>\n",
       "    </tr>\n",
       "  </tbody>\n",
       "</table>\n",
       "</div>"
      ],
      "text/plain": [
       "  Public Company Name (As Listed on Exchange) B Corp Impact Data ID  \\\n",
       "0                              Allbirds, Inc.    001C000001SGhnyIAD   \n",
       "1                       Amalgamated Financial    001C000001K16JSIAZ   \n",
       "2                            AppHarvest, Inc.    0013b00001o41JFAAY   \n",
       "3                                   Arezzo&Co    0013b00001qHFddAAG   \n",
       "4                       Arowana International    001C000001ZzPK4IAN   \n",
       "\n",
       "        Ticker 1 Ticker 2 Ticker 3  IPO Year  Year Delisted  Year Certified  \\\n",
       "0  NASDAQGS:BIRD      NaN      NaN    2021.0            NaN          2016.0   \n",
       "1  NASDAQGM:AMAL      NaN      NaN    2018.0            NaN          2017.0   \n",
       "2  NASDAQGS:APPH      NaN      NaN    2020.0            NaN          2019.0   \n",
       "3  BOVESPA:ARZZ3      NaN      NaN    2011.0            NaN          2022.0   \n",
       "4       ASX: AWN      NaN      NaN    2013.0         2021.0          2018.0   \n",
       "\n",
       "  Public Listing Status  Year Decertified  \n",
       "0                active               NaN  \n",
       "1                active               NaN  \n",
       "2              delisted            2023.0  \n",
       "3                active               NaN  \n",
       "4              delisted               NaN  "
      ]
     },
     "metadata": {},
     "output_type": "display_data"
    }
   ],
   "source": [
    "df = pd.read_csv(\"https://query.data.world/s/pzd7uazpmpyortmg6fsuxiaoizllgu?dws=00000\", encoding='ISO-8859-1')\n",
    "display(df.head())"
   ]
  },
  {
   "cell_type": "code",
   "execution_count": 180,
   "id": "dfafedba",
   "metadata": {
    "scrolled": true
   },
   "outputs": [
    {
     "name": "stdout",
     "output_type": "stream",
     "text": [
      "999\n",
      "68\n"
     ]
    }
   ],
   "source": [
    "df.drop(['B Corp Impact Data ID', 'Ticker 2', 'Ticker 3'], axis=1, inplace = True)\n",
    "print(len(df))\n",
    "df.dropna(axis=0, subset=['Public Company Name (As Listed on Exchange)'], inplace=True)\n",
    "print(len(df))"
   ]
  },
  {
   "cell_type": "code",
   "execution_count": 181,
   "id": "cb3a12d7",
   "metadata": {},
   "outputs": [
    {
     "data": {
      "text/html": [
       "<div>\n",
       "<style scoped>\n",
       "    .dataframe tbody tr th:only-of-type {\n",
       "        vertical-align: middle;\n",
       "    }\n",
       "\n",
       "    .dataframe tbody tr th {\n",
       "        vertical-align: top;\n",
       "    }\n",
       "\n",
       "    .dataframe thead th {\n",
       "        text-align: right;\n",
       "    }\n",
       "</style>\n",
       "<table border=\"1\" class=\"dataframe\">\n",
       "  <thead>\n",
       "    <tr style=\"text-align: right;\">\n",
       "      <th></th>\n",
       "      <th>Public Company Name (As Listed on Exchange)</th>\n",
       "      <th>Ticker 1</th>\n",
       "      <th>IPO Year</th>\n",
       "      <th>Year Delisted</th>\n",
       "      <th>Year Certified</th>\n",
       "      <th>Public Listing Status</th>\n",
       "      <th>Year Decertified</th>\n",
       "    </tr>\n",
       "  </thead>\n",
       "  <tbody>\n",
       "    <tr>\n",
       "      <th>2</th>\n",
       "      <td>AppHarvest, Inc.</td>\n",
       "      <td>NASDAQGS:APPH</td>\n",
       "      <td>2020.0</td>\n",
       "      <td>NaN</td>\n",
       "      <td>2019.0</td>\n",
       "      <td>delisted</td>\n",
       "      <td>2023.0</td>\n",
       "    </tr>\n",
       "    <tr>\n",
       "      <th>4</th>\n",
       "      <td>Arowana International</td>\n",
       "      <td>ASX: AWN</td>\n",
       "      <td>2013.0</td>\n",
       "      <td>2021.0</td>\n",
       "      <td>2018.0</td>\n",
       "      <td>delisted</td>\n",
       "      <td>NaN</td>\n",
       "    </tr>\n",
       "    <tr>\n",
       "      <th>14</th>\n",
       "      <td>Freshlocal Solutions</td>\n",
       "      <td>TSE: LOCL</td>\n",
       "      <td>2019.0</td>\n",
       "      <td>2021.0</td>\n",
       "      <td>2013.0</td>\n",
       "      <td>delisted</td>\n",
       "      <td>NaN</td>\n",
       "    </tr>\n",
       "  </tbody>\n",
       "</table>\n",
       "</div>"
      ],
      "text/plain": [
       "   Public Company Name (As Listed on Exchange)       Ticker 1  IPO Year  \\\n",
       "2                             AppHarvest, Inc.  NASDAQGS:APPH    2020.0   \n",
       "4                        Arowana International       ASX: AWN    2013.0   \n",
       "14                        Freshlocal Solutions      TSE: LOCL    2019.0   \n",
       "\n",
       "    Year Delisted  Year Certified Public Listing Status  Year Decertified  \n",
       "2             NaN          2019.0              delisted            2023.0  \n",
       "4          2021.0          2018.0              delisted               NaN  \n",
       "14         2021.0          2013.0              delisted               NaN  "
      ]
     },
     "metadata": {},
     "output_type": "display_data"
    }
   ],
   "source": [
    "display(df[df['Public Listing Status'] == 'delisted'])"
   ]
  },
  {
   "cell_type": "code",
   "execution_count": 200,
   "id": "29914591",
   "metadata": {
    "scrolled": true
   },
   "outputs": [
    {
     "data": {
      "text/html": [
       "<div>\n",
       "<style scoped>\n",
       "    .dataframe tbody tr th:only-of-type {\n",
       "        vertical-align: middle;\n",
       "    }\n",
       "\n",
       "    .dataframe tbody tr th {\n",
       "        vertical-align: top;\n",
       "    }\n",
       "\n",
       "    .dataframe thead th {\n",
       "        text-align: right;\n",
       "    }\n",
       "</style>\n",
       "<table border=\"1\" class=\"dataframe\">\n",
       "  <thead>\n",
       "    <tr style=\"text-align: right;\">\n",
       "      <th></th>\n",
       "      <th>Public Company Name (As Listed on Exchange)</th>\n",
       "      <th>Ticker 1</th>\n",
       "      <th>IPO Year</th>\n",
       "      <th>Year Delisted</th>\n",
       "      <th>Year Certified</th>\n",
       "      <th>Public Listing Status</th>\n",
       "      <th>Year Decertified</th>\n",
       "      <th>Exchange</th>\n",
       "      <th>Ticker2</th>\n",
       "    </tr>\n",
       "  </thead>\n",
       "  <tbody>\n",
       "    <tr>\n",
       "      <th>24</th>\n",
       "      <td>Kelly Partners Group Holdings Limited</td>\n",
       "      <td>ASX:KPG</td>\n",
       "      <td>2017.0</td>\n",
       "      <td>NaN</td>\n",
       "      <td>2020.0</td>\n",
       "      <td>active</td>\n",
       "      <td>NaN</td>\n",
       "      <td>ASX</td>\n",
       "      <td>KPG</td>\n",
       "    </tr>\n",
       "    <tr>\n",
       "      <th>25</th>\n",
       "      <td>Kin and Carta plc</td>\n",
       "      <td>LSE:KCT</td>\n",
       "      <td>1988.0</td>\n",
       "      <td>NaN</td>\n",
       "      <td>2021.0</td>\n",
       "      <td>active</td>\n",
       "      <td>NaN</td>\n",
       "      <td>LSE</td>\n",
       "      <td>KCT</td>\n",
       "    </tr>\n",
       "    <tr>\n",
       "      <th>26</th>\n",
       "      <td>KMD Brands Limited</td>\n",
       "      <td>NZSE:KMD</td>\n",
       "      <td>2009.0</td>\n",
       "      <td>NaN</td>\n",
       "      <td>2019.0</td>\n",
       "      <td>active</td>\n",
       "      <td>NaN</td>\n",
       "      <td>NZSE</td>\n",
       "      <td>KMD</td>\n",
       "    </tr>\n",
       "    <tr>\n",
       "      <th>27</th>\n",
       "      <td>Lemonade, Inc.</td>\n",
       "      <td>NYSE:LMND</td>\n",
       "      <td>2020.0</td>\n",
       "      <td>NaN</td>\n",
       "      <td>2016.0</td>\n",
       "      <td>active</td>\n",
       "      <td>NaN</td>\n",
       "      <td>NYSE</td>\n",
       "      <td>LMND</td>\n",
       "    </tr>\n",
       "    <tr>\n",
       "      <th>28</th>\n",
       "      <td>Liberty Financial Group</td>\n",
       "      <td>ASX:LFG</td>\n",
       "      <td>2020.0</td>\n",
       "      <td>NaN</td>\n",
       "      <td>2019.0</td>\n",
       "      <td>active</td>\n",
       "      <td>NaN</td>\n",
       "      <td>ASX</td>\n",
       "      <td>LFG</td>\n",
       "    </tr>\n",
       "    <tr>\n",
       "      <th>29</th>\n",
       "      <td>Movida Aluguel de Carros</td>\n",
       "      <td>MOVIDA B3: MOVI3</td>\n",
       "      <td>2017.0</td>\n",
       "      <td>NaN</td>\n",
       "      <td>2020.0</td>\n",
       "      <td>active</td>\n",
       "      <td>NaN</td>\n",
       "      <td>MOVIDA B3</td>\n",
       "      <td>MOVI3</td>\n",
       "    </tr>\n",
       "    <tr>\n",
       "      <th>30</th>\n",
       "      <td>Natura &amp;Co Holding S.A.</td>\n",
       "      <td>BOVESPA:NTCO3</td>\n",
       "      <td>2020.0</td>\n",
       "      <td>NaN</td>\n",
       "      <td>2020.0</td>\n",
       "      <td>active</td>\n",
       "      <td>NaN</td>\n",
       "      <td>BOVESPA</td>\n",
       "      <td>NTCO3</td>\n",
       "    </tr>\n",
       "    <tr>\n",
       "      <th>31</th>\n",
       "      <td>O-Bank Co., Ltd.</td>\n",
       "      <td>TWSE:2897</td>\n",
       "      <td>2006.0</td>\n",
       "      <td>NaN</td>\n",
       "      <td>2017.0</td>\n",
       "      <td>active</td>\n",
       "      <td>NaN</td>\n",
       "      <td>TWSE</td>\n",
       "      <td>2897</td>\n",
       "    </tr>\n",
       "    <tr>\n",
       "      <th>32</th>\n",
       "      <td>Olive Tree Estates</td>\n",
       "      <td>SGX: 1H2</td>\n",
       "      <td>2009.0</td>\n",
       "      <td>NaN</td>\n",
       "      <td>2023.0</td>\n",
       "      <td>active</td>\n",
       "      <td>NaN</td>\n",
       "      <td>SGX</td>\n",
       "      <td>1H2</td>\n",
       "    </tr>\n",
       "    <tr>\n",
       "      <th>33</th>\n",
       "      <td>Quadpack</td>\n",
       "      <td>ENXTPA:ALQP</td>\n",
       "      <td>2016.0</td>\n",
       "      <td>NaN</td>\n",
       "      <td>2022.0</td>\n",
       "      <td>active</td>\n",
       "      <td>NaN</td>\n",
       "      <td>ENXTPA</td>\n",
       "      <td>ALQP</td>\n",
       "    </tr>\n",
       "    <tr>\n",
       "      <th>34</th>\n",
       "      <td>Reti S.p.A.</td>\n",
       "      <td>BIT:RETI</td>\n",
       "      <td>2020.0</td>\n",
       "      <td>NaN</td>\n",
       "      <td>2021.0</td>\n",
       "      <td>active</td>\n",
       "      <td>NaN</td>\n",
       "      <td>BIT</td>\n",
       "      <td>RETI</td>\n",
       "    </tr>\n",
       "    <tr>\n",
       "      <th>35</th>\n",
       "      <td>Sezzle</td>\n",
       "      <td>ASX:SZL</td>\n",
       "      <td>2019.0</td>\n",
       "      <td>NaN</td>\n",
       "      <td>2021.0</td>\n",
       "      <td>active</td>\n",
       "      <td>NaN</td>\n",
       "      <td>ASX</td>\n",
       "      <td>SZL</td>\n",
       "    </tr>\n",
       "    <tr>\n",
       "      <th>36</th>\n",
       "      <td>SIDERPERU</td>\n",
       "      <td>BVL:SIDERC1</td>\n",
       "      <td>2006.0</td>\n",
       "      <td>NaN</td>\n",
       "      <td>2022.0</td>\n",
       "      <td>active</td>\n",
       "      <td>NaN</td>\n",
       "      <td>BVL</td>\n",
       "      <td>SIDERC1</td>\n",
       "    </tr>\n",
       "    <tr>\n",
       "      <th>37</th>\n",
       "      <td>SIGMAXYZ Holdings</td>\n",
       "      <td>TSE:6088</td>\n",
       "      <td>2013.0</td>\n",
       "      <td>NaN</td>\n",
       "      <td>2022.0</td>\n",
       "      <td>active</td>\n",
       "      <td>NaN</td>\n",
       "      <td>TSE</td>\n",
       "      <td>6088</td>\n",
       "    </tr>\n",
       "    <tr>\n",
       "      <th>38</th>\n",
       "      <td>Synlait Milk Limited</td>\n",
       "      <td>NZSE:SML</td>\n",
       "      <td>2013.0</td>\n",
       "      <td>NaN</td>\n",
       "      <td>2020.0</td>\n",
       "      <td>active</td>\n",
       "      <td>NaN</td>\n",
       "      <td>NZSE</td>\n",
       "      <td>SML</td>\n",
       "    </tr>\n",
       "    <tr>\n",
       "      <th>39</th>\n",
       "      <td>The Vita Coco Company, Inc.</td>\n",
       "      <td>NASDAQGS:COCO</td>\n",
       "      <td>2021.0</td>\n",
       "      <td>NaN</td>\n",
       "      <td>2021.0</td>\n",
       "      <td>active</td>\n",
       "      <td>NaN</td>\n",
       "      <td>NASDAQGS</td>\n",
       "      <td>COCO</td>\n",
       "    </tr>\n",
       "    <tr>\n",
       "      <th>41</th>\n",
       "      <td>Urb-it AB (publ)</td>\n",
       "      <td>OM:URBIT</td>\n",
       "      <td>2017.0</td>\n",
       "      <td>NaN</td>\n",
       "      <td>2020.0</td>\n",
       "      <td>active</td>\n",
       "      <td>NaN</td>\n",
       "      <td>OM</td>\n",
       "      <td>URBIT</td>\n",
       "    </tr>\n",
       "    <tr>\n",
       "      <th>42</th>\n",
       "      <td>Vantea SMART S.p.A.</td>\n",
       "      <td>BIT:VNT</td>\n",
       "      <td>2021.0</td>\n",
       "      <td>NaN</td>\n",
       "      <td>2022.0</td>\n",
       "      <td>active</td>\n",
       "      <td>NaN</td>\n",
       "      <td>BIT</td>\n",
       "      <td>VNT</td>\n",
       "    </tr>\n",
       "    <tr>\n",
       "      <th>43</th>\n",
       "      <td>Viña Concha y Toro S.A.</td>\n",
       "      <td>SNSE:CONCHATORO</td>\n",
       "      <td>NaN</td>\n",
       "      <td>NaN</td>\n",
       "      <td>2021.0</td>\n",
       "      <td>active</td>\n",
       "      <td>NaN</td>\n",
       "      <td>SNSE</td>\n",
       "      <td>CONCHATORO</td>\n",
       "    </tr>\n",
       "    <tr>\n",
       "      <th>44</th>\n",
       "      <td>Vital Farms, Inc.</td>\n",
       "      <td>NASDAQGM:VITL</td>\n",
       "      <td>2020.0</td>\n",
       "      <td>NaN</td>\n",
       "      <td>2015.0</td>\n",
       "      <td>active</td>\n",
       "      <td>NaN</td>\n",
       "      <td>NASDAQGM</td>\n",
       "      <td>VITL</td>\n",
       "    </tr>\n",
       "  </tbody>\n",
       "</table>\n",
       "</div>"
      ],
      "text/plain": [
       "   Public Company Name (As Listed on Exchange)          Ticker 1  IPO Year  \\\n",
       "24       Kelly Partners Group Holdings Limited           ASX:KPG    2017.0   \n",
       "25                           Kin and Carta plc           LSE:KCT    1988.0   \n",
       "26                          KMD Brands Limited          NZSE:KMD    2009.0   \n",
       "27                              Lemonade, Inc.         NYSE:LMND    2020.0   \n",
       "28                     Liberty Financial Group           ASX:LFG    2020.0   \n",
       "29                    Movida Aluguel de Carros  MOVIDA B3: MOVI3    2017.0   \n",
       "30                     Natura &Co Holding S.A.     BOVESPA:NTCO3    2020.0   \n",
       "31                            O-Bank Co., Ltd.         TWSE:2897    2006.0   \n",
       "32                          Olive Tree Estates          SGX: 1H2    2009.0   \n",
       "33                                    Quadpack       ENXTPA:ALQP    2016.0   \n",
       "34                                 Reti S.p.A.          BIT:RETI    2020.0   \n",
       "35                                      Sezzle           ASX:SZL    2019.0   \n",
       "36                                   SIDERPERU       BVL:SIDERC1    2006.0   \n",
       "37                           SIGMAXYZ Holdings          TSE:6088    2013.0   \n",
       "38                        Synlait Milk Limited          NZSE:SML    2013.0   \n",
       "39                 The Vita Coco Company, Inc.     NASDAQGS:COCO    2021.0   \n",
       "41                            Urb-it AB (publ)          OM:URBIT    2017.0   \n",
       "42                         Vantea SMART S.p.A.           BIT:VNT    2021.0   \n",
       "43                     Viña Concha y Toro S.A.   SNSE:CONCHATORO       NaN   \n",
       "44                           Vital Farms, Inc.     NASDAQGM:VITL    2020.0   \n",
       "\n",
       "    Year Delisted  Year Certified Public Listing Status  Year Decertified  \\\n",
       "24            NaN          2020.0                active               NaN   \n",
       "25            NaN          2021.0                active               NaN   \n",
       "26            NaN          2019.0                active               NaN   \n",
       "27            NaN          2016.0                active               NaN   \n",
       "28            NaN          2019.0                active               NaN   \n",
       "29            NaN          2020.0                active               NaN   \n",
       "30            NaN          2020.0                active               NaN   \n",
       "31            NaN          2017.0                active               NaN   \n",
       "32            NaN          2023.0                active               NaN   \n",
       "33            NaN          2022.0                active               NaN   \n",
       "34            NaN          2021.0                active               NaN   \n",
       "35            NaN          2021.0                active               NaN   \n",
       "36            NaN          2022.0                active               NaN   \n",
       "37            NaN          2022.0                active               NaN   \n",
       "38            NaN          2020.0                active               NaN   \n",
       "39            NaN          2021.0                active               NaN   \n",
       "41            NaN          2020.0                active               NaN   \n",
       "42            NaN          2022.0                active               NaN   \n",
       "43            NaN          2021.0                active               NaN   \n",
       "44            NaN          2015.0                active               NaN   \n",
       "\n",
       "     Exchange     Ticker2  \n",
       "24        ASX         KPG  \n",
       "25        LSE         KCT  \n",
       "26       NZSE         KMD  \n",
       "27       NYSE        LMND  \n",
       "28        ASX         LFG  \n",
       "29  MOVIDA B3       MOVI3  \n",
       "30    BOVESPA       NTCO3  \n",
       "31       TWSE        2897  \n",
       "32        SGX         1H2  \n",
       "33     ENXTPA        ALQP  \n",
       "34        BIT        RETI  \n",
       "35        ASX         SZL  \n",
       "36        BVL     SIDERC1  \n",
       "37        TSE        6088  \n",
       "38       NZSE         SML  \n",
       "39   NASDAQGS        COCO  \n",
       "41         OM       URBIT  \n",
       "42        BIT         VNT  \n",
       "43       SNSE  CONCHATORO  \n",
       "44   NASDAQGM        VITL  "
      ]
     },
     "metadata": {},
     "output_type": "display_data"
    }
   ],
   "source": [
    "temp = df.copy()\n",
    "temp = temp[temp['Public Listing Status'] == 'active']\n",
    "temp['Exchange'] = temp['Ticker 1'].str.split(\":\").str[0]\n",
    "temp['Ticker2'] = temp['Ticker 1'].str.split(\":\").str[1]\n",
    "temp.dropna(subset=[\"Ticker2\"], inplace=True) \n",
    "\n",
    "display(temp[20:40])"
   ]
  },
  {
   "cell_type": "code",
   "execution_count": 183,
   "id": "0e909d6a",
   "metadata": {},
   "outputs": [
    {
     "data": {
      "text/html": [
       "<div>\n",
       "<style scoped>\n",
       "    .dataframe tbody tr th:only-of-type {\n",
       "        vertical-align: middle;\n",
       "    }\n",
       "\n",
       "    .dataframe tbody tr th {\n",
       "        vertical-align: top;\n",
       "    }\n",
       "\n",
       "    .dataframe thead th {\n",
       "        text-align: right;\n",
       "    }\n",
       "</style>\n",
       "<table border=\"1\" class=\"dataframe\">\n",
       "  <thead>\n",
       "    <tr style=\"text-align: right;\">\n",
       "      <th></th>\n",
       "      <th>Public Company Name (As Listed on Exchange)</th>\n",
       "      <th>Ticker 1</th>\n",
       "      <th>IPO Year</th>\n",
       "      <th>Year Delisted</th>\n",
       "      <th>Year Certified</th>\n",
       "      <th>Public Listing Status</th>\n",
       "      <th>Year Decertified</th>\n",
       "      <th>Exchange</th>\n",
       "      <th>Ticker2</th>\n",
       "    </tr>\n",
       "  </thead>\n",
       "  <tbody>\n",
       "    <tr>\n",
       "      <th>36</th>\n",
       "      <td>SIDERPERU</td>\n",
       "      <td>BVL:SIDERC1</td>\n",
       "      <td>2006.0</td>\n",
       "      <td>NaN</td>\n",
       "      <td>2022.0</td>\n",
       "      <td>active</td>\n",
       "      <td>NaN</td>\n",
       "      <td>BVL</td>\n",
       "      <td>SIDERC1</td>\n",
       "    </tr>\n",
       "  </tbody>\n",
       "</table>\n",
       "</div>"
      ],
      "text/plain": [
       "   Public Company Name (As Listed on Exchange)     Ticker 1  IPO Year  \\\n",
       "36                                   SIDERPERU  BVL:SIDERC1    2006.0   \n",
       "\n",
       "    Year Delisted  Year Certified Public Listing Status  Year Decertified  \\\n",
       "36            NaN          2022.0                active               NaN   \n",
       "\n",
       "   Exchange  Ticker2  \n",
       "36      BVL  SIDERC1  "
      ]
     },
     "execution_count": 183,
     "metadata": {},
     "output_type": "execute_result"
    }
   ],
   "source": [
    "temp[temp['Exchange'] == 'BVL']"
   ]
  },
  {
   "cell_type": "code",
   "execution_count": 184,
   "id": "15beffc7",
   "metadata": {},
   "outputs": [
    {
     "name": "stdout",
     "output_type": "stream",
     "text": [
      "Australia\n",
      "Australia\n",
      "Australia\n",
      "Australia\n",
      "New Zealand\n",
      "Australia\n",
      "Australia\n",
      "Australia\n",
      "Poland\n",
      "Brazil\n",
      "Brazil\n",
      "Brazil\n",
      "United States\n",
      "Canada\n",
      "Belgium\n",
      "France\n",
      "Spain\n",
      "Spain\n",
      "Spain\n",
      "Belgium\n",
      "Belgium\n",
      "Taiwan\n",
      "New Zealand\n",
      "New Zealand\n",
      "New Zealand\n",
      "Italy\n",
      "Italy\n",
      "Italy\n",
      "Israel\n"
     ]
    }
   ],
   "source": [
    "print(yf.Ticker('AEF.XA').info['country'])\n",
    "print(yf.Ticker('BIO.XA').info['country'])\n",
    "print(yf.Ticker('KPG.XA').info['country'])\n",
    "print(yf.Ticker('LFG.XA').info['country'])\n",
    "#yf.Ticker('SZL.XA').info['country']\n",
    "print(yf.Ticker('VHT.XA').info['country'])\n",
    "print(yf.Ticker('ABB.XA').info['country'])\n",
    "print(yf.Ticker('MME.XA').info['country'])\n",
    "print(yf.Ticker('MPR.XA').info['country'])\n",
    "\n",
    "\n",
    "print(yf.Ticker('BFT.WA').info['country'])\n",
    "\n",
    "\n",
    "print(yf.Ticker('ARZZ3.SA').info['country'])\n",
    "print(yf.Ticker('CLSA3.SA').info['country'])\n",
    "print(yf.Ticker('NTCO3.SA').info['country'])\n",
    "\n",
    "print(yf.Ticker('CWEB.TO').info['country'])\n",
    "print(yf.Ticker('FLOW.TO').info['country'])\n",
    "\n",
    "print(yf.Ticker('MLMFI.PA').info['country'])\n",
    "print(yf.Ticker('FREY.PA').info['country'])\n",
    "print(yf.Ticker('ALQP.PA').info['country'])\n",
    "\n",
    "print(yf.Ticker('HAN.MC').info['country'])\n",
    "print(yf.Ticker('HLZ.MC').info['country'])\n",
    "\n",
    "print(yf.Ticker('INCLU.BR').info['country'])\n",
    "print(yf.Ticker('IBAB.BR').info['country'])\n",
    "\n",
    "#print(yf.Ticker('INNATURE.KL').info['country'])\n",
    "#print(yf.Ticker('KCT.AQ').info['country'])\n",
    "print(yf.Ticker('2897.TW').info['country'])\n",
    "\n",
    "print(yf.Ticker('GFI.NZ').info['country'])\n",
    "print(yf.Ticker('KMD.NZ').info['country'])\n",
    "print(yf.Ticker('SML.NZ').info['country'])\n",
    "\n",
    "print(yf.Ticker('RETI.MI').info['country'])\n",
    "print(yf.Ticker('VNT.MI').info['country'])\n",
    "print(yf.Ticker('DOX.MI').info['country'])\n",
    "\n",
    "print(yf.Ticker('HMGS.TA').info['country'])"
   ]
  },
  {
   "cell_type": "code",
   "execution_count": 185,
   "id": "f731b522",
   "metadata": {},
   "outputs": [],
   "source": [
    "ticks = temp['Ticker2'].to_list()\n",
    "#for i in range(len(ticks)):\n",
    "#    print(ticks[i], type(ticks[i]), i)"
   ]
  },
  {
   "cell_type": "code",
   "execution_count": 186,
   "id": "d39de8eb",
   "metadata": {},
   "outputs": [
    {
     "data": {
      "text/plain": [
       "'TIME'"
      ]
     },
     "execution_count": 186,
     "metadata": {},
     "output_type": "execute_result"
    }
   ],
   "source": [
    "ticks.pop(6)\n",
    "ticks.pop(36)\n",
    "ticks.pop(45)"
   ]
  },
  {
   "cell_type": "code",
   "execution_count": 187,
   "id": "01ab4c99",
   "metadata": {},
   "outputs": [
    {
     "name": "stdout",
     "output_type": "stream",
     "text": [
      "BIRD\n",
      "AMAL\n",
      "ARZZ3\n"
     ]
    },
    {
     "name": "stderr",
     "output_type": "stream",
     "text": [
      "404 Client Error: Not Found for url: https://query2.finance.yahoo.com/v10/finance/quoteSummary/ARZZ3?modules=financialData%2CquoteType%2CdefaultKeyStatistics%2CassetProfile%2CsummaryDetail&corsDomain=finance.yahoo.com&formatted=false&symbol=ARZZ3&crumb=7EXPCSf%2FOpS\n"
     ]
    },
    {
     "name": "stdout",
     "output_type": "stream",
     "text": [
      "AEF\n",
      "BFT\n",
      "BIO\n",
      "CLSA3\n"
     ]
    },
    {
     "name": "stderr",
     "output_type": "stream",
     "text": [
      "404 Client Error: Not Found for url: https://query2.finance.yahoo.com/v10/finance/quoteSummary/CLSA3?modules=financialData%2CquoteType%2CdefaultKeyStatistics%2CassetProfile%2CsummaryDetail&corsDomain=finance.yahoo.com&formatted=false&symbol=CLSA3&crumb=7EXPCSf%2FOpS\n"
     ]
    },
    {
     "name": "stdout",
     "output_type": "stream",
     "text": [
      "MLMFI\n"
     ]
    },
    {
     "name": "stderr",
     "output_type": "stream",
     "text": [
      "404 Client Error: Not Found for url: https://query2.finance.yahoo.com/v10/finance/quoteSummary/MLMFI?modules=financialData%2CquoteType%2CdefaultKeyStatistics%2CassetProfile%2CsummaryDetail&corsDomain=finance.yahoo.com&formatted=false&symbol=MLMFI&crumb=7EXPCSf%2FOpS\n"
     ]
    },
    {
     "name": "stdout",
     "output_type": "stream",
     "text": [
      "COUR\n",
      "FLOW\n",
      "FREY\n",
      "GFI\n",
      "GROV\n",
      "HAN\n",
      "EIC\n",
      "HLZ\n",
      "INCLU\n"
     ]
    },
    {
     "name": "stderr",
     "output_type": "stream",
     "text": [
      "404 Client Error: Not Found for url: https://query2.finance.yahoo.com/v10/finance/quoteSummary/INCLU?modules=financialData%2CquoteType%2CdefaultKeyStatistics%2CassetProfile%2CsummaryDetail&corsDomain=finance.yahoo.com&formatted=false&symbol=INCLU&crumb=7EXPCSf%2FOpS\n"
     ]
    },
    {
     "name": "stdout",
     "output_type": "stream",
     "text": [
      " INNATURE\n"
     ]
    },
    {
     "name": "stderr",
     "output_type": "stream",
     "text": [
      "404 Client Error: Not Found for url: https://query2.finance.yahoo.com/v10/finance/quoteSummary/%20INNATURE?modules=financialData%2CquoteType%2CdefaultKeyStatistics%2CassetProfile%2CsummaryDetail&corsDomain=finance.yahoo.com&formatted=false&symbol=+INNATURE&crumb=7EXPCSf%2FOpS\n"
     ]
    },
    {
     "name": "stdout",
     "output_type": "stream",
     "text": [
      "IBAB\n"
     ]
    },
    {
     "name": "stderr",
     "output_type": "stream",
     "text": [
      "404 Client Error: Not Found for url: https://query2.finance.yahoo.com/v10/finance/quoteSummary/IBAB?modules=financialData%2CquoteType%2CdefaultKeyStatistics%2CassetProfile%2CsummaryDetail&corsDomain=finance.yahoo.com&formatted=false&symbol=IBAB&crumb=7EXPCSf%2FOpS\n"
     ]
    },
    {
     "name": "stdout",
     "output_type": "stream",
     "text": [
      "KPG\n",
      "KCT\n",
      "KMD\n",
      "LMND\n",
      "LFG\n",
      " MOVI3\n"
     ]
    },
    {
     "name": "stderr",
     "output_type": "stream",
     "text": [
      "404 Client Error: Not Found for url: https://query2.finance.yahoo.com/v10/finance/quoteSummary/%20MOVI3?modules=financialData%2CquoteType%2CdefaultKeyStatistics%2CassetProfile%2CsummaryDetail&corsDomain=finance.yahoo.com&formatted=false&symbol=+MOVI3&crumb=7EXPCSf%2FOpS\n"
     ]
    },
    {
     "name": "stdout",
     "output_type": "stream",
     "text": [
      "NTCO3\n"
     ]
    },
    {
     "name": "stderr",
     "output_type": "stream",
     "text": [
      "404 Client Error: Not Found for url: https://query2.finance.yahoo.com/v10/finance/quoteSummary/NTCO3?modules=financialData%2CquoteType%2CdefaultKeyStatistics%2CassetProfile%2CsummaryDetail&corsDomain=finance.yahoo.com&formatted=false&symbol=NTCO3&crumb=7EXPCSf%2FOpS\n"
     ]
    },
    {
     "name": "stdout",
     "output_type": "stream",
     "text": [
      "2897\n"
     ]
    },
    {
     "name": "stderr",
     "output_type": "stream",
     "text": [
      "404 Client Error: Not Found for url: https://query2.finance.yahoo.com/v10/finance/quoteSummary/2897?modules=financialData%2CquoteType%2CdefaultKeyStatistics%2CassetProfile%2CsummaryDetail&corsDomain=finance.yahoo.com&formatted=false&symbol=2897&crumb=7EXPCSf%2FOpS\n"
     ]
    },
    {
     "name": "stdout",
     "output_type": "stream",
     "text": [
      " 1H2\n"
     ]
    },
    {
     "name": "stderr",
     "output_type": "stream",
     "text": [
      "404 Client Error: Not Found for url: https://query2.finance.yahoo.com/v10/finance/quoteSummary/%201H2?modules=financialData%2CquoteType%2CdefaultKeyStatistics%2CassetProfile%2CsummaryDetail&corsDomain=finance.yahoo.com&formatted=false&symbol=+1H2&crumb=7EXPCSf%2FOpS\n"
     ]
    },
    {
     "name": "stdout",
     "output_type": "stream",
     "text": [
      "ALQP\n"
     ]
    },
    {
     "name": "stderr",
     "output_type": "stream",
     "text": [
      "404 Client Error: Not Found for url: https://query2.finance.yahoo.com/v10/finance/quoteSummary/ALQP?modules=financialData%2CquoteType%2CdefaultKeyStatistics%2CassetProfile%2CsummaryDetail&corsDomain=finance.yahoo.com&formatted=false&symbol=ALQP&crumb=7EXPCSf%2FOpS\n"
     ]
    },
    {
     "name": "stdout",
     "output_type": "stream",
     "text": [
      "RETI\n"
     ]
    },
    {
     "name": "stderr",
     "output_type": "stream",
     "text": [
      "404 Client Error: Not Found for url: https://query2.finance.yahoo.com/v10/finance/quoteSummary/RETI?modules=financialData%2CquoteType%2CdefaultKeyStatistics%2CassetProfile%2CsummaryDetail&corsDomain=finance.yahoo.com&formatted=false&symbol=RETI&crumb=7EXPCSf%2FOpS\n"
     ]
    },
    {
     "name": "stdout",
     "output_type": "stream",
     "text": [
      "SZL\n",
      "SIDERC1\n"
     ]
    },
    {
     "name": "stderr",
     "output_type": "stream",
     "text": [
      "404 Client Error: Not Found for url: https://query2.finance.yahoo.com/v10/finance/quoteSummary/SIDERC1?modules=financialData%2CquoteType%2CdefaultKeyStatistics%2CassetProfile%2CsummaryDetail&corsDomain=finance.yahoo.com&formatted=false&symbol=SIDERC1&crumb=7EXPCSf%2FOpS\n"
     ]
    },
    {
     "name": "stdout",
     "output_type": "stream",
     "text": [
      "6088\n"
     ]
    },
    {
     "name": "stderr",
     "output_type": "stream",
     "text": [
      "404 Client Error: Not Found for url: https://query2.finance.yahoo.com/v10/finance/quoteSummary/6088?modules=financialData%2CquoteType%2CdefaultKeyStatistics%2CassetProfile%2CsummaryDetail&corsDomain=finance.yahoo.com&formatted=false&symbol=6088&crumb=7EXPCSf%2FOpS\n"
     ]
    },
    {
     "name": "stdout",
     "output_type": "stream",
     "text": [
      "SML\n",
      "COCO\n",
      "URBIT\n"
     ]
    },
    {
     "name": "stderr",
     "output_type": "stream",
     "text": [
      "404 Client Error: Not Found for url: https://query2.finance.yahoo.com/v10/finance/quoteSummary/URBIT?modules=financialData%2CquoteType%2CdefaultKeyStatistics%2CassetProfile%2CsummaryDetail&corsDomain=finance.yahoo.com&formatted=false&symbol=URBIT&crumb=7EXPCSf%2FOpS\n"
     ]
    },
    {
     "name": "stdout",
     "output_type": "stream",
     "text": [
      "CONCHATORO\n",
      "VITL\n",
      "VVPR\n",
      "VHT\n",
      "WRBY\n",
      " BEKB\n"
     ]
    },
    {
     "name": "stderr",
     "output_type": "stream",
     "text": [
      "404 Client Error: Not Found for url: https://query2.finance.yahoo.com/v10/finance/quoteSummary/%20BEKB?modules=financialData%2CquoteType%2CdefaultKeyStatistics%2CassetProfile%2CsummaryDetail&corsDomain=finance.yahoo.com&formatted=false&symbol=+BEKB&crumb=7EXPCSf%2FOpS\n"
     ]
    },
    {
     "name": "stdout",
     "output_type": "stream",
     "text": [
      "ZVIA\n",
      "ABB\n",
      "LSE\n",
      "CVT\n",
      " DOX\n"
     ]
    },
    {
     "name": "stderr",
     "output_type": "stream",
     "text": [
      "404 Client Error: Not Found for url: https://query2.finance.yahoo.com/v10/finance/quoteSummary/%20DOX?modules=financialData%2CquoteType%2CdefaultKeyStatistics%2CassetProfile%2CsummaryDetail&corsDomain=finance.yahoo.com&formatted=false&symbol=+DOX&crumb=7EXPCSf%2FOpS\n"
     ]
    },
    {
     "name": "stdout",
     "output_type": "stream",
     "text": [
      " EMILIANA\n"
     ]
    },
    {
     "name": "stderr",
     "output_type": "stream",
     "text": [
      "404 Client Error: Not Found for url: https://query2.finance.yahoo.com/v10/finance/quoteSummary/%20EMILIANA?modules=financialData%2CquoteType%2CdefaultKeyStatistics%2CassetProfile%2CsummaryDetail&corsDomain=finance.yahoo.com&formatted=false&symbol=+EMILIANA&crumb=7EXPCSf%2FOpS\n"
     ]
    },
    {
     "name": "stdout",
     "output_type": "stream",
     "text": [
      " SOMA3\n"
     ]
    },
    {
     "name": "stderr",
     "output_type": "stream",
     "text": [
      "404 Client Error: Not Found for url: https://query2.finance.yahoo.com/v10/finance/quoteSummary/%20SOMA3?modules=financialData%2CquoteType%2CdefaultKeyStatistics%2CassetProfile%2CsummaryDetail&corsDomain=finance.yahoo.com&formatted=false&symbol=+SOMA3&crumb=7EXPCSf%2FOpS\n"
     ]
    },
    {
     "name": "stdout",
     "output_type": "stream",
     "text": [
      " 1112\n"
     ]
    },
    {
     "name": "stderr",
     "output_type": "stream",
     "text": [
      "404 Client Error: Not Found for url: https://query2.finance.yahoo.com/v10/finance/quoteSummary/%201112?modules=financialData%2CquoteType%2CdefaultKeyStatistics%2CassetProfile%2CsummaryDetail&corsDomain=finance.yahoo.com&formatted=false&symbol=+1112&crumb=7EXPCSf%2FOpS\n"
     ]
    },
    {
     "name": "stdout",
     "output_type": "stream",
     "text": [
      " HMGS\n"
     ]
    },
    {
     "name": "stderr",
     "output_type": "stream",
     "text": [
      "404 Client Error: Not Found for url: https://query2.finance.yahoo.com/v10/finance/quoteSummary/%20HMGS?modules=financialData%2CquoteType%2CdefaultKeyStatistics%2CassetProfile%2CsummaryDetail&corsDomain=finance.yahoo.com&formatted=false&symbol=+HMGS&crumb=7EXPCSf%2FOpS\n"
     ]
    },
    {
     "name": "stdout",
     "output_type": "stream",
     "text": [
      " 1346\n"
     ]
    },
    {
     "name": "stderr",
     "output_type": "stream",
     "text": [
      "404 Client Error: Not Found for url: https://query2.finance.yahoo.com/v10/finance/quoteSummary/%201346?modules=financialData%2CquoteType%2CdefaultKeyStatistics%2CassetProfile%2CsummaryDetail&corsDomain=finance.yahoo.com&formatted=false&symbol=+1346&crumb=7EXPCSf%2FOpS\n"
     ]
    },
    {
     "name": "stdout",
     "output_type": "stream",
     "text": [
      " 0973\n"
     ]
    },
    {
     "name": "stderr",
     "output_type": "stream",
     "text": [
      "404 Client Error: Not Found for url: https://query2.finance.yahoo.com/v10/finance/quoteSummary/%200973?modules=financialData%2CquoteType%2CdefaultKeyStatistics%2CassetProfile%2CsummaryDetail&corsDomain=finance.yahoo.com&formatted=false&symbol=+0973&crumb=7EXPCSf%2FOpS\n"
     ]
    },
    {
     "name": "stdout",
     "output_type": "stream",
     "text": [
      " MME\n"
     ]
    },
    {
     "name": "stderr",
     "output_type": "stream",
     "text": [
      "404 Client Error: Not Found for url: https://query2.finance.yahoo.com/v10/finance/quoteSummary/%20MME?modules=financialData%2CquoteType%2CdefaultKeyStatistics%2CassetProfile%2CsummaryDetail&corsDomain=finance.yahoo.com&formatted=false&symbol=+MME&crumb=7EXPCSf%2FOpS\n"
     ]
    },
    {
     "name": "stdout",
     "output_type": "stream",
     "text": [
      " MPR\n"
     ]
    },
    {
     "name": "stderr",
     "output_type": "stream",
     "text": [
      "404 Client Error: Not Found for url: https://query2.finance.yahoo.com/v10/finance/quoteSummary/%20MPR?modules=financialData%2CquoteType%2CdefaultKeyStatistics%2CassetProfile%2CsummaryDetail&corsDomain=finance.yahoo.com&formatted=false&symbol=+MPR&crumb=7EXPCSf%2FOpS\n"
     ]
    },
    {
     "name": "stdout",
     "output_type": "stream",
     "text": [
      " TENG\n"
     ]
    },
    {
     "name": "stderr",
     "output_type": "stream",
     "text": [
      "404 Client Error: Not Found for url: https://query2.finance.yahoo.com/v10/finance/quoteSummary/%20TENG?modules=financialData%2CquoteType%2CdefaultKeyStatistics%2CassetProfile%2CsummaryDetail&corsDomain=finance.yahoo.com&formatted=false&symbol=+TENG&crumb=7EXPCSf%2FOpS\n"
     ]
    },
    {
     "name": "stdout",
     "output_type": "stream",
     "text": [
      " TPX\n"
     ]
    },
    {
     "name": "stderr",
     "output_type": "stream",
     "text": [
      "404 Client Error: Not Found for url: https://query2.finance.yahoo.com/v10/finance/quoteSummary/%20TPX?modules=financialData%2CquoteType%2CdefaultKeyStatistics%2CassetProfile%2CsummaryDetail&corsDomain=finance.yahoo.com&formatted=false&symbol=+TPX&crumb=7EXPCSf%2FOpS\n"
     ]
    },
    {
     "name": "stdout",
     "output_type": "stream",
     "text": [
      "XSG\n",
      "XHS\n"
     ]
    }
   ],
   "source": [
    "for t in ticks:\n",
    "    print(t)\n",
    "    ticker = yf.Ticker(t)\n",
    "    info = None\n",
    "\n",
    "    try:\n",
    "        info = ticker.info\n",
    "    except:\n",
    "        print(f\"Cannot get info of {t}, it probably does not exist\")\n",
    "    continue\n",
    "\n",
    "  # Got the info of the ticker, do more stuff with it\n",
    "    print(f\"Info of {t}: {info}\")\n"
   ]
  },
  {
   "cell_type": "code",
   "execution_count": 198,
   "id": "e5d28fa3",
   "metadata": {},
   "outputs": [],
   "source": [
    "#yf.Ticker('BFT.WA').info\n",
    "#yf.Ticker('LFG.XA').info"
   ]
  },
  {
   "cell_type": "code",
   "execution_count": 189,
   "id": "bfe2b04b",
   "metadata": {},
   "outputs": [],
   "source": [
    "exchange_dict = {'ASX': '.XA', \n",
    "                 'WSE': '.WA',\n",
    "                 'BOVESPA': '.SA',\n",
    "                 'ETHEX': '',\n",
    "                 'TSX': '.TO',\n",
    "                 'ENXTPA': '.PA',\n",
    "                 'BME': '.MC',\n",
    "                 'ENXTBR': '.BR',\n",
    "                 'KLSE': '.KL',\n",
    "                 'LSE': '.AQ',\n",
    "                 'TWSE': '.TW',\n",
    "                 'NZSE': '.NZ',\n",
    "                 'SGX': '.SI',\n",
    "                 'BIT': '.MI',\n",
    "                 'TASE': '.TA',\n",
    "                 'NYSE': '',\n",
    "                 'NASDAQGS': '',\n",
    "                 'NASDAQGM': '',\n",
    "                 'NASDAQCM': ''\n",
    "                }\n",
    "\n",
    "exchange_map = {exchanges: extention\n",
    "                 for exchanges, extention in exchange_dict.items()\n",
    "                 for exchange in exchanges}\n",
    "\n",
    "#countries_map = {country: continent\n",
    "#                 for continent,countries in continent_dict.items()\n",
    "#                 for country in countries}\n",
    "\n",
    "\n",
    "#current_qtr_largest['continent'] = current_qtr_largest['country'].map(countries_map)\n",
    "temp['Intl Extention'] = temp['Exchange'].map(exchange_map)"
   ]
  },
  {
   "cell_type": "code",
   "execution_count": 190,
   "id": "1d05940c",
   "metadata": {},
   "outputs": [
    {
     "data": {
      "text/html": [
       "<div>\n",
       "<style scoped>\n",
       "    .dataframe tbody tr th:only-of-type {\n",
       "        vertical-align: middle;\n",
       "    }\n",
       "\n",
       "    .dataframe tbody tr th {\n",
       "        vertical-align: top;\n",
       "    }\n",
       "\n",
       "    .dataframe thead th {\n",
       "        text-align: right;\n",
       "    }\n",
       "</style>\n",
       "<table border=\"1\" class=\"dataframe\">\n",
       "  <thead>\n",
       "    <tr style=\"text-align: right;\">\n",
       "      <th></th>\n",
       "      <th>Public Company Name (As Listed on Exchange)</th>\n",
       "      <th>Ticker 1</th>\n",
       "      <th>IPO Year</th>\n",
       "      <th>Year Delisted</th>\n",
       "      <th>Year Certified</th>\n",
       "      <th>Public Listing Status</th>\n",
       "      <th>Year Decertified</th>\n",
       "      <th>Exchange</th>\n",
       "      <th>Ticker2</th>\n",
       "      <th>Intl Extention</th>\n",
       "      <th>Ticker</th>\n",
       "    </tr>\n",
       "  </thead>\n",
       "  <tbody>\n",
       "    <tr>\n",
       "      <th>0</th>\n",
       "      <td>Allbirds, Inc.</td>\n",
       "      <td>NASDAQGS:BIRD</td>\n",
       "      <td>2021.0</td>\n",
       "      <td>NaN</td>\n",
       "      <td>2016.0</td>\n",
       "      <td>active</td>\n",
       "      <td>NaN</td>\n",
       "      <td>NASDAQGS</td>\n",
       "      <td>BIRD</td>\n",
       "      <td></td>\n",
       "      <td>BIRD</td>\n",
       "    </tr>\n",
       "    <tr>\n",
       "      <th>1</th>\n",
       "      <td>Amalgamated Financial</td>\n",
       "      <td>NASDAQGM:AMAL</td>\n",
       "      <td>2018.0</td>\n",
       "      <td>NaN</td>\n",
       "      <td>2017.0</td>\n",
       "      <td>active</td>\n",
       "      <td>NaN</td>\n",
       "      <td>NASDAQGM</td>\n",
       "      <td>AMAL</td>\n",
       "      <td></td>\n",
       "      <td>AMAL</td>\n",
       "    </tr>\n",
       "    <tr>\n",
       "      <th>3</th>\n",
       "      <td>Arezzo&amp;Co</td>\n",
       "      <td>BOVESPA:ARZZ3</td>\n",
       "      <td>2011.0</td>\n",
       "      <td>NaN</td>\n",
       "      <td>2022.0</td>\n",
       "      <td>active</td>\n",
       "      <td>NaN</td>\n",
       "      <td>BOVESPA</td>\n",
       "      <td>ARZZ3</td>\n",
       "      <td>.SA</td>\n",
       "      <td>ARZZ3.SA</td>\n",
       "    </tr>\n",
       "    <tr>\n",
       "      <th>5</th>\n",
       "      <td>Australian Ethical Investment Ltd.</td>\n",
       "      <td>ASX:AEF</td>\n",
       "      <td>2002.0</td>\n",
       "      <td>NaN</td>\n",
       "      <td>2014.0</td>\n",
       "      <td>active</td>\n",
       "      <td>NaN</td>\n",
       "      <td>ASX</td>\n",
       "      <td>AEF</td>\n",
       "      <td>.XA</td>\n",
       "      <td>AEF.XA</td>\n",
       "    </tr>\n",
       "    <tr>\n",
       "      <th>6</th>\n",
       "      <td>Benefit Systems S.A.</td>\n",
       "      <td>WSE:BFT</td>\n",
       "      <td>2013.0</td>\n",
       "      <td>NaN</td>\n",
       "      <td>2018.0</td>\n",
       "      <td>active</td>\n",
       "      <td>NaN</td>\n",
       "      <td>WSE</td>\n",
       "      <td>BFT</td>\n",
       "      <td>.WA</td>\n",
       "      <td>BFT.WA</td>\n",
       "    </tr>\n",
       "    <tr>\n",
       "      <th>7</th>\n",
       "      <td>Biome Australia</td>\n",
       "      <td>ASX:BIO</td>\n",
       "      <td>2021.0</td>\n",
       "      <td>NaN</td>\n",
       "      <td>2021.0</td>\n",
       "      <td>active</td>\n",
       "      <td>NaN</td>\n",
       "      <td>ASX</td>\n",
       "      <td>BIO</td>\n",
       "      <td>.XA</td>\n",
       "      <td>BIO.XA</td>\n",
       "    </tr>\n",
       "    <tr>\n",
       "      <th>9</th>\n",
       "      <td>Charlotte's Web Holdings, Inc.</td>\n",
       "      <td>TSX:CWEB</td>\n",
       "      <td>2018.0</td>\n",
       "      <td>NaN</td>\n",
       "      <td>2020.0</td>\n",
       "      <td>active</td>\n",
       "      <td>NaN</td>\n",
       "      <td>TSX</td>\n",
       "      <td>CWEB</td>\n",
       "      <td>.TO</td>\n",
       "      <td>CWEB.TO</td>\n",
       "    </tr>\n",
       "    <tr>\n",
       "      <th>10</th>\n",
       "      <td>ClearSale S.A.</td>\n",
       "      <td>BOVESPA:CLSA3</td>\n",
       "      <td>2021.0</td>\n",
       "      <td>NaN</td>\n",
       "      <td>2021.0</td>\n",
       "      <td>active</td>\n",
       "      <td>NaN</td>\n",
       "      <td>BOVESPA</td>\n",
       "      <td>CLSA3</td>\n",
       "      <td>.SA</td>\n",
       "      <td>CLSA3.SA</td>\n",
       "    </tr>\n",
       "    <tr>\n",
       "      <th>11</th>\n",
       "      <td>Condor Technologies NV</td>\n",
       "      <td>ENXTPA:MLMFI</td>\n",
       "      <td>2014.0</td>\n",
       "      <td>NaN</td>\n",
       "      <td>2022.0</td>\n",
       "      <td>active</td>\n",
       "      <td>NaN</td>\n",
       "      <td>ENXTPA</td>\n",
       "      <td>MLMFI</td>\n",
       "      <td>.PA</td>\n",
       "      <td>MLMFI.PA</td>\n",
       "    </tr>\n",
       "    <tr>\n",
       "      <th>12</th>\n",
       "      <td>Coursera</td>\n",
       "      <td>NYSE:COUR</td>\n",
       "      <td>2021.0</td>\n",
       "      <td>NaN</td>\n",
       "      <td>2021.0</td>\n",
       "      <td>active</td>\n",
       "      <td>NaN</td>\n",
       "      <td>NYSE</td>\n",
       "      <td>COUR</td>\n",
       "      <td></td>\n",
       "      <td>COUR</td>\n",
       "    </tr>\n",
       "    <tr>\n",
       "      <th>13</th>\n",
       "      <td>Flow Beverage Corp.</td>\n",
       "      <td>TSX:FLOW</td>\n",
       "      <td>2021.0</td>\n",
       "      <td>NaN</td>\n",
       "      <td>2017.0</td>\n",
       "      <td>active</td>\n",
       "      <td>NaN</td>\n",
       "      <td>TSX</td>\n",
       "      <td>FLOW</td>\n",
       "      <td>.TO</td>\n",
       "      <td>FLOW.TO</td>\n",
       "    </tr>\n",
       "    <tr>\n",
       "      <th>15</th>\n",
       "      <td>FREY</td>\n",
       "      <td>ENXTPA:FREY</td>\n",
       "      <td>NaN</td>\n",
       "      <td>NaN</td>\n",
       "      <td>2021.0</td>\n",
       "      <td>active</td>\n",
       "      <td>NaN</td>\n",
       "      <td>ENXTPA</td>\n",
       "      <td>FREY</td>\n",
       "      <td>.PA</td>\n",
       "      <td>FREY.PA</td>\n",
       "    </tr>\n",
       "    <tr>\n",
       "      <th>16</th>\n",
       "      <td>Greenfern Industries</td>\n",
       "      <td>NZSE:GFI</td>\n",
       "      <td>2021.0</td>\n",
       "      <td>NaN</td>\n",
       "      <td>2022.0</td>\n",
       "      <td>active</td>\n",
       "      <td>NaN</td>\n",
       "      <td>NZSE</td>\n",
       "      <td>GFI</td>\n",
       "      <td>.NZ</td>\n",
       "      <td>GFI.NZ</td>\n",
       "    </tr>\n",
       "    <tr>\n",
       "      <th>17</th>\n",
       "      <td>Grove Collaborative Holdings, Inc.</td>\n",
       "      <td>NYSE:GROV</td>\n",
       "      <td>2022.0</td>\n",
       "      <td>NaN</td>\n",
       "      <td>2014.0</td>\n",
       "      <td>active</td>\n",
       "      <td>NaN</td>\n",
       "      <td>NYSE</td>\n",
       "      <td>GROV</td>\n",
       "      <td></td>\n",
       "      <td>GROV</td>\n",
       "    </tr>\n",
       "    <tr>\n",
       "      <th>18</th>\n",
       "      <td>Hannun</td>\n",
       "      <td>BME:HAN</td>\n",
       "      <td>2022.0</td>\n",
       "      <td>NaN</td>\n",
       "      <td>2021.0</td>\n",
       "      <td>active</td>\n",
       "      <td>NaN</td>\n",
       "      <td>BME</td>\n",
       "      <td>HAN</td>\n",
       "      <td>.MC</td>\n",
       "      <td>HAN.MC</td>\n",
       "    </tr>\n",
       "  </tbody>\n",
       "</table>\n",
       "</div>"
      ],
      "text/plain": [
       "   Public Company Name (As Listed on Exchange)       Ticker 1  IPO Year  \\\n",
       "0                               Allbirds, Inc.  NASDAQGS:BIRD    2021.0   \n",
       "1                        Amalgamated Financial  NASDAQGM:AMAL    2018.0   \n",
       "3                                    Arezzo&Co  BOVESPA:ARZZ3    2011.0   \n",
       "5           Australian Ethical Investment Ltd.        ASX:AEF    2002.0   \n",
       "6                         Benefit Systems S.A.        WSE:BFT    2013.0   \n",
       "7                              Biome Australia        ASX:BIO    2021.0   \n",
       "9               Charlotte's Web Holdings, Inc.       TSX:CWEB    2018.0   \n",
       "10                              ClearSale S.A.  BOVESPA:CLSA3    2021.0   \n",
       "11                      Condor Technologies NV   ENXTPA:MLMFI    2014.0   \n",
       "12                                    Coursera      NYSE:COUR    2021.0   \n",
       "13                         Flow Beverage Corp.       TSX:FLOW    2021.0   \n",
       "15                                        FREY    ENXTPA:FREY       NaN   \n",
       "16                        Greenfern Industries       NZSE:GFI    2021.0   \n",
       "17          Grove Collaborative Holdings, Inc.      NYSE:GROV    2022.0   \n",
       "18                                      Hannun        BME:HAN    2022.0   \n",
       "\n",
       "    Year Delisted  Year Certified Public Listing Status  Year Decertified  \\\n",
       "0             NaN          2016.0                active               NaN   \n",
       "1             NaN          2017.0                active               NaN   \n",
       "3             NaN          2022.0                active               NaN   \n",
       "5             NaN          2014.0                active               NaN   \n",
       "6             NaN          2018.0                active               NaN   \n",
       "7             NaN          2021.0                active               NaN   \n",
       "9             NaN          2020.0                active               NaN   \n",
       "10            NaN          2021.0                active               NaN   \n",
       "11            NaN          2022.0                active               NaN   \n",
       "12            NaN          2021.0                active               NaN   \n",
       "13            NaN          2017.0                active               NaN   \n",
       "15            NaN          2021.0                active               NaN   \n",
       "16            NaN          2022.0                active               NaN   \n",
       "17            NaN          2014.0                active               NaN   \n",
       "18            NaN          2021.0                active               NaN   \n",
       "\n",
       "    Exchange Ticker2 Intl Extention    Ticker  \n",
       "0   NASDAQGS    BIRD                     BIRD  \n",
       "1   NASDAQGM    AMAL                     AMAL  \n",
       "3    BOVESPA   ARZZ3            .SA  ARZZ3.SA  \n",
       "5        ASX     AEF            .XA    AEF.XA  \n",
       "6        WSE     BFT            .WA    BFT.WA  \n",
       "7        ASX     BIO            .XA    BIO.XA  \n",
       "9        TSX    CWEB            .TO   CWEB.TO  \n",
       "10   BOVESPA   CLSA3            .SA  CLSA3.SA  \n",
       "11    ENXTPA   MLMFI            .PA  MLMFI.PA  \n",
       "12      NYSE    COUR                     COUR  \n",
       "13       TSX    FLOW            .TO   FLOW.TO  \n",
       "15    ENXTPA    FREY            .PA   FREY.PA  \n",
       "16      NZSE     GFI            .NZ    GFI.NZ  \n",
       "17      NYSE    GROV                     GROV  \n",
       "18       BME     HAN            .MC    HAN.MC  "
      ]
     },
     "execution_count": 190,
     "metadata": {},
     "output_type": "execute_result"
    }
   ],
   "source": [
    "temp.head(15)\n",
    "temp['Ticker'] = temp['Ticker2'] + temp['Intl Extention'] \n",
    "temp.head(15)"
   ]
  },
  {
   "cell_type": "code",
   "execution_count": 191,
   "id": "3d5d33b3",
   "metadata": {
    "scrolled": true
   },
   "outputs": [
    {
     "name": "stdout",
     "output_type": "stream",
     "text": [
      "{'LON', 'ASX', 'KLSE', 'ENXTPA', 'ENXTBR', 'TSX', 'BME', 'BVL', 'NSX', 'LSE', 'NASDAQGS', 'SGX', 'TWSE', 'TSE', 'MOVIDA B3', 'XMIL', 'NZE', 'NASDAQCM', 'NZSE', 'BRK', 'MIL', 'OM', 'SNSE', 'BIT', 'WSE', 'BVMF', 'XSGO', 'NASDAQGM', 'OTC-X', 'NYSE', 'TASE', 'HKG', 'BOVESPA'}\n"
     ]
    }
   ],
   "source": [
    "exchanges = set(temp['Exchange'])\n",
    "print(exchanges)\n",
    "us_ex = ['NYSE', 'NASDAQGS','NASDAQGM', 'NASDAQCM']"
   ]
  },
  {
   "cell_type": "code",
   "execution_count": 192,
   "id": "6937a48d",
   "metadata": {},
   "outputs": [],
   "source": [
    "us = temp[temp['Exchange'].isin(us_ex)]\n",
    "us_intl = temp.copy()"
   ]
  },
  {
   "cell_type": "code",
   "execution_count": 193,
   "id": "b1a3c04a",
   "metadata": {},
   "outputs": [
    {
     "name": "stdout",
     "output_type": "stream",
     "text": [
      "10\n"
     ]
    },
    {
     "data": {
      "text/html": [
       "<div>\n",
       "<style scoped>\n",
       "    .dataframe tbody tr th:only-of-type {\n",
       "        vertical-align: middle;\n",
       "    }\n",
       "\n",
       "    .dataframe tbody tr th {\n",
       "        vertical-align: top;\n",
       "    }\n",
       "\n",
       "    .dataframe thead th {\n",
       "        text-align: right;\n",
       "    }\n",
       "</style>\n",
       "<table border=\"1\" class=\"dataframe\">\n",
       "  <thead>\n",
       "    <tr style=\"text-align: right;\">\n",
       "      <th></th>\n",
       "      <th>Public Company Name (As Listed on Exchange)</th>\n",
       "      <th>Ticker 1</th>\n",
       "      <th>IPO Year</th>\n",
       "      <th>Year Delisted</th>\n",
       "      <th>Year Certified</th>\n",
       "      <th>Public Listing Status</th>\n",
       "      <th>Year Decertified</th>\n",
       "      <th>Exchange</th>\n",
       "      <th>Ticker2</th>\n",
       "      <th>Intl Extention</th>\n",
       "      <th>Ticker</th>\n",
       "    </tr>\n",
       "  </thead>\n",
       "  <tbody>\n",
       "    <tr>\n",
       "      <th>0</th>\n",
       "      <td>Allbirds, Inc.</td>\n",
       "      <td>NASDAQGS:BIRD</td>\n",
       "      <td>2021.0</td>\n",
       "      <td>NaN</td>\n",
       "      <td>2016.0</td>\n",
       "      <td>active</td>\n",
       "      <td>NaN</td>\n",
       "      <td>NASDAQGS</td>\n",
       "      <td>BIRD</td>\n",
       "      <td></td>\n",
       "      <td>BIRD</td>\n",
       "    </tr>\n",
       "    <tr>\n",
       "      <th>1</th>\n",
       "      <td>Amalgamated Financial</td>\n",
       "      <td>NASDAQGM:AMAL</td>\n",
       "      <td>2018.0</td>\n",
       "      <td>NaN</td>\n",
       "      <td>2017.0</td>\n",
       "      <td>active</td>\n",
       "      <td>NaN</td>\n",
       "      <td>NASDAQGM</td>\n",
       "      <td>AMAL</td>\n",
       "      <td></td>\n",
       "      <td>AMAL</td>\n",
       "    </tr>\n",
       "    <tr>\n",
       "      <th>12</th>\n",
       "      <td>Coursera</td>\n",
       "      <td>NYSE:COUR</td>\n",
       "      <td>2021.0</td>\n",
       "      <td>NaN</td>\n",
       "      <td>2021.0</td>\n",
       "      <td>active</td>\n",
       "      <td>NaN</td>\n",
       "      <td>NYSE</td>\n",
       "      <td>COUR</td>\n",
       "      <td></td>\n",
       "      <td>COUR</td>\n",
       "    </tr>\n",
       "    <tr>\n",
       "      <th>17</th>\n",
       "      <td>Grove Collaborative Holdings, Inc.</td>\n",
       "      <td>NYSE:GROV</td>\n",
       "      <td>2022.0</td>\n",
       "      <td>NaN</td>\n",
       "      <td>2014.0</td>\n",
       "      <td>active</td>\n",
       "      <td>NaN</td>\n",
       "      <td>NYSE</td>\n",
       "      <td>GROV</td>\n",
       "      <td></td>\n",
       "      <td>GROV</td>\n",
       "    </tr>\n",
       "    <tr>\n",
       "      <th>27</th>\n",
       "      <td>Lemonade, Inc.</td>\n",
       "      <td>NYSE:LMND</td>\n",
       "      <td>2020.0</td>\n",
       "      <td>NaN</td>\n",
       "      <td>2016.0</td>\n",
       "      <td>active</td>\n",
       "      <td>NaN</td>\n",
       "      <td>NYSE</td>\n",
       "      <td>LMND</td>\n",
       "      <td></td>\n",
       "      <td>LMND</td>\n",
       "    </tr>\n",
       "    <tr>\n",
       "      <th>39</th>\n",
       "      <td>The Vita Coco Company, Inc.</td>\n",
       "      <td>NASDAQGS:COCO</td>\n",
       "      <td>2021.0</td>\n",
       "      <td>NaN</td>\n",
       "      <td>2021.0</td>\n",
       "      <td>active</td>\n",
       "      <td>NaN</td>\n",
       "      <td>NASDAQGS</td>\n",
       "      <td>COCO</td>\n",
       "      <td></td>\n",
       "      <td>COCO</td>\n",
       "    </tr>\n",
       "    <tr>\n",
       "      <th>44</th>\n",
       "      <td>Vital Farms, Inc.</td>\n",
       "      <td>NASDAQGM:VITL</td>\n",
       "      <td>2020.0</td>\n",
       "      <td>NaN</td>\n",
       "      <td>2015.0</td>\n",
       "      <td>active</td>\n",
       "      <td>NaN</td>\n",
       "      <td>NASDAQGM</td>\n",
       "      <td>VITL</td>\n",
       "      <td></td>\n",
       "      <td>VITL</td>\n",
       "    </tr>\n",
       "    <tr>\n",
       "      <th>45</th>\n",
       "      <td>VivoPower International PLC</td>\n",
       "      <td>NASDAQCM:VVPR</td>\n",
       "      <td>2016.0</td>\n",
       "      <td>NaN</td>\n",
       "      <td>2018.0</td>\n",
       "      <td>active</td>\n",
       "      <td>NaN</td>\n",
       "      <td>NASDAQCM</td>\n",
       "      <td>VVPR</td>\n",
       "      <td></td>\n",
       "      <td>VVPR</td>\n",
       "    </tr>\n",
       "    <tr>\n",
       "      <th>47</th>\n",
       "      <td>Warby Parker Inc.</td>\n",
       "      <td>NYSE:WRBY</td>\n",
       "      <td>2021.0</td>\n",
       "      <td>NaN</td>\n",
       "      <td>2011.0</td>\n",
       "      <td>active</td>\n",
       "      <td>NaN</td>\n",
       "      <td>NYSE</td>\n",
       "      <td>WRBY</td>\n",
       "      <td></td>\n",
       "      <td>WRBY</td>\n",
       "    </tr>\n",
       "    <tr>\n",
       "      <th>49</th>\n",
       "      <td>Zevia PBC</td>\n",
       "      <td>NYSE:ZVIA</td>\n",
       "      <td>2021.0</td>\n",
       "      <td>NaN</td>\n",
       "      <td>2021.0</td>\n",
       "      <td>active</td>\n",
       "      <td>NaN</td>\n",
       "      <td>NYSE</td>\n",
       "      <td>ZVIA</td>\n",
       "      <td></td>\n",
       "      <td>ZVIA</td>\n",
       "    </tr>\n",
       "  </tbody>\n",
       "</table>\n",
       "</div>"
      ],
      "text/plain": [
       "   Public Company Name (As Listed on Exchange)       Ticker 1  IPO Year  \\\n",
       "0                               Allbirds, Inc.  NASDAQGS:BIRD    2021.0   \n",
       "1                        Amalgamated Financial  NASDAQGM:AMAL    2018.0   \n",
       "12                                    Coursera      NYSE:COUR    2021.0   \n",
       "17          Grove Collaborative Holdings, Inc.      NYSE:GROV    2022.0   \n",
       "27                              Lemonade, Inc.      NYSE:LMND    2020.0   \n",
       "39                 The Vita Coco Company, Inc.  NASDAQGS:COCO    2021.0   \n",
       "44                           Vital Farms, Inc.  NASDAQGM:VITL    2020.0   \n",
       "45                 VivoPower International PLC  NASDAQCM:VVPR    2016.0   \n",
       "47                           Warby Parker Inc.      NYSE:WRBY    2021.0   \n",
       "49                                   Zevia PBC      NYSE:ZVIA    2021.0   \n",
       "\n",
       "    Year Delisted  Year Certified Public Listing Status  Year Decertified  \\\n",
       "0             NaN          2016.0                active               NaN   \n",
       "1             NaN          2017.0                active               NaN   \n",
       "12            NaN          2021.0                active               NaN   \n",
       "17            NaN          2014.0                active               NaN   \n",
       "27            NaN          2016.0                active               NaN   \n",
       "39            NaN          2021.0                active               NaN   \n",
       "44            NaN          2015.0                active               NaN   \n",
       "45            NaN          2018.0                active               NaN   \n",
       "47            NaN          2011.0                active               NaN   \n",
       "49            NaN          2021.0                active               NaN   \n",
       "\n",
       "    Exchange Ticker2 Intl Extention Ticker  \n",
       "0   NASDAQGS    BIRD                  BIRD  \n",
       "1   NASDAQGM    AMAL                  AMAL  \n",
       "12      NYSE    COUR                  COUR  \n",
       "17      NYSE    GROV                  GROV  \n",
       "27      NYSE    LMND                  LMND  \n",
       "39  NASDAQGS    COCO                  COCO  \n",
       "44  NASDAQGM    VITL                  VITL  \n",
       "45  NASDAQCM    VVPR                  VVPR  \n",
       "47      NYSE    WRBY                  WRBY  \n",
       "49      NYSE    ZVIA                  ZVIA  "
      ]
     },
     "metadata": {},
     "output_type": "display_data"
    }
   ],
   "source": [
    "print(len(us))\n",
    "display(us)"
   ]
  },
  {
   "cell_type": "code",
   "execution_count": 194,
   "id": "e581d5a5",
   "metadata": {
    "scrolled": true
   },
   "outputs": [],
   "source": [
    "add_subs = False\n",
    "public_subs = ['UL', 'PG', 'BUD', 'KO', 'GPS', 'OPY', 'HAIN', 'DANOY']"
   ]
  },
  {
   "cell_type": "code",
   "execution_count": 195,
   "id": "5a75f5fb",
   "metadata": {},
   "outputs": [],
   "source": [
    "def get_stock_data (df):\n",
    "    tickers_list = df['Ticker'].tolist()\n",
    "    if add_subs:\n",
    "        tickers_list = tickers_list + public_subs\n",
    "    tickers_data= {}\n",
    "    \n",
    "    for ticker in tickers_list:\n",
    "        print ('Ticker: ', ticker)\n",
    "        ticker_object = yf.Ticker(ticker)\n",
    "\n",
    "        #convert info() output from dictionary to dataframe\n",
    "        temp = pd.DataFrame.from_dict(ticker_object.info, orient=\"index\")\n",
    "        temp.reset_index(inplace=True)\n",
    "        temp.columns = [\"Attribute\", \"Recent\"]\n",
    "\n",
    "        # add (ticker, dataframe) to main dictionary\n",
    "        tickers_data[ticker] = temp\n",
    "\n",
    "    return tickers_data\n",
    "        \n",
    "        "
   ]
  },
  {
   "cell_type": "code",
   "execution_count": 196,
   "id": "0c8902c1",
   "metadata": {},
   "outputs": [
    {
     "name": "stdout",
     "output_type": "stream",
     "text": [
      "Ticker:  BIRD\n",
      "Ticker:  AMAL\n",
      "Ticker:  COUR\n",
      "Ticker:  GROV\n",
      "Ticker:  LMND\n",
      "Ticker:  COCO\n",
      "Ticker:  VITL\n",
      "Ticker:  VVPR\n",
      "Ticker:  WRBY\n",
      "Ticker:  ZVIA\n"
     ]
    }
   ],
   "source": [
    "yf_data_us = get_stock_data (us)"
   ]
  },
  {
   "cell_type": "code",
   "execution_count": 197,
   "id": "cebf7d01",
   "metadata": {},
   "outputs": [
    {
     "name": "stdout",
     "output_type": "stream",
     "text": [
      "Ticker:  BIRD\n",
      "Ticker:  AMAL\n",
      "Ticker:  ARZZ3.SA\n",
      "Ticker:  AEF.XA\n",
      "Ticker:  BFT.WA\n",
      "Ticker:  BIO.XA\n",
      "Ticker:  CWEB.TO\n",
      "Ticker:  CLSA3.SA\n",
      "Ticker:  MLMFI.PA\n",
      "Ticker:  COUR\n",
      "Ticker:  FLOW.TO\n",
      "Ticker:  FREY.PA\n",
      "Ticker:  GFI.NZ\n",
      "Ticker:  GROV\n",
      "Ticker:  HAN.MC\n",
      "Ticker:  nan\n"
     ]
    },
    {
     "ename": "AttributeError",
     "evalue": "'float' object has no attribute 'upper'",
     "output_type": "error",
     "traceback": [
      "\u001b[0;31m---------------------------------------------------------------------------\u001b[0m",
      "\u001b[0;31mAttributeError\u001b[0m                            Traceback (most recent call last)",
      "\u001b[0;32m/var/folders/p5/k8h2_yjj0nncvy0f82hy1xvc0000gn/T/ipykernel_81053/1403412287.py\u001b[0m in \u001b[0;36m<module>\u001b[0;34m\u001b[0m\n\u001b[0;32m----> 1\u001b[0;31m \u001b[0myf_data_all\u001b[0m \u001b[0;34m=\u001b[0m \u001b[0mget_stock_data\u001b[0m \u001b[0;34m(\u001b[0m\u001b[0mus_intl\u001b[0m\u001b[0;34m)\u001b[0m\u001b[0;34m\u001b[0m\u001b[0;34m\u001b[0m\u001b[0m\n\u001b[0m",
      "\u001b[0;32m/var/folders/p5/k8h2_yjj0nncvy0f82hy1xvc0000gn/T/ipykernel_81053/1370599433.py\u001b[0m in \u001b[0;36mget_stock_data\u001b[0;34m(df)\u001b[0m\n\u001b[1;32m      7\u001b[0m     \u001b[0;32mfor\u001b[0m \u001b[0mticker\u001b[0m \u001b[0;32min\u001b[0m \u001b[0mtickers_list\u001b[0m\u001b[0;34m:\u001b[0m\u001b[0;34m\u001b[0m\u001b[0;34m\u001b[0m\u001b[0m\n\u001b[1;32m      8\u001b[0m         \u001b[0mprint\u001b[0m \u001b[0;34m(\u001b[0m\u001b[0;34m'Ticker: '\u001b[0m\u001b[0;34m,\u001b[0m \u001b[0mticker\u001b[0m\u001b[0;34m)\u001b[0m\u001b[0;34m\u001b[0m\u001b[0;34m\u001b[0m\u001b[0m\n\u001b[0;32m----> 9\u001b[0;31m         \u001b[0mticker_object\u001b[0m \u001b[0;34m=\u001b[0m \u001b[0myf\u001b[0m\u001b[0;34m.\u001b[0m\u001b[0mTicker\u001b[0m\u001b[0;34m(\u001b[0m\u001b[0mticker\u001b[0m\u001b[0;34m)\u001b[0m\u001b[0;34m\u001b[0m\u001b[0;34m\u001b[0m\u001b[0m\n\u001b[0m\u001b[1;32m     10\u001b[0m \u001b[0;34m\u001b[0m\u001b[0m\n\u001b[1;32m     11\u001b[0m         \u001b[0;31m#convert info() output from dictionary to dataframe\u001b[0m\u001b[0;34m\u001b[0m\u001b[0;34m\u001b[0m\u001b[0;34m\u001b[0m\u001b[0m\n",
      "\u001b[0;32m~/opt/anaconda3/lib/python3.8/site-packages/yfinance/ticker.py\u001b[0m in \u001b[0;36m__init__\u001b[0;34m(self, ticker, session, proxy)\u001b[0m\n\u001b[1;32m     32\u001b[0m \u001b[0;32mclass\u001b[0m \u001b[0mTicker\u001b[0m\u001b[0;34m(\u001b[0m\u001b[0mTickerBase\u001b[0m\u001b[0;34m)\u001b[0m\u001b[0;34m:\u001b[0m\u001b[0;34m\u001b[0m\u001b[0;34m\u001b[0m\u001b[0m\n\u001b[1;32m     33\u001b[0m     \u001b[0;32mdef\u001b[0m \u001b[0m__init__\u001b[0m\u001b[0;34m(\u001b[0m\u001b[0mself\u001b[0m\u001b[0;34m,\u001b[0m \u001b[0mticker\u001b[0m\u001b[0;34m,\u001b[0m \u001b[0msession\u001b[0m\u001b[0;34m=\u001b[0m\u001b[0;32mNone\u001b[0m\u001b[0;34m,\u001b[0m \u001b[0mproxy\u001b[0m\u001b[0;34m=\u001b[0m\u001b[0;32mNone\u001b[0m\u001b[0;34m)\u001b[0m\u001b[0;34m:\u001b[0m\u001b[0;34m\u001b[0m\u001b[0;34m\u001b[0m\u001b[0m\n\u001b[0;32m---> 34\u001b[0;31m         \u001b[0msuper\u001b[0m\u001b[0;34m(\u001b[0m\u001b[0mTicker\u001b[0m\u001b[0;34m,\u001b[0m \u001b[0mself\u001b[0m\u001b[0;34m)\u001b[0m\u001b[0;34m.\u001b[0m\u001b[0m__init__\u001b[0m\u001b[0;34m(\u001b[0m\u001b[0mticker\u001b[0m\u001b[0;34m,\u001b[0m \u001b[0msession\u001b[0m\u001b[0;34m=\u001b[0m\u001b[0msession\u001b[0m\u001b[0;34m,\u001b[0m \u001b[0mproxy\u001b[0m\u001b[0;34m=\u001b[0m\u001b[0mproxy\u001b[0m\u001b[0;34m)\u001b[0m\u001b[0;34m\u001b[0m\u001b[0;34m\u001b[0m\u001b[0m\n\u001b[0m\u001b[1;32m     35\u001b[0m         \u001b[0mself\u001b[0m\u001b[0;34m.\u001b[0m\u001b[0m_expirations\u001b[0m \u001b[0;34m=\u001b[0m \u001b[0;34m{\u001b[0m\u001b[0;34m}\u001b[0m\u001b[0;34m\u001b[0m\u001b[0;34m\u001b[0m\u001b[0m\n\u001b[1;32m     36\u001b[0m         \u001b[0mself\u001b[0m\u001b[0;34m.\u001b[0m\u001b[0m_underlying\u001b[0m  \u001b[0;34m=\u001b[0m \u001b[0;34m{\u001b[0m\u001b[0;34m}\u001b[0m\u001b[0;34m\u001b[0m\u001b[0;34m\u001b[0m\u001b[0m\n",
      "\u001b[0;32m~/opt/anaconda3/lib/python3.8/site-packages/yfinance/base.py\u001b[0m in \u001b[0;36m__init__\u001b[0;34m(self, ticker, session, proxy)\u001b[0m\n\u001b[1;32m     51\u001b[0m \u001b[0;32mclass\u001b[0m \u001b[0mTickerBase\u001b[0m\u001b[0;34m:\u001b[0m\u001b[0;34m\u001b[0m\u001b[0;34m\u001b[0m\u001b[0m\n\u001b[1;32m     52\u001b[0m     \u001b[0;32mdef\u001b[0m \u001b[0m__init__\u001b[0m\u001b[0;34m(\u001b[0m\u001b[0mself\u001b[0m\u001b[0;34m,\u001b[0m \u001b[0mticker\u001b[0m\u001b[0;34m,\u001b[0m \u001b[0msession\u001b[0m\u001b[0;34m=\u001b[0m\u001b[0;32mNone\u001b[0m\u001b[0;34m,\u001b[0m \u001b[0mproxy\u001b[0m\u001b[0;34m=\u001b[0m\u001b[0;32mNone\u001b[0m\u001b[0;34m)\u001b[0m\u001b[0;34m:\u001b[0m\u001b[0;34m\u001b[0m\u001b[0;34m\u001b[0m\u001b[0m\n\u001b[0;32m---> 53\u001b[0;31m         \u001b[0mself\u001b[0m\u001b[0;34m.\u001b[0m\u001b[0mticker\u001b[0m \u001b[0;34m=\u001b[0m \u001b[0mticker\u001b[0m\u001b[0;34m.\u001b[0m\u001b[0mupper\u001b[0m\u001b[0;34m(\u001b[0m\u001b[0;34m)\u001b[0m\u001b[0;34m\u001b[0m\u001b[0;34m\u001b[0m\u001b[0m\n\u001b[0m\u001b[1;32m     54\u001b[0m         \u001b[0mself\u001b[0m\u001b[0;34m.\u001b[0m\u001b[0mproxy\u001b[0m \u001b[0;34m=\u001b[0m \u001b[0mproxy\u001b[0m\u001b[0;34m\u001b[0m\u001b[0;34m\u001b[0m\u001b[0m\n\u001b[1;32m     55\u001b[0m         \u001b[0mself\u001b[0m\u001b[0;34m.\u001b[0m\u001b[0msession\u001b[0m \u001b[0;34m=\u001b[0m \u001b[0msession\u001b[0m\u001b[0;34m\u001b[0m\u001b[0;34m\u001b[0m\u001b[0m\n",
      "\u001b[0;31mAttributeError\u001b[0m: 'float' object has no attribute 'upper'"
     ]
    }
   ],
   "source": [
    "yf_data_all = get_stock_data (us_intl)"
   ]
  },
  {
   "cell_type": "markdown",
   "id": "1f4a254e",
   "metadata": {},
   "source": [
    "Attributes = ['address1',\n",
    " 'city',\n",
    " 'state',\n",
    " 'zip',\n",
    " 'country',\n",
    " 'phone',\n",
    " 'website',\n",
    " 'industry',\n",
    " 'industryKey',\n",
    " 'industryDisp',\n",
    " 'sector',\n",
    " 'sectorKey',\n",
    " 'sectorDisp',\n",
    " 'longBusinessSummary',\n",
    " 'fullTimeEmployees',\n",
    " 'companyOfficers',\n",
    " 'auditRisk',\n",
    " 'boardRisk',\n",
    " 'compensationRisk',\n",
    " 'shareHolderRightsRisk',\n",
    " 'overallRisk',\n",
    " 'governanceEpochDate',\n",
    " 'compensationAsOfEpochDate',\n",
    " 'maxAge',\n",
    " 'priceHint',\n",
    " 'previousClose',\n",
    " 'open',\n",
    " 'dayLow',\n",
    " 'dayHigh',\n",
    " 'regularMarketPreviousClose',\n",
    " 'regularMarketOpen',\n",
    " 'regularMarketDayLow',\n",
    " 'regularMarketDayHigh',\n",
    " 'beta',\n",
    " 'forwardPE',\n",
    " 'volume',\n",
    " 'regularMarketVolume',\n",
    " 'averageVolume',\n",
    " 'averageVolume10days',\n",
    " 'averageDailyVolume10Day',\n",
    " 'bid',\n",
    " 'ask',\n",
    " 'bidSize',\n",
    " 'askSize',\n",
    " 'marketCap',\n",
    " 'fiftyTwoWeekLow',\n",
    " 'fiftyTwoWeekHigh',\n",
    " 'priceToSalesTrailing12Months',\n",
    " 'fiftyDayAverage',\n",
    " 'twoHundredDayAverage',\n",
    " 'currency',\n",
    " 'enterpriseValue',\n",
    " 'profitMargins',\n",
    " 'floatShares',\n",
    " 'sharesOutstanding',\n",
    " 'sharesShort',\n",
    " 'sharesShortPriorMonth',\n",
    " 'sharesShortPreviousMonthDate',\n",
    " 'dateShortInterest',\n",
    " 'sharesPercentSharesOut',\n",
    " 'heldPercentInsiders',\n",
    " 'heldPercentInstitutions',\n",
    " 'shortRatio',\n",
    " 'shortPercentOfFloat',\n",
    " 'impliedSharesOutstanding',\n",
    " 'bookValue',\n",
    " 'priceToBook',\n",
    " 'lastFiscalYearEnd',\n",
    " 'nextFiscalYearEnd',\n",
    " 'mostRecentQuarter',\n",
    " 'netIncomeToCommon',\n",
    " 'trailingEps',\n",
    " 'forwardEps',\n",
    " 'pegRatio',\n",
    " 'enterpriseToRevenue',\n",
    " 'enterpriseToEbitda',\n",
    " '52WeekChange',\n",
    " 'SandP52WeekChange',\n",
    " 'exchange',\n",
    " 'quoteType',\n",
    " 'symbol',\n",
    " 'underlyingSymbol',\n",
    " 'shortName',\n",
    " 'longName',\n",
    " 'firstTradeDateEpochUtc',\n",
    " 'timeZoneFullName',\n",
    " 'timeZoneShortName',\n",
    " 'uuid',\n",
    " 'messageBoardId',\n",
    " 'gmtOffSetMilliseconds',\n",
    " 'currentPrice',\n",
    " 'targetHighPrice',\n",
    " 'targetLowPrice',\n",
    " 'targetMeanPrice',\n",
    " 'targetMedianPrice',\n",
    " 'recommendationMean',\n",
    " 'recommendationKey',\n",
    " 'numberOfAnalystOpinions',\n",
    " 'totalCash',\n",
    " 'totalCashPerShare',\n",
    " 'ebitda',\n",
    " 'totalDebt',\n",
    " 'quickRatio',\n",
    " 'currentRatio',\n",
    " 'totalRevenue',\n",
    " 'debtToEquity',\n",
    " 'revenuePerShare',\n",
    " 'returnOnAssets',\n",
    " 'returnOnEquity',\n",
    " 'freeCashflow',\n",
    " 'operatingCashflow',\n",
    " 'revenueGrowth',\n",
    " 'grossMargins',\n",
    " 'ebitdaMargins',\n",
    " 'operatingMargins',\n",
    " 'financialCurrency',\n",
    " 'trailingPegRatio']"
   ]
  },
  {
   "cell_type": "code",
   "execution_count": null,
   "id": "10f5e7a3",
   "metadata": {
    "scrolled": true
   },
   "outputs": [],
   "source": [
    "combined_data = pd.concat(yf_data)\n",
    "combined_data = combined_data.reset_index()\n",
    "\n",
    "del combined_data[\"level_1\"] # clean up unnecessary column\n",
    "combined_data.columns = [\"Ticker\", \"Attribute\", \"Recent\"] # update column names\n"
   ]
  },
  {
   "cell_type": "code",
   "execution_count": null,
   "id": "4194b5f4",
   "metadata": {},
   "outputs": [],
   "source": [
    "attr_to_keep = ['industry', 'sector','previousClose', \n",
    "               'marketCap', 'sharesOutstanding']"
   ]
  },
  {
   "cell_type": "code",
   "execution_count": null,
   "id": "faa912a9",
   "metadata": {},
   "outputs": [],
   "source": [
    "filtered = combined_data[combined_data[\"Attribute\"].isin(attr_to_keep)].reset_index()\n",
    "del filtered[\"index\"] # clean up unnecessary column\n"
   ]
  },
  {
   "cell_type": "code",
   "execution_count": null,
   "id": "56aeca27",
   "metadata": {},
   "outputs": [],
   "source": [
    "display(filtered.head(50))"
   ]
  },
  {
   "cell_type": "code",
   "execution_count": null,
   "id": "a37e436c",
   "metadata": {},
   "outputs": [],
   "source": [
    "def get_price_history (df, start, end, add_subs = False):\n",
    "    tickers_list = df['Ticker'].tolist()\n",
    "    if add_subs:\n",
    "        tickers_list = tickers_list + public_subs\n",
    "\n",
    "    tickers_data= {}\n",
    "    first_object = yf.Ticker(tickers_list[0])\n",
    "    prices = pd.DataFrame.from_dict(first_object.history(start=start, end=end, interval = \"1d\"))\n",
    "    prices.drop(['Open', 'High', 'Low', 'Volume', 'Dividends', 'Stock Splits'], axis=1, inplace=True)\n",
    "    prices.columns = [tickers_list[0]]\n",
    "    \n",
    "    for ticker in tickers_list[1:]:\n",
    "        ticker_object = yf.Ticker(ticker)\n",
    "        temp = pd.DataFrame.from_dict(ticker_object.history(start=start, end=end, interval = \"1d\"))\n",
    "        temp.drop(['Open', 'High', 'Low', 'Volume', 'Dividends', 'Stock Splits'], axis=1, inplace=True)\n",
    "        temp.columns = [ticker]\n",
    "        prices = prices.merge(temp, how=\"outer\", left_index=True, right_index=True)\n",
    "\n",
    "    return prices"
   ]
  },
  {
   "cell_type": "code",
   "execution_count": null,
   "id": "950b011f",
   "metadata": {
    "scrolled": true
   },
   "outputs": [],
   "source": [
    "px_df = get_price_history(us, start=\"2022-01-01\", end = \"2024-02-23\")\n",
    "spx_object = yf.Ticker(\"^GSPC\")\n",
    "spx = pd.DataFrame.from_dict(spx_object.history(start=\"2022-01-01\", end=\"2024-02-23\", interval = \"1d\"))\n",
    "spx"
   ]
  },
  {
   "cell_type": "code",
   "execution_count": null,
   "id": "3390643e",
   "metadata": {},
   "outputs": [],
   "source": [
    "def add_shares_out (df, add_subs = False):\n",
    "    df['BIRD_SharesOut'] = 152850000\n",
    "    df['BIRD_MktCap'] = df['BIRD_SharesOut'] * df['BIRD']\n",
    "\n",
    "    df['AMAL_SharesOut'] = 30430000\n",
    "    df['AMAL_MktCap'] = df['AMAL_SharesOut'] * df['AMAL']\n",
    "\n",
    "    df['COUR_SharesOut'] = 156950000\n",
    "    df['COUR_MktCap'] = df['COUR_SharesOut'] * df['COUR']\n",
    "\n",
    "    df['GROV_SharesOut'] = 37450000\n",
    "    df['GROV_MktCap'] = df['GROV_SharesOut'] * df['GROV']\n",
    "\n",
    "    df['LMND_SharesOut'] = 69920000\n",
    "    df['LMND_MktCap'] = df['LMND_SharesOut'] * df['LMND']\n",
    "\n",
    "    df['COCO_SharesOut'] = 56800000\n",
    "    df['COCO_MktCap'] = df['COCO_SharesOut'] * df['COCO']\n",
    "\n",
    "    df['VITL_SharesOut'] = 41600000\n",
    "    df['VITL_MktCap'] = df['VITL_SharesOut'] * df['VITL']\n",
    "\n",
    "    df['VVPR_SharesOut'] = 3270000\n",
    "    df['VVPR_MktCap'] = df['VVPR_SharesOut'] * df['VVPR']\n",
    "\n",
    "    df['WRBY_SharesOut'] = 117640000\n",
    "    df['WRBY_MktCap'] = df['WRBY_SharesOut'] * df['WRBY']\n",
    "\n",
    "    df['ZVIA_SharesOut'] = 50410000\n",
    "    df['ZVIA_MktCap'] = df['ZVIA_SharesOut'] * df['ZVIA']\n",
    "\n",
    "\n",
    "    if add_subs:\n",
    "        df['UL_SharesOut'] = 2499020000\n",
    "        df['UL_MktCap'] = df['UL_SharesOut'] * df['UL']\n",
    "\n",
    "        df['PG_SharesOut'] = 2353020000\n",
    "        df['PG_MktCap'] = df['PG_SharesOut'] * df['PG']\n",
    "\n",
    "        df['BUD_SharesOut'] = 1986770000\n",
    "        df['BUD_MktCap'] = df['BUD_SharesOut'] * df['BUD']\n",
    "\n",
    "        df['KO_SharesOut'] = 4312460000\n",
    "        df['KO_MktCap'] = df['KO_SharesOut'] * df['KO']\n",
    "\n",
    "\n",
    "        df['GPS_SharesOut'] = 370830000 \n",
    "        df['GPS_MktCap'] = df['GPS_SharesOut'] * df['GPS']\n",
    "\n",
    "\n",
    "        df['OPY_SharesOut'] = 10290000\n",
    "        df['OPY_MktCap'] = df['OPY_SharesOut'] * df['OPY']\n",
    "\n",
    "\n",
    "        df['HAIN_SharesOut'] = 89830000\n",
    "        df['HAIN_MktCap'] = df['HAIN_SharesOut'] * df['HAIN']\n",
    "\n",
    "\n",
    "        df['DANOY_SharesOut'] = 2499020000\n",
    "        df['DANOY_MktCap'] = df['DANOY_SharesOut'] * df['DANOY']\n",
    "        \n",
    "    col_order = df.columns.sort_values().tolist()\n",
    "    df = df[col_order]\n",
    "    \n",
    "    return df\n"
   ]
  },
  {
   "cell_type": "code",
   "execution_count": null,
   "id": "108c99f2",
   "metadata": {},
   "outputs": [],
   "source": [
    "#col_order = px_df.columns.sort_values().tolist()\n",
    "#px_df = px_df[col_order]\n"
   ]
  },
  {
   "cell_type": "code",
   "execution_count": null,
   "id": "638a86f2",
   "metadata": {},
   "outputs": [],
   "source": [
    "#px_df.to_csv('Public_B_Corps.csv')"
   ]
  },
  {
   "cell_type": "code",
   "execution_count": null,
   "id": "1bf3d72e",
   "metadata": {},
   "outputs": [],
   "source": [
    "def calc_index(df, divisor = 1000000000):\n",
    "    cols = df.columns\n",
    "    mkt_cap_cols = []\n",
    "    for col in cols:\n",
    "        if \"MktCap\" in col:\n",
    "            mkt_cap_cols.append(col)\n",
    "    \n",
    "    mkt_cap_df = df[mkt_cap_cols].copy()\n",
    "    \n",
    "    # Sort by beginning mkt cap\n",
    "    baseline_order = mkt_cap_df.iloc[0,:].sort_values(ascending=False)\n",
    "    baseline_all = baseline_order.index.to_list()\n",
    "    \n",
    "    mkt_cap_df['Total_Index'] = mkt_cap_df[baseline_all].sum(axis=1)/divisor\n",
    "    \n",
    "    return mkt_cap_df"
   ]
  },
  {
   "cell_type": "code",
   "execution_count": null,
   "id": "fbd695ee",
   "metadata": {},
   "outputs": [],
   "source": [
    "def separate_subs (df, show_chart = True):\n",
    "\n",
    "    px0 = get_price_history(df, start=\"2022-01-01\", end = \"2024-02-23\", add_subs = True)\n",
    "    px0 = add_shares_out(px0, add_subs = True)\n",
    "    #px0.to_csv('24_03_19_BCorp_Index.csv')\n",
    "    mkt_cap0 = calc_index(px0, divisor = 100000000)\n",
    "    index0 = mkt_cap0[['Total_Index']]\n",
    "    normed_data0 = index0.copy()\n",
    "    normed_data0 = normed_data0.div(normed_data0.iloc[0]).fillna(0)\n",
    "\n",
    "\n",
    "    px1 = get_price_history(df, start=\"2022-01-01\", end = \"2024-02-23\", add_subs = False)\n",
    "    px1 = add_shares_out(px1, add_subs = False)\n",
    "    mkt_cap1 = calc_index(px1, divisor = 10000000)\n",
    "    index1 = mkt_cap1[['Total_Index']]\n",
    "    normed_data1 = index1.copy()\n",
    "    normed_data1 = normed_data1.div(normed_data1.iloc[0]).fillna(0)\n",
    "    \n",
    "    # Add SPX:\n",
    "    normed_spx = spx['Close'].copy()\n",
    "    normed_spx = normed_spx.div(normed_spx.iloc[0]).fillna(0)\n",
    "    \n",
    "    if show_chart:\n",
    "        fig, (ax0, ax1, ax2) = plt.subplots(3, 1, figsize = (20,18))\n",
    "        ax0.plot(normed_data0, color = 'seagreen', linewidth=2, label = 'With Subs')\n",
    "        ax0.legend(loc=3)\n",
    "        ax1.plot(normed_data1, color = 'royalblue', linewidth=2,label='Cert B Corps')\n",
    "        ax1.legend(loc=3)\n",
    "        ax2.plot(normed_data0, color = 'seagreen', linewidth=2, label = 'With Subs')\n",
    "        ax2.plot(normed_data1, color = 'royalblue', linewidth=2, label = 'Cert B Corps')\n",
    "        ax2.plot(normed_spx, color='darkorange', linewidth=2, label = 'SPX')\n",
    "        ax2.legend(loc=3)\n",
    "        plt.show()\n",
    "        \n",
    "    return px0, px1"
   ]
  },
  {
   "cell_type": "code",
   "execution_count": null,
   "id": "2eb78100",
   "metadata": {
    "scrolled": false
   },
   "outputs": [],
   "source": [
    "all_px, bcorp_px = separate_subs(us, show_chart = True)"
   ]
  },
  {
   "cell_type": "code",
   "execution_count": null,
   "id": "7306f675",
   "metadata": {},
   "outputs": [],
   "source": [
    "all_px.to_csv(\"B_Corp_Stocks.csv\")"
   ]
  },
  {
   "cell_type": "markdown",
   "id": "71b79acf",
   "metadata": {},
   "source": [
    "## Construct a Subset - look at reweighting?"
   ]
  },
  {
   "cell_type": "code",
   "execution_count": null,
   "id": "a8ea95b7",
   "metadata": {},
   "outputs": [],
   "source": [
    "def determine_reweighting (df, n=8):\n",
    "    cols = df.columns\n",
    "    mkt_cap_cols = []\n",
    "    for col in cols:\n",
    "        if \"MktCap\" in col:\n",
    "            mkt_cap_cols.append(col)\n",
    "    mkt_cap_df = df[mkt_cap_cols].copy()\n",
    "    \n",
    "    # Sort by beginning mkt cap\n",
    "    baseline_order = mkt_cap_df.iloc[0,:].sort_values(ascending=False)\n",
    "    baseline_all = baseline_order.index.to_list()\n",
    "    baseline_n = baseline_order.index[0:n].to_list()\n",
    "    \n",
    "    #Add Quarterly Flag\n",
    "    mkt_cap_df['Quarter'] = mkt_cap_df.index.quarter\n",
    "    \n",
    "    mkt_cap_df['Reweight'] = mkt_cap_df['Quarter'] - mkt_cap_df['Quarter'].shift(periods=1)\n",
    "    \n",
    "    quarterly = mkt_cap_df[mkt_cap_df['Reweight'].isin([1,-3])]\n",
    "    \n",
    "    for i in range(quarterly.shape[0]):\n",
    "        order = quarterly.iloc[i,:].sort_values(ascending=False)\n",
    "        order_all = order.index.to_list()\n",
    "        order_n = order.index[0:n].to_list()\n",
    "        for j in order_n:\n",
    "            if j not in baseline_n:\n",
    "                print(\"Need to Reweight!\", i, j)\n",
    "                print(\"Baseline n\", baseline_n)\n",
    "                print(\"New n\", order_n)\n",
    "        baseline_n = order_n\n",
    "    \n",
    "    return quarterly\n",
    "    #mkt_cap_df['Total_Index'] = mkt_cap_df[baseline_all].sum(axis=1)/10000000\n",
    "    #mkt_cap_df['Total_Index_8'] = mkt_cap_df[baseline_8].sum(axis=1)/10000000\n",
    "\n",
    "               "
   ]
  },
  {
   "cell_type": "code",
   "execution_count": null,
   "id": "aa238655",
   "metadata": {},
   "outputs": [],
   "source": [
    "quarterly = determine_reweighting(us, n = 12)"
   ]
  },
  {
   "cell_type": "code",
   "execution_count": null,
   "id": "e20c9a2a",
   "metadata": {},
   "outputs": [],
   "source": []
  },
  {
   "cell_type": "code",
   "execution_count": null,
   "id": "208cbfd2",
   "metadata": {},
   "outputs": [],
   "source": []
  },
  {
   "cell_type": "code",
   "execution_count": null,
   "id": "413bbdb1",
   "metadata": {},
   "outputs": [],
   "source": []
  },
  {
   "cell_type": "code",
   "execution_count": null,
   "id": "5255344c",
   "metadata": {},
   "outputs": [],
   "source": []
  },
  {
   "cell_type": "code",
   "execution_count": null,
   "id": "919f8214",
   "metadata": {},
   "outputs": [],
   "source": []
  },
  {
   "cell_type": "markdown",
   "id": "b8a6900a",
   "metadata": {},
   "source": [
    "### Visualization"
   ]
  },
  {
   "cell_type": "code",
   "execution_count": null,
   "id": "c0865602",
   "metadata": {
    "scrolled": true
   },
   "outputs": [],
   "source": []
  },
  {
   "cell_type": "code",
   "execution_count": null,
   "id": "e27d4443",
   "metadata": {},
   "outputs": [],
   "source": []
  },
  {
   "cell_type": "code",
   "execution_count": null,
   "id": "8e97f1b4",
   "metadata": {},
   "outputs": [],
   "source": []
  },
  {
   "cell_type": "code",
   "execution_count": null,
   "id": "9c999e4c",
   "metadata": {},
   "outputs": [],
   "source": []
  },
  {
   "cell_type": "markdown",
   "id": "224a025a",
   "metadata": {},
   "source": [
    "#### Seaborn color maps:\n",
    "‘Accent’, ‘Accent_r’, ‘Blues’, ‘Blues_r’, ‘BrBG’, ‘BrBG_r’, ‘BuGn’, ‘BuGn_r’, ‘BuPu’, ‘BuPu_r’, ‘CMRmap’, ‘CMRmap_r’, ‘Dark2’, ‘Dark2_r’, ‘GnBu’, ‘GnBu_r’, ‘Greens’, ‘Greens_r’, ‘Greys’, ‘Greys_r’, ‘OrRd’, ‘OrRd_r’, ‘Oranges’, ‘Oranges_r’, ‘PRGn’, ‘PRGn_r’, ‘Paired’, ‘Paired_r’, ‘Pastel1’, ‘Pastel1_r’, ‘Pastel2’, ‘Pastel2_r’, ‘PiYG’, ‘PiYG_r’, ‘PuBu’, ‘PuBuGn’, ‘PuBuGn_r’, ‘PuBu_r’, ‘PuOr’, ‘PuOr_r’, ‘PuRd’, ‘PuRd_r’, ‘Purples’, ‘Purples_r’, ‘RdBu’, ‘RdBu_r’, ‘RdGy’, ‘RdGy_r’, ‘RdPu’, ‘RdPu_r’, ‘RdYlBu’, ‘RdYlBu_r’, ‘RdYlGn’, ‘RdYlGn_r’, ‘Reds’, ‘Reds_r’, ‘Set1’, ‘Set1_r’, ‘Set2’, ‘Set2_r’, ‘Set3’, ‘Set3_r’, ‘Spectral’, ‘Spectral_r’, ‘Wistia’, ‘Wistia_r’, ‘YlGn’, ‘YlGnBu’, ‘YlGnBu_r’, ‘YlGn_r’, ‘YlOrBr’, ‘YlOrBr_r’, ‘YlOrRd’, ‘YlOrRd_r’, ‘afmhot’, ‘afmhot_r’, ‘autumn’, ‘autumn_r’, ‘binary’, ‘binary_r’, ‘bone’, ‘bone_r’, ‘brg’, ‘brg_r’, ‘bwr’, ‘bwr_r’, ‘cividis’, ‘cividis_r’, ‘cool’, ‘cool_r’, ‘coolwarm’, ‘coolwarm_r’, ‘copper’, ‘copper_r’, ‘crest’, ‘crest_r’, ‘cubehelix’, ‘cubehelix_r’, ‘flag’, ‘flag_r’, ‘flare’, ‘flare_r’, ‘gist_earth’, ‘gist_earth_r’, ‘gist_gray’, ‘gist_gray_r’, ‘gist_heat’, ‘gist_heat_r’, ‘gist_ncar’, ‘gist_ncar_r’, ‘gist_rainbow’, ‘gist_rainbow_r’, ‘gist_stern’, ‘gist_stern_r’, ‘gist_yarg’, ‘gist_yarg_r’, ‘gnuplot’, ‘gnuplot2’, ‘gnuplot2_r’, ‘gnuplot_r’, ‘gray’, ‘gray_r’, ‘hot’, ‘hot_r’, ‘hsv’, ‘hsv_r’, ‘icefire’, ‘icefire_r’, ‘inferno’, ‘inferno_r’, ‘jet’, ‘jet_r’, ‘magma’, ‘magma_r’, ‘mako’, ‘mako_r’, ‘nipy_spectral’, ‘nipy_spectral_r’, ‘ocean’, ‘ocean_r’, ‘pink’, ‘pink_r’, ‘plasma’, ‘plasma_r’, ‘prism’, ‘prism_r’, ‘rainbow’, ‘rainbow_r’, ‘rocket’, ‘rocket_r’, ‘seismic’, ‘seismic_r’, ‘spring’, ‘spring_r’, ‘summer’, ‘summer_r’, ‘tab10’, ‘tab10_r’, ‘tab20’, ‘tab20_r’, ‘tab20b’, ‘tab20b_r’, ‘tab20c’, ‘tab20c_r’, ‘terrain’, ‘terrain_r’, ‘turbo’, ‘turbo_r’, ‘twilight’, ‘twilight_r’, ‘twilight_shifted’, ‘twilight_shifted_r’, ‘viridis’, ‘viridis_r’, ‘vlag’, ‘vlag_r’, ‘winter’, ‘winter_r’"
   ]
  }
 ],
 "metadata": {
  "kernelspec": {
   "display_name": "Python 3 (ipykernel)",
   "language": "python",
   "name": "python3"
  },
  "language_info": {
   "codemirror_mode": {
    "name": "ipython",
    "version": 3
   },
   "file_extension": ".py",
   "mimetype": "text/x-python",
   "name": "python",
   "nbconvert_exporter": "python",
   "pygments_lexer": "ipython3",
   "version": "3.8.8"
  }
 },
 "nbformat": 4,
 "nbformat_minor": 5
}
